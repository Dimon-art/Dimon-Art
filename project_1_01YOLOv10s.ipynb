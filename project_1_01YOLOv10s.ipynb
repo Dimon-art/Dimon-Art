{
  "nbformat": 4,
  "nbformat_minor": 0,
  "metadata": {
    "colab": {
      "private_outputs": true,
      "provenance": [],
      "authorship_tag": "ABX9TyN8daq+STlHjYeK92xtRrtJ",
      "include_colab_link": true
    },
    "kernelspec": {
      "name": "python3",
      "display_name": "Python 3"
    },
    "language_info": {
      "name": "python"
    }
  },
  "cells": [
    {
      "cell_type": "markdown",
      "metadata": {
        "id": "view-in-github",
        "colab_type": "text"
      },
      "source": [
        "<a href=\"https://colab.research.google.com/github/Dimon-art/Dimon-Art/blob/main/project_1_01YOLOv10s.ipynb\" target=\"_parent\"><img src=\"https://colab.research.google.com/assets/colab-badge.svg\" alt=\"Open In Colab\"/></a>"
      ]
    },
    {
      "cell_type": "code",
      "source": [
        "from google.colab import drive\n",
        "drive.mount('/content/drive')"
      ],
      "metadata": {
        "id": "U6c6PVDmeXTo"
      },
      "execution_count": null,
      "outputs": []
    },
    {
      "cell_type": "code",
      "execution_count": null,
      "metadata": {
        "id": "WDVdHmlAcz2d"
      },
      "outputs": [],
      "source": [
        "# Установка YOLOv10\n",
        "!pip install -q git+https://github.com/ultralytics/ultralytics.git\n",
        "\n",
        "# Подготовка данных\n",
        "import os\n",
        "\n",
        "DATASET_DIR = '/content/drive/MyDrive/proplex_1/inclusions_all/dataset'  # Путь к вашему набору данных\n",
        "\n",
        "data_yaml = f\"\"\"\n",
        "train: {DATASET_DIR}//content/drive/MyDrive/proplex_1/inclusions_all/dataset/images/train  # Путь к обучающим изображениям\n",
        "val: {DATASET_DIR}//content/drive/MyDrive/proplex_1/inclusions_all/dataset/images/valid      # Путь к валидационным изображениям\n",
        "#val: {DATASET_DIR}/val/images      # Путь к валидационным изображениям\n",
        "\n",
        "nc: 4  # Количество классов\n",
        "names: ['class1', 'class2', 'class3','class4']  # Названия классов\n",
        "\"\"\"\n",
        "\n",
        "\n",
        "class1 = 'scratch'\n",
        "class2 ='marker'\n",
        "class3 = 'oil'\n",
        "class4 = 'punctures'\n",
        "\n",
        "\n",
        "# Сохранение data.yaml\n",
        "with open(f\"{DATASET_DIR}/data.yaml\", \"w\") as f:\n",
        "    f.write(data_yaml)\n",
        "\n"
      ]
    },
    {
      "cell_type": "code",
      "source": [
        "!pip install -q git+https://github.com/ultralytics/ultralytics.git"
      ],
      "metadata": {
        "id": "U6xB_BPQf1Ub"
      },
      "execution_count": null,
      "outputs": []
    },
    {
      "cell_type": "code",
      "source": [
        "# Обучение модели YOLOv10\n",
        "from ultralytics import YOLO\n",
        "\n",
        "model = YOLO('yolov10s.pt')  # Загрузка модели\n",
        "\n",
        "# Обучение с включением графиков\n",
        "results = model.train(data=f\"{DATASET_DIR}/data.yaml\", epochs=50, imgsz=640, batch=16, plots=True)\n",
        "\n",
        "# Оценка модели\n",
        "metrics = model.val(data=f\"{DATASET_DIR}/data.yaml\")\n",
        "print(metrics)"
      ],
      "metadata": {
        "id": "0nJ49Jh6f0V2"
      },
      "execution_count": null,
      "outputs": []
    },
    {
      "cell_type": "code",
      "source": [
        "# Установка YOLOv10\n",
        "!pip install -q git+https://github.com/ultralytics/ultralytics.git\n",
        "\n",
        "# Подготовка данных\n",
        "import os\n",
        "\n",
        "# Путь к вашему набору данных\n",
        "DATASET_DIR = '/content/drive/MyDrive/proplex_1/inclusions_all/dataset'\n",
        "\n",
        "# Создание файла data.yaml с указанием путей к обучающим и валидационным изображениям\n",
        "data_yaml = f\"\"\"\n",
        "train: {DATASET_DIR}/images/train  # Путь к обучающим изображениям\n",
        "val: {DATASET_DIR}/images/valid      # Путь к валидационным изображениям\n",
        "\n",
        "nc: 4  # Количество классов\n",
        "names: ['scratch', 'marker', 'oil', 'punctures']  # Названия классов\n",
        "\"\"\"\n",
        "\n",
        "# Сохранение data.yaml\n",
        "with open(f\"{DATASET_DIR}/data.yaml\", \"w\") as f:\n",
        "    f.write(data_yaml)\n",
        "\n",
        "# Обучение модели YOLOv10\n",
        "from ultralytics import YOLO\n",
        "\n",
        "model = YOLO('yolov10s.pt')  # Загрузка модели\n",
        "\n",
        "# Обучение с включением графиков\n",
        "results = model.train(data=f\"{DATASET_DIR}/data.yaml\", epochs=50, imgsz=640, batch=16, plots=True)\n",
        "\n",
        "# Оценка модели\n",
        "metrics = model.val(data=f\"{DATASET_DIR}/data.yaml\")\n",
        "print(metrics)"
      ],
      "metadata": {
        "id": "mSEx4eSbkBjv"
      },
      "execution_count": null,
      "outputs": []
    }
  ]
}