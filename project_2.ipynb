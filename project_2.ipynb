{
  "nbformat": 4,
  "nbformat_minor": 0,
  "metadata": {
    "colab": {
      "provenance": [],
      "authorship_tag": "ABX9TyM0CWmpcsv7oapObsONsf5V",
      "include_colab_link": true
    },
    "kernelspec": {
      "name": "python3",
      "display_name": "Python 3"
    },
    "language_info": {
      "name": "python"
    }
  },
  "cells": [
    {
      "cell_type": "markdown",
      "metadata": {
        "id": "view-in-github",
        "colab_type": "text"
      },
      "source": [
        "<a href=\"https://colab.research.google.com/github/Dimon-art/Dimon-Art/blob/main/project_2.ipynb\" target=\"_parent\"><img src=\"https://colab.research.google.com/assets/colab-badge.svg\" alt=\"Open In Colab\"/></a>"
      ]
    },
    {
      "cell_type": "code",
      "source": [
        "#@title Libraries\n",
        "\n",
        "!pip install TerraYolo\n",
        "# Установка autokeras\n",
        "!pip install autokeras\n",
        "\n",
        "!pip install tensorflow==2.15\n",
        "import os\n",
        "import shutil\n",
        "import random\n",
        "import gdown\n",
        "import cv2\n",
        "import matplotlib.pyplot as plt\n",
        "from PIL import Image\n",
        "from TerraYolo.TerraYolo import TerraYoloV5"
      ],
      "metadata": {
        "id": "Ra0ArO8lsEG_",
        "colab": {
          "base_uri": "https://localhost:8080/"
        },
        "outputId": "914c2121-f13d-423d-8b2b-26dafe9cf8c5"
      },
      "execution_count": 1,
      "outputs": [
        {
          "output_type": "stream",
          "name": "stdout",
          "text": [
            "Collecting TerraYolo\n",
            "  Downloading TerraYolo-0.0.33-py3-none-any.whl.metadata (129 bytes)\n",
            "Downloading TerraYolo-0.0.33-py3-none-any.whl (39 kB)\n",
            "Installing collected packages: TerraYolo\n",
            "Successfully installed TerraYolo-0.0.33\n",
            "Collecting autokeras\n",
            "  Downloading autokeras-2.0.0-py3-none-any.whl.metadata (5.8 kB)\n",
            "Requirement already satisfied: packaging in /usr/local/lib/python3.10/dist-packages (from autokeras) (24.1)\n",
            "Collecting keras-tuner>=1.4.0 (from autokeras)\n",
            "  Downloading keras_tuner-1.4.7-py3-none-any.whl.metadata (5.4 kB)\n",
            "Collecting keras-nlp>=0.8.0 (from autokeras)\n",
            "  Downloading keras_nlp-0.15.1-py3-none-any.whl.metadata (6.7 kB)\n",
            "Requirement already satisfied: keras>=3.0.0 in /usr/local/lib/python3.10/dist-packages (from autokeras) (3.4.1)\n",
            "Requirement already satisfied: dm-tree in /usr/local/lib/python3.10/dist-packages (from autokeras) (0.1.8)\n",
            "Requirement already satisfied: absl-py in /usr/local/lib/python3.10/dist-packages (from keras>=3.0.0->autokeras) (1.4.0)\n",
            "Requirement already satisfied: numpy in /usr/local/lib/python3.10/dist-packages (from keras>=3.0.0->autokeras) (1.26.4)\n",
            "Requirement already satisfied: rich in /usr/local/lib/python3.10/dist-packages (from keras>=3.0.0->autokeras) (13.8.1)\n",
            "Requirement already satisfied: namex in /usr/local/lib/python3.10/dist-packages (from keras>=3.0.0->autokeras) (0.0.8)\n",
            "Requirement already satisfied: h5py in /usr/local/lib/python3.10/dist-packages (from keras>=3.0.0->autokeras) (3.11.0)\n",
            "Requirement already satisfied: optree in /usr/local/lib/python3.10/dist-packages (from keras>=3.0.0->autokeras) (0.12.1)\n",
            "Requirement already satisfied: ml-dtypes in /usr/local/lib/python3.10/dist-packages (from keras>=3.0.0->autokeras) (0.4.1)\n",
            "Requirement already satisfied: regex in /usr/local/lib/python3.10/dist-packages (from keras-nlp>=0.8.0->autokeras) (2024.9.11)\n",
            "Requirement already satisfied: kagglehub in /usr/local/lib/python3.10/dist-packages (from keras-nlp>=0.8.0->autokeras) (0.2.9)\n",
            "Collecting tensorflow-text (from keras-nlp>=0.8.0->autokeras)\n",
            "  Downloading tensorflow_text-2.17.0-cp310-cp310-manylinux_2_17_x86_64.manylinux2014_x86_64.whl.metadata (1.8 kB)\n",
            "Requirement already satisfied: requests in /usr/local/lib/python3.10/dist-packages (from keras-tuner>=1.4.0->autokeras) (2.32.3)\n",
            "Collecting kt-legacy (from keras-tuner>=1.4.0->autokeras)\n",
            "  Downloading kt_legacy-1.0.5-py3-none-any.whl.metadata (221 bytes)\n",
            "Requirement already satisfied: tqdm in /usr/local/lib/python3.10/dist-packages (from kagglehub->keras-nlp>=0.8.0->autokeras) (4.66.5)\n",
            "Requirement already satisfied: typing-extensions>=4.5.0 in /usr/local/lib/python3.10/dist-packages (from optree->keras>=3.0.0->autokeras) (4.12.2)\n",
            "Requirement already satisfied: charset-normalizer<4,>=2 in /usr/local/lib/python3.10/dist-packages (from requests->keras-tuner>=1.4.0->autokeras) (3.3.2)\n",
            "Requirement already satisfied: idna<4,>=2.5 in /usr/local/lib/python3.10/dist-packages (from requests->keras-tuner>=1.4.0->autokeras) (3.10)\n",
            "Requirement already satisfied: urllib3<3,>=1.21.1 in /usr/local/lib/python3.10/dist-packages (from requests->keras-tuner>=1.4.0->autokeras) (2.0.7)\n",
            "Requirement already satisfied: certifi>=2017.4.17 in /usr/local/lib/python3.10/dist-packages (from requests->keras-tuner>=1.4.0->autokeras) (2024.8.30)\n",
            "Requirement already satisfied: markdown-it-py>=2.2.0 in /usr/local/lib/python3.10/dist-packages (from rich->keras>=3.0.0->autokeras) (3.0.0)\n",
            "Requirement already satisfied: pygments<3.0.0,>=2.13.0 in /usr/local/lib/python3.10/dist-packages (from rich->keras>=3.0.0->autokeras) (2.18.0)\n",
            "Requirement already satisfied: tensorflow<2.18,>=2.17.0 in /usr/local/lib/python3.10/dist-packages (from tensorflow-text->keras-nlp>=0.8.0->autokeras) (2.17.0)\n",
            "Requirement already satisfied: mdurl~=0.1 in /usr/local/lib/python3.10/dist-packages (from markdown-it-py>=2.2.0->rich->keras>=3.0.0->autokeras) (0.1.2)\n",
            "Requirement already satisfied: astunparse>=1.6.0 in /usr/local/lib/python3.10/dist-packages (from tensorflow<2.18,>=2.17.0->tensorflow-text->keras-nlp>=0.8.0->autokeras) (1.6.3)\n",
            "Requirement already satisfied: flatbuffers>=24.3.25 in /usr/local/lib/python3.10/dist-packages (from tensorflow<2.18,>=2.17.0->tensorflow-text->keras-nlp>=0.8.0->autokeras) (24.3.25)\n",
            "Requirement already satisfied: gast!=0.5.0,!=0.5.1,!=0.5.2,>=0.2.1 in /usr/local/lib/python3.10/dist-packages (from tensorflow<2.18,>=2.17.0->tensorflow-text->keras-nlp>=0.8.0->autokeras) (0.6.0)\n",
            "Requirement already satisfied: google-pasta>=0.1.1 in /usr/local/lib/python3.10/dist-packages (from tensorflow<2.18,>=2.17.0->tensorflow-text->keras-nlp>=0.8.0->autokeras) (0.2.0)\n",
            "Requirement already satisfied: libclang>=13.0.0 in /usr/local/lib/python3.10/dist-packages (from tensorflow<2.18,>=2.17.0->tensorflow-text->keras-nlp>=0.8.0->autokeras) (18.1.1)\n",
            "Requirement already satisfied: opt-einsum>=2.3.2 in /usr/local/lib/python3.10/dist-packages (from tensorflow<2.18,>=2.17.0->tensorflow-text->keras-nlp>=0.8.0->autokeras) (3.3.0)\n",
            "Requirement already satisfied: protobuf!=4.21.0,!=4.21.1,!=4.21.2,!=4.21.3,!=4.21.4,!=4.21.5,<5.0.0dev,>=3.20.3 in /usr/local/lib/python3.10/dist-packages (from tensorflow<2.18,>=2.17.0->tensorflow-text->keras-nlp>=0.8.0->autokeras) (3.20.3)\n",
            "Requirement already satisfied: setuptools in /usr/local/lib/python3.10/dist-packages (from tensorflow<2.18,>=2.17.0->tensorflow-text->keras-nlp>=0.8.0->autokeras) (71.0.4)\n",
            "Requirement already satisfied: six>=1.12.0 in /usr/local/lib/python3.10/dist-packages (from tensorflow<2.18,>=2.17.0->tensorflow-text->keras-nlp>=0.8.0->autokeras) (1.16.0)\n",
            "Requirement already satisfied: termcolor>=1.1.0 in /usr/local/lib/python3.10/dist-packages (from tensorflow<2.18,>=2.17.0->tensorflow-text->keras-nlp>=0.8.0->autokeras) (2.4.0)\n",
            "Requirement already satisfied: wrapt>=1.11.0 in /usr/local/lib/python3.10/dist-packages (from tensorflow<2.18,>=2.17.0->tensorflow-text->keras-nlp>=0.8.0->autokeras) (1.16.0)\n",
            "Requirement already satisfied: grpcio<2.0,>=1.24.3 in /usr/local/lib/python3.10/dist-packages (from tensorflow<2.18,>=2.17.0->tensorflow-text->keras-nlp>=0.8.0->autokeras) (1.64.1)\n",
            "Requirement already satisfied: tensorboard<2.18,>=2.17 in /usr/local/lib/python3.10/dist-packages (from tensorflow<2.18,>=2.17.0->tensorflow-text->keras-nlp>=0.8.0->autokeras) (2.17.0)\n",
            "Requirement already satisfied: tensorflow-io-gcs-filesystem>=0.23.1 in /usr/local/lib/python3.10/dist-packages (from tensorflow<2.18,>=2.17.0->tensorflow-text->keras-nlp>=0.8.0->autokeras) (0.37.1)\n",
            "Requirement already satisfied: wheel<1.0,>=0.23.0 in /usr/local/lib/python3.10/dist-packages (from astunparse>=1.6.0->tensorflow<2.18,>=2.17.0->tensorflow-text->keras-nlp>=0.8.0->autokeras) (0.44.0)\n",
            "Requirement already satisfied: markdown>=2.6.8 in /usr/local/lib/python3.10/dist-packages (from tensorboard<2.18,>=2.17->tensorflow<2.18,>=2.17.0->tensorflow-text->keras-nlp>=0.8.0->autokeras) (3.7)\n",
            "Requirement already satisfied: tensorboard-data-server<0.8.0,>=0.7.0 in /usr/local/lib/python3.10/dist-packages (from tensorboard<2.18,>=2.17->tensorflow<2.18,>=2.17.0->tensorflow-text->keras-nlp>=0.8.0->autokeras) (0.7.2)\n",
            "Requirement already satisfied: werkzeug>=1.0.1 in /usr/local/lib/python3.10/dist-packages (from tensorboard<2.18,>=2.17->tensorflow<2.18,>=2.17.0->tensorflow-text->keras-nlp>=0.8.0->autokeras) (3.0.4)\n",
            "Requirement already satisfied: MarkupSafe>=2.1.1 in /usr/local/lib/python3.10/dist-packages (from werkzeug>=1.0.1->tensorboard<2.18,>=2.17->tensorflow<2.18,>=2.17.0->tensorflow-text->keras-nlp>=0.8.0->autokeras) (2.1.5)\n",
            "Downloading autokeras-2.0.0-py3-none-any.whl (122 kB)\n",
            "\u001b[2K   \u001b[90m━━━━━━━━━━━━━━━━━━━━━━━━━━━━━━━━━━━━━━━━\u001b[0m \u001b[32m122.7/122.7 kB\u001b[0m \u001b[31m1.8 MB/s\u001b[0m eta \u001b[36m0:00:00\u001b[0m\n",
            "\u001b[?25hDownloading keras_nlp-0.15.1-py3-none-any.whl (548 kB)\n",
            "\u001b[2K   \u001b[90m━━━━━━━━━━━━━━━━━━━━━━━━━━━━━━━━━━━━━━━━\u001b[0m \u001b[32m548.4/548.4 kB\u001b[0m \u001b[31m12.9 MB/s\u001b[0m eta \u001b[36m0:00:00\u001b[0m\n",
            "\u001b[?25hDownloading keras_tuner-1.4.7-py3-none-any.whl (129 kB)\n",
            "\u001b[2K   \u001b[90m━━━━━━━━━━━━━━━━━━━━━━━━━━━━━━━━━━━━━━━━\u001b[0m \u001b[32m129.1/129.1 kB\u001b[0m \u001b[31m3.2 MB/s\u001b[0m eta \u001b[36m0:00:00\u001b[0m\n",
            "\u001b[?25hDownloading kt_legacy-1.0.5-py3-none-any.whl (9.6 kB)\n",
            "Downloading tensorflow_text-2.17.0-cp310-cp310-manylinux_2_17_x86_64.manylinux2014_x86_64.whl (5.2 MB)\n",
            "\u001b[2K   \u001b[90m━━━━━━━━━━━━━━━━━━━━━━━━━━━━━━━━━━━━━━━━\u001b[0m \u001b[32m5.2/5.2 MB\u001b[0m \u001b[31m29.4 MB/s\u001b[0m eta \u001b[36m0:00:00\u001b[0m\n",
            "\u001b[?25hInstalling collected packages: kt-legacy, keras-tuner, tensorflow-text, keras-nlp, autokeras\n",
            "Successfully installed autokeras-2.0.0 keras-nlp-0.15.1 keras-tuner-1.4.7 kt-legacy-1.0.5 tensorflow-text-2.17.0\n",
            "Collecting tensorflow==2.15\n",
            "  Downloading tensorflow-2.15.0-cp310-cp310-manylinux_2_17_x86_64.manylinux2014_x86_64.whl.metadata (4.4 kB)\n",
            "Requirement already satisfied: absl-py>=1.0.0 in /usr/local/lib/python3.10/dist-packages (from tensorflow==2.15) (1.4.0)\n",
            "Requirement already satisfied: astunparse>=1.6.0 in /usr/local/lib/python3.10/dist-packages (from tensorflow==2.15) (1.6.3)\n",
            "Requirement already satisfied: flatbuffers>=23.5.26 in /usr/local/lib/python3.10/dist-packages (from tensorflow==2.15) (24.3.25)\n",
            "Requirement already satisfied: gast!=0.5.0,!=0.5.1,!=0.5.2,>=0.2.1 in /usr/local/lib/python3.10/dist-packages (from tensorflow==2.15) (0.6.0)\n",
            "Requirement already satisfied: google-pasta>=0.1.1 in /usr/local/lib/python3.10/dist-packages (from tensorflow==2.15) (0.2.0)\n",
            "Requirement already satisfied: h5py>=2.9.0 in /usr/local/lib/python3.10/dist-packages (from tensorflow==2.15) (3.11.0)\n",
            "Requirement already satisfied: libclang>=13.0.0 in /usr/local/lib/python3.10/dist-packages (from tensorflow==2.15) (18.1.1)\n",
            "Collecting ml-dtypes~=0.2.0 (from tensorflow==2.15)\n",
            "  Downloading ml_dtypes-0.2.0-cp310-cp310-manylinux_2_17_x86_64.manylinux2014_x86_64.whl.metadata (20 kB)\n",
            "Requirement already satisfied: numpy<2.0.0,>=1.23.5 in /usr/local/lib/python3.10/dist-packages (from tensorflow==2.15) (1.26.4)\n",
            "Requirement already satisfied: opt-einsum>=2.3.2 in /usr/local/lib/python3.10/dist-packages (from tensorflow==2.15) (3.3.0)\n",
            "Requirement already satisfied: packaging in /usr/local/lib/python3.10/dist-packages (from tensorflow==2.15) (24.1)\n",
            "Requirement already satisfied: protobuf!=4.21.0,!=4.21.1,!=4.21.2,!=4.21.3,!=4.21.4,!=4.21.5,<5.0.0dev,>=3.20.3 in /usr/local/lib/python3.10/dist-packages (from tensorflow==2.15) (3.20.3)\n",
            "Requirement already satisfied: setuptools in /usr/local/lib/python3.10/dist-packages (from tensorflow==2.15) (71.0.4)\n",
            "Requirement already satisfied: six>=1.12.0 in /usr/local/lib/python3.10/dist-packages (from tensorflow==2.15) (1.16.0)\n",
            "Requirement already satisfied: termcolor>=1.1.0 in /usr/local/lib/python3.10/dist-packages (from tensorflow==2.15) (2.4.0)\n",
            "Requirement already satisfied: typing-extensions>=3.6.6 in /usr/local/lib/python3.10/dist-packages (from tensorflow==2.15) (4.12.2)\n",
            "Collecting wrapt<1.15,>=1.11.0 (from tensorflow==2.15)\n",
            "  Downloading wrapt-1.14.1-cp310-cp310-manylinux_2_5_x86_64.manylinux1_x86_64.manylinux_2_17_x86_64.manylinux2014_x86_64.whl.metadata (6.7 kB)\n",
            "Requirement already satisfied: tensorflow-io-gcs-filesystem>=0.23.1 in /usr/local/lib/python3.10/dist-packages (from tensorflow==2.15) (0.37.1)\n",
            "Requirement already satisfied: grpcio<2.0,>=1.24.3 in /usr/local/lib/python3.10/dist-packages (from tensorflow==2.15) (1.64.1)\n",
            "Collecting tensorboard<2.16,>=2.15 (from tensorflow==2.15)\n",
            "  Downloading tensorboard-2.15.2-py3-none-any.whl.metadata (1.7 kB)\n",
            "Collecting tensorflow-estimator<2.16,>=2.15.0 (from tensorflow==2.15)\n",
            "  Downloading tensorflow_estimator-2.15.0-py2.py3-none-any.whl.metadata (1.3 kB)\n",
            "Collecting keras<2.16,>=2.15.0 (from tensorflow==2.15)\n",
            "  Downloading keras-2.15.0-py3-none-any.whl.metadata (2.4 kB)\n",
            "Requirement already satisfied: wheel<1.0,>=0.23.0 in /usr/local/lib/python3.10/dist-packages (from astunparse>=1.6.0->tensorflow==2.15) (0.44.0)\n",
            "Requirement already satisfied: google-auth<3,>=1.6.3 in /usr/local/lib/python3.10/dist-packages (from tensorboard<2.16,>=2.15->tensorflow==2.15) (2.27.0)\n",
            "Requirement already satisfied: google-auth-oauthlib<2,>=0.5 in /usr/local/lib/python3.10/dist-packages (from tensorboard<2.16,>=2.15->tensorflow==2.15) (1.2.1)\n",
            "Requirement already satisfied: markdown>=2.6.8 in /usr/local/lib/python3.10/dist-packages (from tensorboard<2.16,>=2.15->tensorflow==2.15) (3.7)\n",
            "Requirement already satisfied: requests<3,>=2.21.0 in /usr/local/lib/python3.10/dist-packages (from tensorboard<2.16,>=2.15->tensorflow==2.15) (2.32.3)\n",
            "Requirement already satisfied: tensorboard-data-server<0.8.0,>=0.7.0 in /usr/local/lib/python3.10/dist-packages (from tensorboard<2.16,>=2.15->tensorflow==2.15) (0.7.2)\n",
            "Requirement already satisfied: werkzeug>=1.0.1 in /usr/local/lib/python3.10/dist-packages (from tensorboard<2.16,>=2.15->tensorflow==2.15) (3.0.4)\n",
            "Requirement already satisfied: cachetools<6.0,>=2.0.0 in /usr/local/lib/python3.10/dist-packages (from google-auth<3,>=1.6.3->tensorboard<2.16,>=2.15->tensorflow==2.15) (5.5.0)\n",
            "Requirement already satisfied: pyasn1-modules>=0.2.1 in /usr/local/lib/python3.10/dist-packages (from google-auth<3,>=1.6.3->tensorboard<2.16,>=2.15->tensorflow==2.15) (0.4.1)\n",
            "Requirement already satisfied: rsa<5,>=3.1.4 in /usr/local/lib/python3.10/dist-packages (from google-auth<3,>=1.6.3->tensorboard<2.16,>=2.15->tensorflow==2.15) (4.9)\n",
            "Requirement already satisfied: requests-oauthlib>=0.7.0 in /usr/local/lib/python3.10/dist-packages (from google-auth-oauthlib<2,>=0.5->tensorboard<2.16,>=2.15->tensorflow==2.15) (1.3.1)\n",
            "Requirement already satisfied: charset-normalizer<4,>=2 in /usr/local/lib/python3.10/dist-packages (from requests<3,>=2.21.0->tensorboard<2.16,>=2.15->tensorflow==2.15) (3.3.2)\n",
            "Requirement already satisfied: idna<4,>=2.5 in /usr/local/lib/python3.10/dist-packages (from requests<3,>=2.21.0->tensorboard<2.16,>=2.15->tensorflow==2.15) (3.10)\n",
            "Requirement already satisfied: urllib3<3,>=1.21.1 in /usr/local/lib/python3.10/dist-packages (from requests<3,>=2.21.0->tensorboard<2.16,>=2.15->tensorflow==2.15) (2.0.7)\n",
            "Requirement already satisfied: certifi>=2017.4.17 in /usr/local/lib/python3.10/dist-packages (from requests<3,>=2.21.0->tensorboard<2.16,>=2.15->tensorflow==2.15) (2024.8.30)\n",
            "Requirement already satisfied: MarkupSafe>=2.1.1 in /usr/local/lib/python3.10/dist-packages (from werkzeug>=1.0.1->tensorboard<2.16,>=2.15->tensorflow==2.15) (2.1.5)\n",
            "Requirement already satisfied: pyasn1<0.7.0,>=0.4.6 in /usr/local/lib/python3.10/dist-packages (from pyasn1-modules>=0.2.1->google-auth<3,>=1.6.3->tensorboard<2.16,>=2.15->tensorflow==2.15) (0.6.1)\n",
            "Requirement already satisfied: oauthlib>=3.0.0 in /usr/local/lib/python3.10/dist-packages (from requests-oauthlib>=0.7.0->google-auth-oauthlib<2,>=0.5->tensorboard<2.16,>=2.15->tensorflow==2.15) (3.2.2)\n",
            "Downloading tensorflow-2.15.0-cp310-cp310-manylinux_2_17_x86_64.manylinux2014_x86_64.whl (475.2 MB)\n",
            "\u001b[2K   \u001b[90m━━━━━━━━━━━━━━━━━━━━━━━━━━━━━━━━━━━━━━━━\u001b[0m \u001b[32m475.2/475.2 MB\u001b[0m \u001b[31m3.8 MB/s\u001b[0m eta \u001b[36m0:00:00\u001b[0m\n",
            "\u001b[?25hDownloading keras-2.15.0-py3-none-any.whl (1.7 MB)\n",
            "\u001b[2K   \u001b[90m━━━━━━━━━━━━━━━━━━━━━━━━━━━━━━━━━━━━━━━━\u001b[0m \u001b[32m1.7/1.7 MB\u001b[0m \u001b[31m48.2 MB/s\u001b[0m eta \u001b[36m0:00:00\u001b[0m\n",
            "\u001b[?25hDownloading ml_dtypes-0.2.0-cp310-cp310-manylinux_2_17_x86_64.manylinux2014_x86_64.whl (1.0 MB)\n",
            "\u001b[2K   \u001b[90m━━━━━━━━━━━━━━━━━━━━━━━━━━━━━━━━━━━━━━━━\u001b[0m \u001b[32m1.0/1.0 MB\u001b[0m \u001b[31m42.9 MB/s\u001b[0m eta \u001b[36m0:00:00\u001b[0m\n",
            "\u001b[?25hDownloading tensorboard-2.15.2-py3-none-any.whl (5.5 MB)\n",
            "\u001b[2K   \u001b[90m━━━━━━━━━━━━━━━━━━━━━━━━━━━━━━━━━━━━━━━━\u001b[0m \u001b[32m5.5/5.5 MB\u001b[0m \u001b[31m70.8 MB/s\u001b[0m eta \u001b[36m0:00:00\u001b[0m\n",
            "\u001b[?25hDownloading tensorflow_estimator-2.15.0-py2.py3-none-any.whl (441 kB)\n",
            "\u001b[2K   \u001b[90m━━━━━━━━━━━━━━━━━━━━━━━━━━━━━━━━━━━━━━━━\u001b[0m \u001b[32m442.0/442.0 kB\u001b[0m \u001b[31m30.7 MB/s\u001b[0m eta \u001b[36m0:00:00\u001b[0m\n",
            "\u001b[?25hDownloading wrapt-1.14.1-cp310-cp310-manylinux_2_5_x86_64.manylinux1_x86_64.manylinux_2_17_x86_64.manylinux2014_x86_64.whl (77 kB)\n",
            "\u001b[2K   \u001b[90m━━━━━━━━━━━━━━━━━━━━━━━━━━━━━━━━━━━━━━━━\u001b[0m \u001b[32m77.9/77.9 kB\u001b[0m \u001b[31m6.8 MB/s\u001b[0m eta \u001b[36m0:00:00\u001b[0m\n",
            "\u001b[?25hInstalling collected packages: wrapt, tensorflow-estimator, ml-dtypes, keras, tensorboard, tensorflow\n",
            "  Attempting uninstall: wrapt\n",
            "    Found existing installation: wrapt 1.16.0\n",
            "    Uninstalling wrapt-1.16.0:\n",
            "      Successfully uninstalled wrapt-1.16.0\n",
            "  Attempting uninstall: ml-dtypes\n",
            "    Found existing installation: ml-dtypes 0.4.1\n",
            "    Uninstalling ml-dtypes-0.4.1:\n",
            "      Successfully uninstalled ml-dtypes-0.4.1\n",
            "  Attempting uninstall: keras\n",
            "    Found existing installation: keras 3.4.1\n",
            "    Uninstalling keras-3.4.1:\n",
            "      Successfully uninstalled keras-3.4.1\n",
            "  Attempting uninstall: tensorboard\n",
            "    Found existing installation: tensorboard 2.17.0\n",
            "    Uninstalling tensorboard-2.17.0:\n",
            "      Successfully uninstalled tensorboard-2.17.0\n",
            "  Attempting uninstall: tensorflow\n",
            "    Found existing installation: tensorflow 2.17.0\n",
            "    Uninstalling tensorflow-2.17.0:\n",
            "      Successfully uninstalled tensorflow-2.17.0\n",
            "\u001b[31mERROR: pip's dependency resolver does not currently take into account all the packages that are installed. This behaviour is the source of the following dependency conflicts.\n",
            "autokeras 2.0.0 requires keras>=3.0.0, but you have keras 2.15.0 which is incompatible.\n",
            "tensorflow-text 2.17.0 requires tensorflow<2.18,>=2.17.0, but you have tensorflow 2.15.0 which is incompatible.\n",
            "tensorstore 0.1.65 requires ml-dtypes>=0.3.1, but you have ml-dtypes 0.2.0 which is incompatible.\n",
            "tf-keras 2.17.0 requires tensorflow<2.18,>=2.17, but you have tensorflow 2.15.0 which is incompatible.\u001b[0m\u001b[31m\n",
            "\u001b[0mSuccessfully installed keras-2.15.0 ml-dtypes-0.2.0 tensorboard-2.15.2 tensorflow-2.15.0 tensorflow-estimator-2.15.0 wrapt-1.14.1\n"
          ]
        }
      ]
    },
    {
      "cell_type": "code",
      "source": [
        "# Подключение библиотек\n",
        "import os\n",
        "import random\n",
        "import matplotlib.pyplot as plt\n",
        "import matplotlib.image as mpimg\n",
        "import numpy as np"
      ],
      "metadata": {
        "id": "tGs9G9Gp6EAA"
      },
      "execution_count": 2,
      "outputs": []
    },
    {
      "cell_type": "code",
      "source": [
        "from google.colab import drive\n",
        "drive.mount('/content/drive/')"
      ],
      "metadata": {
        "colab": {
          "base_uri": "https://localhost:8080/"
        },
        "id": "10jIzTeFCZ3J",
        "outputId": "c7de90e9-1489-400f-cff9-8d886bb17cbb"
      },
      "execution_count": 3,
      "outputs": [
        {
          "output_type": "stream",
          "name": "stdout",
          "text": [
            "Mounted at /content/drive/\n"
          ]
        }
      ]
    },
    {
      "cell_type": "code",
      "source": [
        "#@title дополнительные функции\n",
        "def samples(directory_path, grid_size):\n",
        "    \"\"\"\n",
        "    Функция, которая выводит на экран случайные изображения из указанной директории.\n",
        "\n",
        "    Параметры:\n",
        "        directory_path (str): Путь к директории с изображениями.\n",
        "        grid_size (tuple): Кортеж из двух чисел (rows, cols), задающий размер сетки вывода изображений.\n",
        "\n",
        "    \"\"\"\n",
        "    # Проверяем существование директории\n",
        "    if not os.path.exists(directory_path) or not os.path.isdir(directory_path):\n",
        "        print(f\"Директория '{directory_path}' не существует или не является директорией.\")\n",
        "        return\n",
        "\n",
        "    # Извлекаем количество строк и столбцов из grid_size\n",
        "    rows, cols = grid_size\n",
        "\n",
        "    # Получаем список всех файлов в директории\n",
        "    file_list = os.listdir(directory_path)\n",
        "\n",
        "    # Перемешиваем файлы в случайном порядке\n",
        "    random.shuffle(file_list)\n",
        "\n",
        "    # Выбираем только указанное количество файлов\n",
        "    num_images = rows * cols\n",
        "    random_images = file_list[:num_images]\n",
        "\n",
        "    # Создаем сетку для вывода изображений\n",
        "    fig, axs = plt.subplots(rows, cols, figsize=(10, 8))\n",
        "\n",
        "    # Выводим изображения на экран\n",
        "    for i in range(rows):\n",
        "        for j in range(cols):\n",
        "            image_path = os.path.join(directory_path, random_images[i * cols + j])\n",
        "            img = mpimg.imread(image_path)\n",
        "            axs[i, j].imshow(img)\n",
        "            axs[i, j].axis('off')  # Отключаем оси координат для чистоты вывода\n",
        "\n",
        "    # Показываем сетку с изображениями\n",
        "    plt.tight_layout()\n",
        "    plt.show()"
      ],
      "metadata": {
        "id": "nDQmFKGQ6MSg"
      },
      "execution_count": 6,
      "outputs": []
    },
    {
      "cell_type": "code",
      "source": [
        "import os\n",
        "\n",
        "path = '/content/drive/MyDrive/tf/tf/TFODCourse/Tensorflow/workspace/images/train/(1)puncture'\n",
        "print(os.listdir(path))"
      ],
      "metadata": {
        "colab": {
          "base_uri": "https://localhost:8080/"
        },
        "id": "ZAznYF6uDrQO",
        "outputId": "e3ccc4e3-328e-4820-c0c6-0c4af2e38455"
      },
      "execution_count": 4,
      "outputs": [
        {
          "output_type": "stream",
          "name": "stdout",
          "text": [
            "['frame_00017.png', 'frame_00016.png', 'frame_00015.png', 'frame_00014.png', 'frame_00013.png', 'frame_00012.png', 'frame_00011.png', 'frame_00010.png', 'frame_00009.png', 'frame_00008.png', 'frame_00007.png', 'frame_00006.png', 'frame_00005.png', 'frame_00004.png', 'frame_00003.png', 'frame_00002.png', 'frame_00001.png', 'frame_00000.png']\n"
          ]
        }
      ]
    },
    {
      "cell_type": "code",
      "source": [
        "import gdown\n",
        "\n",
        "url = 'https://drive.google.com/file/d/1A0WW2lge9trZg7lICCynH5BikchmF9-E/view?pli=1'\n",
        "output = 'archive.zip' # имя файла, под которым будет сохранен архив\n",
        "\n",
        "gdown.download(url, output, quiet=False)"
      ],
      "metadata": {
        "colab": {
          "base_uri": "https://localhost:8080/",
          "height": 159
        },
        "id": "bj5n8ZyNAhy1",
        "outputId": "bb91f918-b2af-4650-9a7c-79584075dd2d"
      },
      "execution_count": 5,
      "outputs": [
        {
          "output_type": "stream",
          "name": "stderr",
          "text": [
            "/usr/local/lib/python3.10/dist-packages/gdown/parse_url.py:48: UserWarning: You specified a Google Drive link that is not the correct link to download a file. You might want to try `--fuzzy` option or the following url: https://drive.google.com/uc?id=1A0WW2lge9trZg7lICCynH5BikchmF9-E\n",
            "  warnings.warn(\n",
            "Downloading...\n",
            "From: https://drive.google.com/file/d/1A0WW2lge9trZg7lICCynH5BikchmF9-E/view?pli=1\n",
            "To: /content/archive.zip\n",
            "87.1kB [00:00, 31.2MB/s]\n"
          ]
        },
        {
          "output_type": "execute_result",
          "data": {
            "text/plain": [
              "'archive.zip'"
            ],
            "application/vnd.google.colaboratory.intrinsic+json": {
              "type": "string"
            }
          },
          "metadata": {},
          "execution_count": 5
        }
      ]
    },
    {
      "cell_type": "code",
      "source": [
        "import os\n",
        "\n",
        "archive_path = os.path.abspath('archive.zip')\n",
        "print(archive_path)"
      ],
      "metadata": {
        "colab": {
          "base_uri": "https://localhost:8080/"
        },
        "id": "AFDqoFidAlan",
        "outputId": "c363812d-5d85-47a1-edfd-0ce505b5badf"
      },
      "execution_count": 7,
      "outputs": [
        {
          "output_type": "stream",
          "name": "stdout",
          "text": [
            "/content/archive.zip\n"
          ]
        }
      ]
    },
    {
      "cell_type": "code",
      "source": [
        "import cv2  # Для работы с изображениями\n",
        "import numpy as np\n",
        "\n",
        "# Список файлов в директории\n",
        "file_names = os.listdir(path)\n",
        "\n",
        "# Пример загрузки первого изображения\n",
        "image_path = os.path.join(path, file_names[0])\n",
        "image = cv2.imread(image_path)  # Загрузка изображения\n"
      ],
      "metadata": {
        "id": "QQgayDJTDvZG"
      },
      "execution_count": 8,
      "outputs": []
    },
    {
      "cell_type": "code",
      "source": [
        "from google.oauth2.credentials import Credentials"
      ],
      "metadata": {
        "id": "nkv1ZBr8IRYI"
      },
      "execution_count": 14,
      "outputs": []
    },
    {
      "cell_type": "code",
      "source": [
        "import os\n",
        "import glob\n",
        "from google.oauth2.credentials import Credentials\n",
        "\n",
        "# Определяем Scope для доступа к Google Drive API\n",
        "SCOPES = ['https://www.googleapis.com/auth/drive.readonly']\n",
        "\n",
        "# Ищем файл client_secrets.json в текущей рабочей директории и в поддиректориях\n",
        "client_secrets_files = glob.glob(os.path.join(os.getcwd(), \"**\", \"client_secrets.json\"), recursive=True)\n",
        "\n",
        "# Проверяем, найден ли файл client_secrets.json\n",
        "if not client_secrets_files:\n",
        "    print(\"Файл client_secrets.json не найден.\")\n",
        "else:\n",
        "    # Берем первый найденный файл client_secrets.json\n",
        "    client_secrets_file = client_secrets_files[0]\n",
        "\n",
        "    # Получаем объект Credentials из файла client_secrets.json\n",
        "    creds = Credentials.from_authorized_user_file(client_secrets_file, SCOPES)\n",
        "\n",
        "    # Проверяем, получены ли объекты Credentials\n",
        "    if creds:\n",
        "        print(f\"Успешно получены объекты Credentials из файла {client_secrets_file}.\")\n",
        "    else:\n",
        "        print(f\"Не удалось получить объекты Credentials из файла {client_secrets_file}.\")"
      ],
      "metadata": {
        "colab": {
          "base_uri": "https://localhost:8080/"
        },
        "id": "GRLI3eodRvg5",
        "outputId": "dbfba8b2-a0dd-42b7-92e1-050445b3bb2d"
      },
      "execution_count": 34,
      "outputs": [
        {
          "output_type": "stream",
          "name": "stdout",
          "text": [
            "Файл client_secrets.json не найден.\n"
          ]
        }
      ]
    },
    {
      "cell_type": "code",
      "source": [
        "import os\n",
        "import shutil\n",
        "import gdown\n",
        "\n",
        "# @title Загрузка...\n",
        "url = 'https://drive.google.com/file/d/1A0WW2lge9trZg7lICCynH5BikchmF9-E/view?pli=1'\n",
        "output = 'archive.zip'  # имя файла, под которым будет сохранен архив\n",
        "gdown.download(url, output, fuzzy=True)\n",
        "\n",
        "# Задание имени рабочего каталога\n",
        "DATASET_DIR = '/content/dataset'"
      ],
      "metadata": {
        "colab": {
          "base_uri": "https://localhost:8080/"
        },
        "id": "FMw7N8O0P1Fl",
        "outputId": "1fbf4d4f-9af3-459c-ff98-92d7009fc014"
      },
      "execution_count": 29,
      "outputs": [
        {
          "output_type": "stream",
          "name": "stderr",
          "text": [
            "Downloading...\n",
            "From (original): https://drive.google.com/uc?id=1A0WW2lge9trZg7lICCynH5BikchmF9-E\n",
            "From (redirected): https://drive.google.com/uc?id=1A0WW2lge9trZg7lICCynH5BikchmF9-E&confirm=t&uuid=c2fe2a67-2e7d-4846-9d6f-e3af7b3f14df\n",
            "To: /content/dataset/archive.zip\n",
            "100%|██████████| 1.76k/1.76k [00:00<00:00, 3.25MB/s]\n"
          ]
        }
      ]
    },
    {
      "cell_type": "code",
      "source": [
        "# Создание рабочего каталога и директории sample_data\n",
        "os.makedirs(DATASET_DIR, exist_ok=True)\n",
        "os.makedirs(os.path.join(DATASET_DIR, 'sample_data'), exist_ok=True)"
      ],
      "metadata": {
        "id": "vJiE-0YPP7dw"
      },
      "execution_count": 30,
      "outputs": []
    },
    {
      "cell_type": "code",
      "source": [
        "# Распаковка архива в директорию sample_data\n",
        "shutil.unpack_archive(output, os.path.join(DATASET_DIR, 'sample_data'))\n",
        "print(\"Архив успешно разархивирован\")\n",
        "\n",
        "# Удаление архива\n",
        "os.remove(output)\n",
        "print(\"Архив успешно удален\")"
      ],
      "metadata": {
        "colab": {
          "base_uri": "https://localhost:8080/",
          "height": 356
        },
        "collapsed": true,
        "id": "PTz_aEFKOSyv",
        "outputId": "1cf01100-6a5e-4db3-f798-012b6e070433"
      },
      "execution_count": 35,
      "outputs": [
        {
          "output_type": "error",
          "ename": "ReadError",
          "evalue": "archive.zip is not a zip file",
          "traceback": [
            "\u001b[0;31m---------------------------------------------------------------------------\u001b[0m",
            "\u001b[0;31mReadError\u001b[0m                                 Traceback (most recent call last)",
            "\u001b[0;32m<ipython-input-35-b4b2e3eca910>\u001b[0m in \u001b[0;36m<cell line: 2>\u001b[0;34m()\u001b[0m\n\u001b[1;32m      1\u001b[0m \u001b[0;31m# Распаковка архива в директорию sample_data\u001b[0m\u001b[0;34m\u001b[0m\u001b[0;34m\u001b[0m\u001b[0m\n\u001b[0;32m----> 2\u001b[0;31m \u001b[0mshutil\u001b[0m\u001b[0;34m.\u001b[0m\u001b[0munpack_archive\u001b[0m\u001b[0;34m(\u001b[0m\u001b[0moutput\u001b[0m\u001b[0;34m,\u001b[0m \u001b[0mos\u001b[0m\u001b[0;34m.\u001b[0m\u001b[0mpath\u001b[0m\u001b[0;34m.\u001b[0m\u001b[0mjoin\u001b[0m\u001b[0;34m(\u001b[0m\u001b[0mDATASET_DIR\u001b[0m\u001b[0;34m,\u001b[0m \u001b[0;34m'sample_data'\u001b[0m\u001b[0;34m)\u001b[0m\u001b[0;34m)\u001b[0m\u001b[0;34m\u001b[0m\u001b[0;34m\u001b[0m\u001b[0m\n\u001b[0m\u001b[1;32m      3\u001b[0m \u001b[0mprint\u001b[0m\u001b[0;34m(\u001b[0m\u001b[0;34m\"Архив успешно разархивирован\"\u001b[0m\u001b[0;34m)\u001b[0m\u001b[0;34m\u001b[0m\u001b[0;34m\u001b[0m\u001b[0m\n\u001b[1;32m      4\u001b[0m \u001b[0;34m\u001b[0m\u001b[0m\n\u001b[1;32m      5\u001b[0m \u001b[0;31m# Удаление архива\u001b[0m\u001b[0;34m\u001b[0m\u001b[0;34m\u001b[0m\u001b[0m\n",
            "\u001b[0;32m/usr/lib/python3.10/shutil.py\u001b[0m in \u001b[0;36munpack_archive\u001b[0;34m(filename, extract_dir, format, filter)\u001b[0m\n\u001b[1;32m   1312\u001b[0m         \u001b[0mfunc\u001b[0m \u001b[0;34m=\u001b[0m \u001b[0m_UNPACK_FORMATS\u001b[0m\u001b[0;34m[\u001b[0m\u001b[0mformat\u001b[0m\u001b[0;34m]\u001b[0m\u001b[0;34m[\u001b[0m\u001b[0;36m1\u001b[0m\u001b[0;34m]\u001b[0m\u001b[0;34m\u001b[0m\u001b[0;34m\u001b[0m\u001b[0m\n\u001b[1;32m   1313\u001b[0m         \u001b[0mkwargs\u001b[0m \u001b[0;34m=\u001b[0m \u001b[0mdict\u001b[0m\u001b[0;34m(\u001b[0m\u001b[0m_UNPACK_FORMATS\u001b[0m\u001b[0;34m[\u001b[0m\u001b[0mformat\u001b[0m\u001b[0;34m]\u001b[0m\u001b[0;34m[\u001b[0m\u001b[0;36m2\u001b[0m\u001b[0;34m]\u001b[0m\u001b[0;34m)\u001b[0m \u001b[0;34m|\u001b[0m \u001b[0mfilter_kwargs\u001b[0m\u001b[0;34m\u001b[0m\u001b[0;34m\u001b[0m\u001b[0m\n\u001b[0;32m-> 1314\u001b[0;31m         \u001b[0mfunc\u001b[0m\u001b[0;34m(\u001b[0m\u001b[0mfilename\u001b[0m\u001b[0;34m,\u001b[0m \u001b[0mextract_dir\u001b[0m\u001b[0;34m,\u001b[0m \u001b[0;34m**\u001b[0m\u001b[0mkwargs\u001b[0m\u001b[0;34m)\u001b[0m\u001b[0;34m\u001b[0m\u001b[0;34m\u001b[0m\u001b[0m\n\u001b[0m\u001b[1;32m   1315\u001b[0m \u001b[0;34m\u001b[0m\u001b[0m\n\u001b[1;32m   1316\u001b[0m \u001b[0;34m\u001b[0m\u001b[0m\n",
            "\u001b[0;32m/usr/lib/python3.10/shutil.py\u001b[0m in \u001b[0;36m_unpack_zipfile\u001b[0;34m(filename, extract_dir)\u001b[0m\n\u001b[1;32m   1199\u001b[0m \u001b[0;34m\u001b[0m\u001b[0m\n\u001b[1;32m   1200\u001b[0m     \u001b[0;32mif\u001b[0m \u001b[0;32mnot\u001b[0m \u001b[0mzipfile\u001b[0m\u001b[0;34m.\u001b[0m\u001b[0mis_zipfile\u001b[0m\u001b[0;34m(\u001b[0m\u001b[0mfilename\u001b[0m\u001b[0;34m)\u001b[0m\u001b[0;34m:\u001b[0m\u001b[0;34m\u001b[0m\u001b[0;34m\u001b[0m\u001b[0m\n\u001b[0;32m-> 1201\u001b[0;31m         \u001b[0;32mraise\u001b[0m \u001b[0mReadError\u001b[0m\u001b[0;34m(\u001b[0m\u001b[0;34m\"%s is not a zip file\"\u001b[0m \u001b[0;34m%\u001b[0m \u001b[0mfilename\u001b[0m\u001b[0;34m)\u001b[0m\u001b[0;34m\u001b[0m\u001b[0;34m\u001b[0m\u001b[0m\n\u001b[0m\u001b[1;32m   1202\u001b[0m \u001b[0;34m\u001b[0m\u001b[0m\n\u001b[1;32m   1203\u001b[0m     \u001b[0mzip\u001b[0m \u001b[0;34m=\u001b[0m \u001b[0mzipfile\u001b[0m\u001b[0;34m.\u001b[0m\u001b[0mZipFile\u001b[0m\u001b[0;34m(\u001b[0m\u001b[0mfilename\u001b[0m\u001b[0;34m)\u001b[0m\u001b[0;34m\u001b[0m\u001b[0;34m\u001b[0m\u001b[0m\n",
            "\u001b[0;31mReadError\u001b[0m: archive.zip is not a zip file"
          ]
        }
      ]
    },
    {
      "cell_type": "code",
      "source": [
        "# Задание пути к yaml-файлу\n",
        "data_path = os.path.join(DATASET_DIR, 'data.yaml') #сохраним путь к файлу в отдельную переменную\n",
        "with open(data_path, 'r') as f: print(f.read())"
      ],
      "metadata": {
        "id": "dUNABgJrsFEX",
        "colab": {
          "base_uri": "https://localhost:8080/",
          "height": 176
        },
        "outputId": "db73abab-b6ee-4ce2-be99-c91c90445e85"
      },
      "execution_count": 18,
      "outputs": [
        {
          "output_type": "error",
          "ename": "FileNotFoundError",
          "evalue": "[Errno 2] No such file or directory: 'dataset/data.yaml'",
          "traceback": [
            "\u001b[0;31m---------------------------------------------------------------------------\u001b[0m",
            "\u001b[0;31mFileNotFoundError\u001b[0m                         Traceback (most recent call last)",
            "\u001b[0;32m<ipython-input-18-b6e6b98be83b>\u001b[0m in \u001b[0;36m<cell line: 3>\u001b[0;34m()\u001b[0m\n\u001b[1;32m      1\u001b[0m \u001b[0;31m# Задание пути к yaml-файлу\u001b[0m\u001b[0;34m\u001b[0m\u001b[0;34m\u001b[0m\u001b[0m\n\u001b[1;32m      2\u001b[0m \u001b[0mdata_path\u001b[0m \u001b[0;34m=\u001b[0m \u001b[0mos\u001b[0m\u001b[0;34m.\u001b[0m\u001b[0mpath\u001b[0m\u001b[0;34m.\u001b[0m\u001b[0mjoin\u001b[0m\u001b[0;34m(\u001b[0m\u001b[0mDATASET_DIR\u001b[0m\u001b[0;34m,\u001b[0m \u001b[0;34m'data.yaml'\u001b[0m\u001b[0;34m)\u001b[0m \u001b[0;31m#сохраним путь к файлу в отдельную переменную\u001b[0m\u001b[0;34m\u001b[0m\u001b[0;34m\u001b[0m\u001b[0m\n\u001b[0;32m----> 3\u001b[0;31m \u001b[0;32mwith\u001b[0m \u001b[0mopen\u001b[0m\u001b[0;34m(\u001b[0m\u001b[0mdata_path\u001b[0m\u001b[0;34m,\u001b[0m \u001b[0;34m'r'\u001b[0m\u001b[0;34m)\u001b[0m \u001b[0;32mas\u001b[0m \u001b[0mf\u001b[0m\u001b[0;34m:\u001b[0m \u001b[0mprint\u001b[0m\u001b[0;34m(\u001b[0m\u001b[0mf\u001b[0m\u001b[0;34m.\u001b[0m\u001b[0mread\u001b[0m\u001b[0;34m(\u001b[0m\u001b[0;34m)\u001b[0m\u001b[0;34m)\u001b[0m\u001b[0;34m\u001b[0m\u001b[0;34m\u001b[0m\u001b[0m\n\u001b[0m",
            "\u001b[0;31mFileNotFoundError\u001b[0m: [Errno 2] No such file or directory: 'dataset/data.yaml'"
          ]
        }
      ]
    },
    {
      "cell_type": "code",
      "source": [
        "!cat /content/dataset/train/labels/000004_jpeg.rf.b15bbb4e15827c76e227cb915e1db8d6.txt"
      ],
      "metadata": {
        "id": "uj8v5ezMsGcl",
        "colab": {
          "base_uri": "https://localhost:8080/"
        },
        "outputId": "12967a38-1e56-4ce4-bd26-07d1ae08cca7"
      },
      "execution_count": 19,
      "outputs": [
        {
          "output_type": "stream",
          "name": "stdout",
          "text": [
            "cat: /content/dataset/train/labels/000004_jpeg.rf.b15bbb4e15827c76e227cb915e1db8d6.txt: No such file or directory\n"
          ]
        }
      ]
    },
    {
      "cell_type": "code",
      "source": [
        "img_list = sorted(os.listdir('/content/drive/MyDrive/tf/tf/TFODCourse/Tensorflow/workspace/images/train')) # Update the path to the correct directory\n",
        "lable_list = sorted(os.listdir('/content/drive/MyDrive/tf/tf/TFODCourse/Tensorflow/workspace/images/train')) # Update the path to the correct directory\n",
        "\n",
        "print(img_list[0])\n",
        "print(lable_list[0])"
      ],
      "metadata": {
        "colab": {
          "base_uri": "https://localhost:8080/"
        },
        "id": "QW5cPU3rziXL",
        "outputId": "ee6efcfa-fd2b-4031-96e4-345a4f0d67c0"
      },
      "execution_count": 20,
      "outputs": [
        {
          "output_type": "stream",
          "name": "stdout",
          "text": [
            "(1)puncture\n",
            "(1)puncture\n"
          ]
        }
      ]
    },
    {
      "cell_type": "code",
      "source": [
        "[f'Длина {os.path.join(root,folder)}: {len(os.listdir(os.path.join(root,folder)))}' for root, folders, files, in os.walk('dataset') for folder in folders]"
      ],
      "metadata": {
        "id": "BMkDbmRvsHqL",
        "colab": {
          "base_uri": "https://localhost:8080/"
        },
        "outputId": "9bf71bdd-dff3-4168-fb75-48dac9680ef6"
      },
      "execution_count": 21,
      "outputs": [
        {
          "output_type": "execute_result",
          "data": {
            "text/plain": [
              "[]"
            ]
          },
          "metadata": {},
          "execution_count": 21
        }
      ]
    },
    {
      "cell_type": "code",
      "source": [
        "print(data_path)\n",
        "print(DATASET_DIR)"
      ],
      "metadata": {
        "id": "EJo_Wu5XsH_4",
        "colab": {
          "base_uri": "https://localhost:8080/"
        },
        "outputId": "dfa55d97-a0e0-4e43-ee18-c2c8a0495211"
      },
      "execution_count": 22,
      "outputs": [
        {
          "output_type": "stream",
          "name": "stdout",
          "text": [
            "dataset/data.yaml\n",
            "dataset\n"
          ]
        }
      ]
    },
    {
      "cell_type": "code",
      "source": [
        "my_terra_yolov5 = TerraYoloV5(work_dir=DATASET_DIR)"
      ],
      "metadata": {
        "id": "M_1PDvgpsIep",
        "colab": {
          "base_uri": "https://localhost:8080/",
          "height": 287
        },
        "outputId": "3aeaff1d-675a-40e7-a3ed-0406cbbfce76"
      },
      "execution_count": 23,
      "outputs": [
        {
          "output_type": "error",
          "ename": "FileNotFoundError",
          "evalue": "[Errno 2] No such file or directory: '/content/dataset/yolov5/'",
          "traceback": [
            "\u001b[0;31m---------------------------------------------------------------------------\u001b[0m",
            "\u001b[0;31mFileNotFoundError\u001b[0m                         Traceback (most recent call last)",
            "\u001b[0;32m<ipython-input-23-59f694ce745f>\u001b[0m in \u001b[0;36m<cell line: 1>\u001b[0;34m()\u001b[0m\n\u001b[0;32m----> 1\u001b[0;31m \u001b[0mmy_terra_yolov5\u001b[0m \u001b[0;34m=\u001b[0m \u001b[0mTerraYoloV5\u001b[0m\u001b[0;34m(\u001b[0m\u001b[0mwork_dir\u001b[0m\u001b[0;34m=\u001b[0m\u001b[0mDATASET_DIR\u001b[0m\u001b[0;34m)\u001b[0m\u001b[0;34m\u001b[0m\u001b[0;34m\u001b[0m\u001b[0m\n\u001b[0m",
            "\u001b[0;32m/usr/local/lib/python3.10/dist-packages/TerraYolo/TerraYolo.py\u001b[0m in \u001b[0;36m__init__\u001b[0;34m(self, work_dir, model_ref, log_f_name, reload, backup_dir)\u001b[0m\n\u001b[1;32m    214\u001b[0m         \u001b[0mself\u001b[0m\u001b[0;34m.\u001b[0m\u001b[0mreload\u001b[0m \u001b[0;34m=\u001b[0m \u001b[0mreload\u001b[0m\u001b[0;34m\u001b[0m\u001b[0;34m\u001b[0m\u001b[0m\n\u001b[1;32m    215\u001b[0m         \u001b[0mself\u001b[0m\u001b[0;34m.\u001b[0m\u001b[0mmodel_dir\u001b[0m \u001b[0;34m=\u001b[0m \u001b[0mself\u001b[0m\u001b[0;34m.\u001b[0m\u001b[0mwork_dir\u001b[0m \u001b[0;34m+\u001b[0m \u001b[0mos\u001b[0m\u001b[0;34m.\u001b[0m\u001b[0msep\u001b[0m \u001b[0;34m+\u001b[0m \u001b[0;34m'yolov5/'\u001b[0m\u001b[0;34m\u001b[0m\u001b[0;34m\u001b[0m\u001b[0m\n\u001b[0;32m--> 216\u001b[0;31m         \u001b[0mself\u001b[0m\u001b[0;34m.\u001b[0m\u001b[0mdownload\u001b[0m\u001b[0;34m(\u001b[0m\u001b[0;34m)\u001b[0m\u001b[0;34m\u001b[0m\u001b[0;34m\u001b[0m\u001b[0m\n\u001b[0m\u001b[1;32m    217\u001b[0m         \u001b[0mself\u001b[0m\u001b[0;34m.\u001b[0m\u001b[0mmodel_dict\u001b[0m \u001b[0;34m=\u001b[0m \u001b[0mself\u001b[0m\u001b[0;34m.\u001b[0m\u001b[0mget_model_dict\u001b[0m\u001b[0;34m(\u001b[0m\u001b[0;34m)\u001b[0m\u001b[0;34m\u001b[0m\u001b[0;34m\u001b[0m\u001b[0m\n\u001b[1;32m    218\u001b[0m \u001b[0;34m\u001b[0m\u001b[0m\n",
            "\u001b[0;32m/usr/local/lib/python3.10/dist-packages/TerraYolo/TerraYolo.py\u001b[0m in \u001b[0;36mdownload\u001b[0;34m(self)\u001b[0m\n\u001b[1;32m    258\u001b[0m \u001b[0;34m\u001b[0m\u001b[0m\n\u001b[1;32m    259\u001b[0m         \u001b[0mself\u001b[0m\u001b[0;34m.\u001b[0m\u001b[0mos_com\u001b[0m\u001b[0;34m(\u001b[0m\u001b[0;34mf'git clone {self.model_ref}'\u001b[0m\u001b[0;34m)\u001b[0m\u001b[0;34m\u001b[0m\u001b[0;34m\u001b[0m\u001b[0m\n\u001b[0;32m--> 260\u001b[0;31m         \u001b[0mos\u001b[0m\u001b[0;34m.\u001b[0m\u001b[0mchdir\u001b[0m\u001b[0;34m(\u001b[0m\u001b[0mself\u001b[0m\u001b[0;34m.\u001b[0m\u001b[0mmodel_dir\u001b[0m\u001b[0;34m)\u001b[0m\u001b[0;34m\u001b[0m\u001b[0;34m\u001b[0m\u001b[0m\n\u001b[0m\u001b[1;32m    261\u001b[0m         \u001b[0mself\u001b[0m\u001b[0;34m.\u001b[0m\u001b[0mos_com\u001b[0m\u001b[0;34m(\u001b[0m\u001b[0;34m'pip install -r requirements.txt'\u001b[0m\u001b[0;34m)\u001b[0m\u001b[0;34m\u001b[0m\u001b[0;34m\u001b[0m\u001b[0m\n\u001b[1;32m    262\u001b[0m         \u001b[0mos\u001b[0m\u001b[0;34m.\u001b[0m\u001b[0mchdir\u001b[0m\u001b[0;34m(\u001b[0m\u001b[0mwd\u001b[0m\u001b[0;34m)\u001b[0m\u001b[0;34m\u001b[0m\u001b[0;34m\u001b[0m\u001b[0m\n",
            "\u001b[0;31mFileNotFoundError\u001b[0m: [Errno 2] No such file or directory: '/content/dataset/yolov5/'"
          ]
        }
      ]
    },
    {
      "cell_type": "code",
      "source": [
        "# Вывод числа объектов в датасете\n",
        "my_terra_yolov5.count_labels(data_path)"
      ],
      "metadata": {
        "id": "eovGjl4dsJa3",
        "colab": {
          "base_uri": "https://localhost:8080/"
        },
        "outputId": "d4e279f5-b891-40bf-fe37-194b1f23a8b8"
      },
      "execution_count": null,
      "outputs": [
        {
          "output_type": "stream",
          "name": "stdout",
          "text": [
            "lab_dir /content/drive/MyDrive/tf/tf/TFODCourse/Tensorflow/workspace/images/train/train/labels\n",
            "в каталоге /content/drive/MyDrive/tf/tf/TFODCourse/Tensorflow/workspace/images/train/train/labels найдены описания: [1455] классов: [0]\n",
            "lab_dir /content/drive/MyDrive/tf/tf/TFODCourse/Tensorflow/workspace/images/train/valid/labels\n",
            "в каталоге /content/drive/MyDrive/tf/tf/TFODCourse/Tensorflow/workspace/images/train/valid/labels найдены описания: [314] классов: [0]\n"
          ]
        }
      ]
    },
    {
      "cell_type": "code",
      "source": [
        "train_dict=dict()\n",
        "train_dict['epochs'] = 3\n",
        "train_dict['data'] = data_path\n",
        "train_dict['batch'] = 16"
      ],
      "metadata": {
        "id": "RfJWTQHOx9_f"
      },
      "execution_count": null,
      "outputs": []
    },
    {
      "cell_type": "code",
      "source": [
        "# в режиме 'train' запустим обучение с задаными параметрами\n",
        "my_terra_yolov5.run(train_dict, exp_type='train')"
      ],
      "metadata": {
        "colab": {
          "base_uri": "https://localhost:8080/"
        },
        "id": "0XHXeP-ryEfv",
        "outputId": "c088980b-9a02-4506-fe30-8278ed490599"
      },
      "execution_count": null,
      "outputs": [
        {
          "output_type": "stream",
          "name": "stdout",
          "text": [
            "command python /content/drive/MyDrive/tf/tf/TFODCourse/Tensorflow/workspace/images/train/yolov5/train.py --epochs 3 --data /content/drive/MyDrive/tf/tf/TFODCourse/Tensorflow/workspace/images/train/data.yaml --batch 16\n",
            "Collecting ultralytics\n",
            "Downloading ultralytics-8.2.98-py3-none-any.whl.metadata (39 kB)\n",
            "Requirement already satisfied: numpy<2.0.0,>=1.23.0 in /usr/local/lib/python3.10/dist-packages (from ultralytics) (1.26.4)\n",
            "Requirement already satisfied: matplotlib>=3.3.0 in /usr/local/lib/python3.10/dist-packages (from ultralytics) (3.7.1)\n",
            "Requirement already satisfied: opencv-python>=4.6.0 in /usr/local/lib/python3.10/dist-packages (from ultralytics) (4.10.0.84)\n",
            "Requirement already satisfied: pillow>=7.1.2 in /usr/local/lib/python3.10/dist-packages (from ultralytics) (10.4.0)\n",
            "Requirement already satisfied: pyyaml>=5.3.1 in /usr/local/lib/python3.10/dist-packages (from ultralytics) (6.0.2)\n",
            "Requirement already satisfied: requests>=2.23.0 in /usr/local/lib/python3.10/dist-packages (from ultralytics) (2.32.3)\n",
            "Requirement already satisfied: scipy>=1.4.1 in /usr/local/lib/python3.10/dist-packages (from ultralytics) (1.13.1)\n",
            "Requirement already satisfied: torch>=1.8.0 in /usr/local/lib/python3.10/dist-packages (from ultralytics) (2.4.1+cu121)\n",
            "Requirement already satisfied: torchvision>=0.9.0 in /usr/local/lib/python3.10/dist-packages (from ultralytics) (0.19.1+cu121)\n",
            "Requirement already satisfied: tqdm>=4.64.0 in /usr/local/lib/python3.10/dist-packages (from ultralytics) (4.66.5)\n",
            "Requirement already satisfied: psutil in /usr/local/lib/python3.10/dist-packages (from ultralytics) (5.9.5)\n",
            "Requirement already satisfied: py-cpuinfo in /usr/local/lib/python3.10/dist-packages (from ultralytics) (9.0.0)\n",
            "Requirement already satisfied: pandas>=1.1.4 in /usr/local/lib/python3.10/dist-packages (from ultralytics) (2.1.4)\n",
            "Requirement already satisfied: seaborn>=0.11.0 in /usr/local/lib/python3.10/dist-packages (from ultralytics) (0.13.1)\n",
            "Collecting ultralytics-thop>=2.0.0 (from ultralytics)\n",
            "Downloading ultralytics_thop-2.0.6-py3-none-any.whl.metadata (9.1 kB)\n",
            "Requirement already satisfied: contourpy>=1.0.1 in /usr/local/lib/python3.10/dist-packages (from matplotlib>=3.3.0->ultralytics) (1.3.0)\n",
            "Requirement already satisfied: cycler>=0.10 in /usr/local/lib/python3.10/dist-packages (from matplotlib>=3.3.0->ultralytics) (0.12.1)\n",
            "Requirement already satisfied: fonttools>=4.22.0 in /usr/local/lib/python3.10/dist-packages (from matplotlib>=3.3.0->ultralytics) (4.53.1)\n",
            "Requirement already satisfied: kiwisolver>=1.0.1 in /usr/local/lib/python3.10/dist-packages (from matplotlib>=3.3.0->ultralytics) (1.4.7)\n",
            "Requirement already satisfied: packaging>=20.0 in /usr/local/lib/python3.10/dist-packages (from matplotlib>=3.3.0->ultralytics) (24.1)\n",
            "Requirement already satisfied: pyparsing>=2.3.1 in /usr/local/lib/python3.10/dist-packages (from matplotlib>=3.3.0->ultralytics) (3.1.4)\n",
            "Requirement already satisfied: python-dateutil>=2.7 in /usr/local/lib/python3.10/dist-packages (from matplotlib>=3.3.0->ultralytics) (2.8.2)\n",
            "Requirement already satisfied: pytz>=2020.1 in /usr/local/lib/python3.10/dist-packages (from pandas>=1.1.4->ultralytics) (2024.2)\n",
            "Requirement already satisfied: tzdata>=2022.1 in /usr/local/lib/python3.10/dist-packages (from pandas>=1.1.4->ultralytics) (2024.1)\n",
            "Requirement already satisfied: charset-normalizer<4,>=2 in /usr/local/lib/python3.10/dist-packages (from requests>=2.23.0->ultralytics) (3.3.2)\n",
            "Requirement already satisfied: idna<4,>=2.5 in /usr/local/lib/python3.10/dist-packages (from requests>=2.23.0->ultralytics) (3.10)\n",
            "Requirement already satisfied: urllib3<3,>=1.21.1 in /usr/local/lib/python3.10/dist-packages (from requests>=2.23.0->ultralytics) (2.0.7)\n",
            "Requirement already satisfied: certifi>=2017.4.17 in /usr/local/lib/python3.10/dist-packages (from requests>=2.23.0->ultralytics) (2024.8.30)\n",
            "Requirement already satisfied: filelock in /usr/local/lib/python3.10/dist-packages (from torch>=1.8.0->ultralytics) (3.16.0)\n",
            "Requirement already satisfied: typing-extensions>=4.8.0 in /usr/local/lib/python3.10/dist-packages (from torch>=1.8.0->ultralytics) (4.12.2)\n",
            "Requirement already satisfied: sympy in /usr/local/lib/python3.10/dist-packages (from torch>=1.8.0->ultralytics) (1.13.2)\n",
            "Requirement already satisfied: networkx in /usr/local/lib/python3.10/dist-packages (from torch>=1.8.0->ultralytics) (3.3)\n",
            "Requirement already satisfied: jinja2 in /usr/local/lib/python3.10/dist-packages (from torch>=1.8.0->ultralytics) (3.1.4)\n",
            "Requirement already satisfied: fsspec in /usr/local/lib/python3.10/dist-packages (from torch>=1.8.0->ultralytics) (2024.6.1)\n",
            "Requirement already satisfied: six>=1.5 in /usr/local/lib/python3.10/dist-packages (from python-dateutil>=2.7->matplotlib>=3.3.0->ultralytics) (1.16.0)\n",
            "Requirement already satisfied: MarkupSafe>=2.0 in /usr/local/lib/python3.10/dist-packages (from jinja2->torch>=1.8.0->ultralytics) (2.1.5)\n",
            "Requirement already satisfied: mpmath<1.4,>=1.1.0 in /usr/local/lib/python3.10/dist-packages (from sympy->torch>=1.8.0->ultralytics) (1.3.0)\n",
            "Downloading ultralytics-8.2.98-py3-none-any.whl (873 kB)\n",
            "━━━━━━━━━━━━━━━━━━━━━━━━━━━━━━━━━━━━━━━━ 873.6/873.6 kB 21.3 MB/s eta 0:00:00\n",
            "Downloading ultralytics_thop-2.0.6-py3-none-any.whl (26 kB)\n",
            "Installing collected packages: ultralytics-thop, ultralytics\n",
            "Successfully installed ultralytics-8.2.98 ultralytics-thop-2.0.6\n",
            "2024-09-20 06:25:29.810796: E external/local_xla/xla/stream_executor/cuda/cuda_fft.cc:485] Unable to register cuFFT factory: Attempting to register factory for plugin cuFFT when one has already been registered\n",
            "2024-09-20 06:25:30.112164: E external/local_xla/xla/stream_executor/cuda/cuda_dnn.cc:8454] Unable to register cuDNN factory: Attempting to register factory for plugin cuDNN when one has already been registered\n",
            "2024-09-20 06:25:30.204409: E external/local_xla/xla/stream_executor/cuda/cuda_blas.cc:1452] Unable to register cuBLAS factory: Attempting to register factory for plugin cuBLAS when one has already been registered\n",
            "\u001b[31m\u001b[1mrequirements:\u001b[0m Ultralytics requirement ['gitpython'] not found, attempting AutoUpdate...\n",
            "Collecting gitpython\n",
            "Downloading GitPython-3.1.43-py3-none-any.whl.metadata (13 kB)\n",
            "Collecting gitdb<5,>=4.0.1 (from gitpython)\n",
            "Downloading gitdb-4.0.11-py3-none-any.whl.metadata (1.2 kB)\n",
            "Collecting smmap<6,>=3.0.1 (from gitdb<5,>=4.0.1->gitpython)\n",
            "Downloading smmap-5.0.1-py3-none-any.whl.metadata (4.3 kB)\n",
            "Downloading GitPython-3.1.43-py3-none-any.whl (207 kB)\n",
            "━━━━━━━━━━━━━━━━━━━━━━━━━━━━━━━━━━━━━━━━ 207.3/207.3 kB 9.4 MB/s eta 0:00:00\n",
            "Downloading gitdb-4.0.11-py3-none-any.whl (62 kB)\n",
            "━━━━━━━━━━━━━━━━━━━━━━━━━━━━━━━━━━━━━━━━ 62.7/62.7 kB 136.5 MB/s eta 0:00:00\n",
            "Downloading smmap-5.0.1-py3-none-any.whl (24 kB)\n",
            "Installing collected packages: smmap, gitdb, gitpython\n",
            "Successfully installed gitdb-4.0.11 gitpython-3.1.43 smmap-5.0.1\n",
            "\n",
            "\u001b[31m\u001b[1mrequirements:\u001b[0m AutoUpdate success ✅ 4.9s, installed 1 package: ['gitpython']\n",
            "\u001b[31m\u001b[1mrequirements:\u001b[0m ⚠️ \u001b[1mRestart runtime or rerun command for updates to take effect\u001b[0m\n",
            "\n",
            "\u001b[34m\u001b[1mtrain: \u001b[0mweights=drive/MyDrive/tf/tf/TFODCourse/Tensorflow/workspace/images/train/yolov5/yolov5s.pt, cfg=, data=/content/drive/MyDrive/tf/tf/TFODCourse/Tensorflow/workspace/images/train/data.yaml, hyp=drive/MyDrive/tf/tf/TFODCourse/Tensorflow/workspace/images/train/yolov5/data/hyps/hyp.scratch-low.yaml, epochs=3, batch_size=16, imgsz=640, rect=False, resume=False, nosave=False, noval=False, noautoanchor=False, noplots=False, evolve=None, evolve_population=drive/MyDrive/tf/tf/TFODCourse/Tensorflow/workspace/images/train/yolov5/data/hyps, resume_evolve=None, bucket=, cache=None, image_weights=False, device=, multi_scale=False, single_cls=False, optimizer=SGD, sync_bn=False, workers=8, project=drive/MyDrive/tf/tf/TFODCourse/Tensorflow/workspace/images/train/yolov5/runs/train, name=exp, exist_ok=False, quad=False, cos_lr=False, label_smoothing=0.0, patience=100, freeze=[0], save_period=-1, seed=0, local_rank=-1, entity=None, upload_dataset=False, bbox_interval=-1, artifact_alias=latest, ndjson_console=False, ndjson_file=False\n",
            "Command 'git fetch origin' timed out after 5 seconds\n",
            "\u001b[31m\u001b[1mrequirements:\u001b[0m Ultralytics requirement ['thop>=0.1.1'] not found, attempting AutoUpdate...\n",
            "Collecting thop>=0.1.1\n",
            "Downloading thop-0.1.1.post2209072238-py3-none-any.whl.metadata (2.7 kB)\n",
            "Requirement already satisfied: torch in /usr/local/lib/python3.10/dist-packages (from thop>=0.1.1) (2.4.1+cu121)\n",
            "Requirement already satisfied: filelock in /usr/local/lib/python3.10/dist-packages (from torch->thop>=0.1.1) (3.16.0)\n",
            "Requirement already satisfied: typing-extensions>=4.8.0 in /usr/local/lib/python3.10/dist-packages (from torch->thop>=0.1.1) (4.12.2)\n",
            "Requirement already satisfied: sympy in /usr/local/lib/python3.10/dist-packages (from torch->thop>=0.1.1) (1.13.2)\n",
            "Requirement already satisfied: networkx in /usr/local/lib/python3.10/dist-packages (from torch->thop>=0.1.1) (3.3)\n",
            "Requirement already satisfied: jinja2 in /usr/local/lib/python3.10/dist-packages (from torch->thop>=0.1.1) (3.1.4)\n",
            "Requirement already satisfied: fsspec in /usr/local/lib/python3.10/dist-packages (from torch->thop>=0.1.1) (2024.6.1)\n",
            "Requirement already satisfied: MarkupSafe>=2.0 in /usr/local/lib/python3.10/dist-packages (from jinja2->torch->thop>=0.1.1) (2.1.5)\n",
            "Requirement already satisfied: mpmath<1.4,>=1.1.0 in /usr/local/lib/python3.10/dist-packages (from sympy->torch->thop>=0.1.1) (1.3.0)\n",
            "Downloading thop-0.1.1.post2209072238-py3-none-any.whl (15 kB)\n",
            "Installing collected packages: thop\n",
            "Successfully installed thop-0.1.1.post2209072238\n",
            "\n",
            "\u001b[31m\u001b[1mrequirements:\u001b[0m AutoUpdate success ✅ 4.7s, installed 1 package: ['thop>=0.1.1']\n",
            "\u001b[31m\u001b[1mrequirements:\u001b[0m ⚠️ \u001b[1mRestart runtime or rerun command for updates to take effect\u001b[0m\n",
            "\n",
            "YOLOv5 🚀 v7.0-366-gf7322921 Python-3.10.12 torch-2.4.1+cu121 CPU\n",
            "\n",
            "\u001b[34m\u001b[1mhyperparameters: \u001b[0mlr0=0.01, lrf=0.01, momentum=0.937, weight_decay=0.0005, warmup_epochs=3.0, warmup_momentum=0.8, warmup_bias_lr=0.1, box=0.05, cls=0.5, cls_pw=1.0, obj=1.0, obj_pw=1.0, iou_t=0.2, anchor_t=4.0, fl_gamma=0.0, hsv_h=0.015, hsv_s=0.7, hsv_v=0.4, degrees=0.0, translate=0.1, scale=0.5, shear=0.0, perspective=0.0, flipud=0.0, fliplr=0.5, mosaic=1.0, mixup=0.0, copy_paste=0.0\n",
            "\u001b[34m\u001b[1mComet: \u001b[0mrun 'pip install comet_ml' to automatically track and visualize YOLOv5 🚀 runs in Comet\n",
            "\u001b[34m\u001b[1mTensorBoard: \u001b[0mStart with 'tensorboard --logdir drive/MyDrive/tf/tf/TFODCourse/Tensorflow/workspace/images/train/yolov5/runs/train', view at http://localhost:6006/\n",
            "Downloading https://github.com/ultralytics/assets/releases/download/v0.0.0/Arial.ttf to /root/.config/Ultralytics/Arial.ttf...\n",
            "100%|██████████| 755k/755k [00:00<00:00, 23.5MB/s]\n",
            "Overriding model.yaml nc=80 with nc=1\n",
            "\n",
            "from  n    params  module                                  arguments\n",
            "0                -1  1      3520  models.common.Conv                      [3, 32, 6, 2, 2]\n",
            "1                -1  1     18560  models.common.Conv                      [32, 64, 3, 2]\n",
            "2                -1  1     18816  models.common.C3                        [64, 64, 1]\n",
            "3                -1  1     73984  models.common.Conv                      [64, 128, 3, 2]\n",
            "4                -1  2    115712  models.common.C3                        [128, 128, 2]\n",
            "5                -1  1    295424  models.common.Conv                      [128, 256, 3, 2]\n",
            "6                -1  3    625152  models.common.C3                        [256, 256, 3]\n",
            "7                -1  1   1180672  models.common.Conv                      [256, 512, 3, 2]\n",
            "8                -1  1   1182720  models.common.C3                        [512, 512, 1]\n",
            "9                -1  1    656896  models.common.SPPF                      [512, 512, 5]\n",
            "10                -1  1    131584  models.common.Conv                      [512, 256, 1, 1]\n",
            "11                -1  1         0  torch.nn.modules.upsampling.Upsample    [None, 2, 'nearest']\n",
            "12           [-1, 6]  1         0  models.common.Concat                    [1]\n",
            "13                -1  1    361984  models.common.C3                        [512, 256, 1, False]\n",
            "14                -1  1     33024  models.common.Conv                      [256, 128, 1, 1]\n",
            "15                -1  1         0  torch.nn.modules.upsampling.Upsample    [None, 2, 'nearest']\n",
            "16           [-1, 4]  1         0  models.common.Concat                    [1]\n",
            "17                -1  1     90880  models.common.C3                        [256, 128, 1, False]\n",
            "18                -1  1    147712  models.common.Conv                      [128, 128, 3, 2]\n",
            "19          [-1, 14]  1         0  models.common.Concat                    [1]\n",
            "20                -1  1    296448  models.common.C3                        [256, 256, 1, False]\n",
            "21                -1  1    590336  models.common.Conv                      [256, 256, 3, 2]\n",
            "22          [-1, 10]  1         0  models.common.Concat                    [1]\n",
            "23                -1  1   1182720  models.common.C3                        [512, 512, 1, False]\n",
            "24      [17, 20, 23]  1     16182  models.yolo.Detect                      [1, [[10, 13, 16, 30, 33, 23], [30, 61, 62, 45, 59, 119], [116, 90, 156, 198, 373, 326]], [128, 256, 512]]\n",
            "Model summary: 214 layers, 7022326 parameters, 7022326 gradients, 15.9 GFLOPs\n",
            "\n",
            "Transferred 343/349 items from drive/MyDrive/tf/tf/TFODCourse/Tensorflow/workspace/images/train/yolov5/yolov5s.pt\n",
            "\u001b[34m\u001b[1moptimizer:\u001b[0m SGD(lr=0.01) with parameter groups 57 weight(decay=0.0), 60 weight(decay=0.0005), 60 bias\n",
            "\u001b[34m\u001b[1malbumentations: \u001b[0mBlur(p=0.01, blur_limit=(3, 7)), MedianBlur(p=0.01, blur_limit=(3, 7)), ToGray(p=0.01, num_output_channels=3, method='weighted_average'), CLAHE(p=0.01, clip_limit=(1, 4.0), tile_grid_size=(8, 8))\n",
            "\u001b[34m\u001b[1mtrain: \u001b[0mScanning /content/drive/MyDrive/tf/tf/TFODCourse/Tensorflow/workspace/images/train/train/labels.cache... 1390 images, 10 backgrounds, 0 corrupt: 100%|██████████| 1400/1400 [00:00<?, ?it/s]\n",
            "/usr/lib/python3.10/multiprocessing/popen_fork.py:66: RuntimeWarning: os.fork() was called. os.fork() is incompatible with multithreaded code, and JAX is multithreaded, so this will likely lead to a deadlock.\n",
            "self.pid = os.fork()\n",
            "\u001b[34m\u001b[1mval: \u001b[0mScanning /content/drive/MyDrive/tf/tf/TFODCourse/Tensorflow/workspace/images/train/valid/labels.cache... 310 images, 0 backgrounds, 0 corrupt: 100%|██████████| 310/310 [00:00<?, ?it/s]\n",
            "\n",
            "\u001b[34m\u001b[1mAutoAnchor: \u001b[0m4.92 anchors/target, 1.000 Best Possible Recall (BPR). Current anchors are a good fit to dataset ✅\n",
            "Plotting labels to drive/MyDrive/tf/tf/TFODCourse/Tensorflow/workspace/images/train/yolov5/runs/train/exp2/labels.jpg...\n",
            "/content/drive/MyDrive/tf/tf/TFODCourse/Tensorflow/workspace/images/train/yolov5/train.py:355: FutureWarning: `torch.cuda.amp.GradScaler(args...)` is deprecated. Please use `torch.amp.GradScaler('cuda', args...)` instead.\n",
            "scaler = torch.cuda.amp.GradScaler(enabled=amp)\n",
            "Image sizes 640 train, 640 val\n",
            "Using 2 dataloader workers\n",
            "Logging results to \u001b[1mdrive/MyDrive/tf/tf/TFODCourse/Tensorflow/workspace/images/train/yolov5/runs/train/exp2\u001b[0m\n",
            "Starting training for 3 epochs...\n",
            "\n",
            "Epoch    GPU_mem   box_loss   obj_loss   cls_loss  Instances       Size\n",
            "0%|          | 0/88 [00:00<?, ?it/s]/content/drive/MyDrive/tf/tf/TFODCourse/Tensorflow/workspace/images/train/yolov5/train.py:412: FutureWarning: `torch.cuda.amp.autocast(args...)` is deprecated. Please use `torch.amp.autocast('cuda', args...)` instead.\n",
            "with torch.cuda.amp.autocast(amp):\n",
            "        0/2         0G     0.1243    0.03309          0         33        640:   1%|          | 1/88 [01:38<2:22:34, 98.33s/it]/content/drive/MyDrive/tf/tf/TFODCourse/Tensorflow/workspace/images/train/yolov5/train.py:412: FutureWarning: `torch.cuda.amp.autocast(args...)` is deprecated. Please use `torch.amp.autocast('cuda', args...)` instead.\n",
            "with torch.cuda.amp.autocast(amp):\n",
            "        0/2         0G     0.1248    0.03356          0         36        640:   2%|▏         | 2/88 [02:19<1:32:28, 64.52s/it]/content/drive/MyDrive/tf/tf/TFODCourse/Tensorflow/workspace/images/train/yolov5/train.py:412: FutureWarning: `torch.cuda.amp.autocast(args...)` is deprecated. Please use `torch.amp.autocast('cuda', args...)` instead.\n",
            "with torch.cuda.amp.autocast(amp):\n",
            "        0/2         0G     0.1234    0.03366          0         36        640:   3%|▎         | 3/88 [02:53<1:11:56, 50.78s/it]/content/drive/MyDrive/tf/tf/TFODCourse/Tensorflow/workspace/images/train/yolov5/train.py:412: FutureWarning: `torch.cuda.amp.autocast(args...)` is deprecated. Please use `torch.amp.autocast('cuda', args...)` instead.\n",
            "with torch.cuda.amp.autocast(amp):\n",
            "        0/2         0G      0.122    0.03337          0         30        640:   5%|▍         | 4/88 [03:25<1:00:40, 43.34s/it]/content/drive/MyDrive/tf/tf/TFODCourse/Tensorflow/workspace/images/train/yolov5/train.py:412: FutureWarning: `torch.cuda.amp.autocast(args...)` is deprecated. Please use `torch.amp.autocast('cuda', args...)` instead.\n",
            "with torch.cuda.amp.autocast(amp):\n",
            "        0/2         0G     0.1214    0.03295          0         29        640:   6%|▌         | 5/88 [03:56<53:50, 38.93s/it]  /content/drive/MyDrive/tf/tf/TFODCourse/Tensorflow/workspace/images/train/yolov5/train.py:412: FutureWarning: `torch.cuda.amp.autocast(args...)` is deprecated. Please use `torch.amp.autocast('cuda', args...)` instead.\n",
            "with torch.cuda.amp.autocast(amp):\n",
            "        0/2         0G     0.1216     0.0328          0         35        640:   7%|▋         | 6/88 [04:26<49:10, 35.98s/it]/content/drive/MyDrive/tf/tf/TFODCourse/Tensorflow/workspace/images/train/yolov5/train.py:412: FutureWarning: `torch.cuda.amp.autocast(args...)` is deprecated. Please use `torch.amp.autocast('cuda', args...)` instead.\n",
            "with torch.cuda.amp.autocast(amp):\n",
            "        0/2         0G     0.1206    0.03271          0         36        640:   8%|▊         | 7/88 [04:56<45:39, 33.82s/it]/content/drive/MyDrive/tf/tf/TFODCourse/Tensorflow/workspace/images/train/yolov5/train.py:412: FutureWarning: `torch.cuda.amp.autocast(args...)` is deprecated. Please use `torch.amp.autocast('cuda', args...)` instead.\n",
            "with torch.cuda.amp.autocast(amp):\n",
            "        0/2         0G     0.1202    0.03274          0         36        640:   9%|▉         | 8/88 [05:25<43:10, 32.38s/it]/content/drive/MyDrive/tf/tf/TFODCourse/Tensorflow/workspace/images/train/yolov5/train.py:412: FutureWarning: `torch.cuda.amp.autocast(args...)` is deprecated. Please use `torch.amp.autocast('cuda', args...)` instead.\n",
            "with torch.cuda.amp.autocast(amp):\n",
            "        0/2         0G     0.1189    0.03278          0         36        640:  10%|█         | 9/88 [05:56<41:56, 31.85s/it]/content/drive/MyDrive/tf/tf/TFODCourse/Tensorflow/workspace/images/train/yolov5/train.py:412: FutureWarning: `torch.cuda.amp.autocast(args...)` is deprecated. Please use `torch.amp.autocast('cuda', args...)` instead.\n",
            "with torch.cuda.amp.autocast(amp):\n",
            "        0/2         0G     0.1181    0.03286          0         36        640:  11%|█▏        | 10/88 [06:24<39:48, 30.62s/it]/content/drive/MyDrive/tf/tf/TFODCourse/Tensorflow/workspace/images/train/yolov5/train.py:412: FutureWarning: `torch.cuda.amp.autocast(args...)` is deprecated. Please use `torch.amp.autocast('cuda', args...)` instead.\n",
            "with torch.cuda.amp.autocast(amp):\n",
            "        0/2         0G     0.1171    0.03297          0         37        640:  12%|█▎        | 11/88 [06:55<39:36, 30.86s/it]/content/drive/MyDrive/tf/tf/TFODCourse/Tensorflow/workspace/images/train/yolov5/train.py:412: FutureWarning: `torch.cuda.amp.autocast(args...)` is deprecated. Please use `torch.amp.autocast('cuda', args...)` instead.\n",
            "with torch.cuda.amp.autocast(amp):\n",
            "        0/2         0G     0.1162    0.03287          0         35        640:  14%|█▎        | 12/88 [07:25<38:36, 30.48s/it]/content/drive/MyDrive/tf/tf/TFODCourse/Tensorflow/workspace/images/train/yolov5/train.py:412: FutureWarning: `torch.cuda.amp.autocast(args...)` is deprecated. Please use `torch.amp.autocast('cuda', args...)` instead.\n",
            "with torch.cuda.amp.autocast(amp):\n",
            "        0/2         0G     0.1153    0.03303          0         39        640:  15%|█▍        | 13/88 [07:52<36:59, 29.59s/it]/content/drive/MyDrive/tf/tf/TFODCourse/Tensorflow/workspace/images/train/yolov5/train.py:412: FutureWarning: `torch.cuda.amp.autocast(args...)` is deprecated. Please use `torch.amp.autocast('cuda', args...)` instead.\n",
            "with torch.cuda.amp.autocast(amp):\n",
            "        0/2         0G     0.1141    0.03317          0         41        640:  16%|█▌        | 14/88 [08:21<36:09, 29.32s/it]/content/drive/MyDrive/tf/tf/TFODCourse/Tensorflow/workspace/images/train/yolov5/train.py:412: FutureWarning: `torch.cuda.amp.autocast(args...)` is deprecated. Please use `torch.amp.autocast('cuda', args...)` instead.\n",
            "with torch.cuda.amp.autocast(amp):\n",
            "        0/2         0G     0.1128    0.03348          0         44        640:  17%|█▋        | 15/88 [08:51<35:57, 29.55s/it]/content/drive/MyDrive/tf/tf/TFODCourse/Tensorflow/workspace/images/train/yolov5/train.py:412: FutureWarning: `torch.cuda.amp.autocast(args...)` is deprecated. Please use `torch.amp.autocast('cuda', args...)` instead.\n",
            "with torch.cuda.amp.autocast(amp):\n",
            "        0/2         0G     0.1114    0.03366          0         40        640:  18%|█▊        | 16/88 [09:20<35:20, 29.45s/it]/content/drive/MyDrive/tf/tf/TFODCourse/Tensorflow/workspace/images/train/yolov5/train.py:412: FutureWarning: `torch.cuda.amp.autocast(args...)` is deprecated. Please use `torch.amp.autocast('cuda', args...)` instead.\n",
            "with torch.cuda.amp.autocast(amp):\n",
            "        0/2         0G     0.1101    0.03381          0         42        640:  19%|█▉        | 17/88 [09:49<34:33, 29.20s/it]/content/drive/MyDrive/tf/tf/TFODCourse/Tensorflow/workspace/images/train/yolov5/train.py:412: FutureWarning: `torch.cuda.amp.autocast(args...)` is deprecated. Please use `torch.amp.autocast('cuda', args...)` instead.\n",
            "with torch.cuda.amp.autocast(amp):\n",
            "        0/2         0G     0.1085    0.03341          0         21        640:  20%|██        | 18/88 [10:18<33:59, 29.14s/it]/content/drive/MyDrive/tf/tf/TFODCourse/Tensorflow/workspace/images/train/yolov5/train.py:412: FutureWarning: `torch.cuda.amp.autocast(args...)` is deprecated. Please use `torch.amp.autocast('cuda', args...)` instead.\n",
            "with torch.cuda.amp.autocast(amp):\n",
            "        0/2         0G     0.1069    0.03318          0         31        640:  22%|██▏       | 19/88 [10:46<33:01, 28.71s/it]/content/drive/MyDrive/tf/tf/TFODCourse/Tensorflow/workspace/images/train/yolov5/train.py:412: FutureWarning: `torch.cuda.amp.autocast(args...)` is deprecated. Please use `torch.amp.autocast('cuda', args...)` instead.\n",
            "with torch.cuda.amp.autocast(amp):\n",
            "        0/2         0G     0.1061    0.03321          0         39        640:  23%|██▎       | 20/88 [11:15<32:43, 28.88s/it]/content/drive/MyDrive/tf/tf/TFODCourse/Tensorflow/workspace/images/train/yolov5/train.py:412: FutureWarning: `torch.cuda.amp.autocast(args...)` is deprecated. Please use `torch.amp.autocast('cuda', args...)` instead.\n",
            "with torch.cuda.amp.autocast(amp):\n",
            "        0/2         0G      0.105    0.03303          0         27        640:  24%|██▍       | 21/88 [11:43<31:53, 28.55s/it]/content/drive/MyDrive/tf/tf/TFODCourse/Tensorflow/workspace/images/train/yolov5/train.py:412: FutureWarning: `torch.cuda.amp.autocast(args...)` is deprecated. Please use `torch.amp.autocast('cuda', args...)` instead.\n",
            "with torch.cuda.amp.autocast(amp):\n",
            "        0/2         0G     0.1038    0.03288          0         29        640:  25%|██▌       | 22/88 [12:14<32:13, 29.29s/it]/content/drive/MyDrive/tf/tf/TFODCourse/Tensorflow/workspace/images/train/yolov5/train.py:412: FutureWarning: `torch.cuda.amp.autocast(args...)` is deprecated. Please use `torch.amp.autocast('cuda', args...)` instead.\n",
            "with torch.cuda.amp.autocast(amp):\n",
            "        0/2         0G     0.1029    0.03284          0         33        640:  26%|██▌       | 23/88 [12:41<31:11, 28.79s/it]/content/drive/MyDrive/tf/tf/TFODCourse/Tensorflow/workspace/images/train/yolov5/train.py:412: FutureWarning: `torch.cuda.amp.autocast(args...)` is deprecated. Please use `torch.amp.autocast('cuda', args...)` instead.\n",
            "with torch.cuda.amp.autocast(amp):\n",
            "        0/2         0G     0.1015    0.03299          0         36        640:  27%|██▋       | 24/88 [13:11<31:00, 29.07s/it]/content/drive/MyDrive/tf/tf/TFODCourse/Tensorflow/workspace/images/train/yolov5/train.py:412: FutureWarning: `torch.cuda.amp.autocast(args...)` is deprecated. Please use `torch.amp.autocast('cuda', args...)` instead.\n",
            "with torch.cuda.amp.autocast(amp):\n",
            "        0/2         0G     0.1006    0.03296          0         35        640:  28%|██▊       | 25/88 [13:38<29:56, 28.52s/it]/content/drive/MyDrive/tf/tf/TFODCourse/Tensorflow/workspace/images/train/yolov5/train.py:412: FutureWarning: `torch.cuda.amp.autocast(args...)` is deprecated. Please use `torch.amp.autocast('cuda', args...)` instead.\n",
            "with torch.cuda.amp.autocast(amp):\n",
            "        0/2         0G    0.09966    0.03296          0         36        640:  30%|██▉       | 26/88 [14:12<31:00, 30.01s/it]/content/drive/MyDrive/tf/tf/TFODCourse/Tensorflow/workspace/images/train/yolov5/train.py:412: FutureWarning: `torch.cuda.amp.autocast(args...)` is deprecated. Please use `torch.amp.autocast('cuda', args...)` instead.\n",
            "with torch.cuda.amp.autocast(amp):\n",
            "        0/2         0G     0.0985    0.03285          0         28        640:  31%|███       | 27/88 [14:40<29:51, 29.37s/it]/content/drive/MyDrive/tf/tf/TFODCourse/Tensorflow/workspace/images/train/yolov5/train.py:412: FutureWarning: `torch.cuda.amp.autocast(args...)` is deprecated. Please use `torch.amp.autocast('cuda', args...)` instead.\n",
            "with torch.cuda.amp.autocast(amp):\n",
            "        0/2         0G    0.09762    0.03276          0         31        640:  32%|███▏      | 28/88 [15:07<28:53, 28.89s/it]/content/drive/MyDrive/tf/tf/TFODCourse/Tensorflow/workspace/images/train/yolov5/train.py:412: FutureWarning: `torch.cuda.amp.autocast(args...)` is deprecated. Please use `torch.amp.autocast('cuda', args...)` instead.\n",
            "with torch.cuda.amp.autocast(amp):\n",
            "        0/2         0G    0.09679    0.03297          0         44        640:  33%|███▎      | 29/88 [15:37<28:38, 29.12s/it]/content/drive/MyDrive/tf/tf/TFODCourse/Tensorflow/workspace/images/train/yolov5/train.py:412: FutureWarning: `torch.cuda.amp.autocast(args...)` is deprecated. Please use `torch.amp.autocast('cuda', args...)` instead.\n",
            "with torch.cuda.amp.autocast(amp):\n",
            "        0/2         0G    0.09599    0.03306          0         39        640:  34%|███▍      | 30/88 [16:05<27:55, 28.88s/it]/content/drive/MyDrive/tf/tf/TFODCourse/Tensorflow/workspace/images/train/yolov5/train.py:412: FutureWarning: `torch.cuda.amp.autocast(args...)` is deprecated. Please use `torch.amp.autocast('cuda', args...)` instead.\n",
            "with torch.cuda.amp.autocast(amp):\n",
            "        0/2         0G    0.09522     0.0329          0         29        640:  35%|███▌      | 31/88 [16:35<27:32, 28.99s/it]/content/drive/MyDrive/tf/tf/TFODCourse/Tensorflow/workspace/images/train/yolov5/train.py:412: FutureWarning: `torch.cuda.amp.autocast(args...)` is deprecated. Please use `torch.amp.autocast('cuda', args...)` instead.\n",
            "with torch.cuda.amp.autocast(amp):\n",
            "        0/2         0G    0.09429    0.03288          0         33        640:  36%|███▋      | 32/88 [17:04<27:06, 29.05s/it]/content/drive/MyDrive/tf/tf/TFODCourse/Tensorflow/workspace/images/train/yolov5/train.py:412: FutureWarning: `torch.cuda.amp.autocast(args...)` is deprecated. Please use `torch.amp.autocast('cuda', args...)` instead.\n",
            "with torch.cuda.amp.autocast(amp):\n",
            "        0/2         0G    0.09344    0.03287          0         34        640:  38%|███▊      | 33/88 [17:37<27:44, 30.26s/it]/content/drive/MyDrive/tf/tf/TFODCourse/Tensorflow/workspace/images/train/yolov5/train.py:412: FutureWarning: `torch.cuda.amp.autocast(args...)` is deprecated. Please use `torch.amp.autocast('cuda', args...)` instead.\n",
            "with torch.cuda.amp.autocast(amp):\n",
            "        0/2         0G      0.093    0.03289          0         39        640:  39%|███▊      | 34/88 [18:07<27:09, 30.18s/it]/content/drive/MyDrive/tf/tf/TFODCourse/Tensorflow/workspace/images/train/yolov5/train.py:412: FutureWarning: `torch.cuda.amp.autocast(args...)` is deprecated. Please use `torch.amp.autocast('cuda', args...)` instead.\n",
            "with torch.cuda.amp.autocast(amp):\n",
            "        0/2         0G    0.09245    0.03301          0         45        640:  40%|███▉      | 35/88 [18:35<26:02, 29.49s/it]/content/drive/MyDrive/tf/tf/TFODCourse/Tensorflow/workspace/images/train/yolov5/train.py:412: FutureWarning: `torch.cuda.amp.autocast(args...)` is deprecated. Please use `torch.amp.autocast('cuda', args...)` instead.\n",
            "with torch.cuda.amp.autocast(amp):\n",
            "        0/2         0G    0.09205    0.03283          0         27        640:  41%|████      | 36/88 [19:02<25:04, 28.92s/it]/content/drive/MyDrive/tf/tf/TFODCourse/Tensorflow/workspace/images/train/yolov5/train.py:412: FutureWarning: `torch.cuda.amp.autocast(args...)` is deprecated. Please use `torch.amp.autocast('cuda', args...)` instead.\n",
            "with torch.cuda.amp.autocast(amp):\n",
            "        0/2         0G    0.09126    0.03296          0         40        640:  42%|████▏     | 37/88 [19:32<24:43, 29.10s/it]/content/drive/MyDrive/tf/tf/TFODCourse/Tensorflow/workspace/images/train/yolov5/train.py:412: FutureWarning: `torch.cuda.amp.autocast(args...)` is deprecated. Please use `torch.amp.autocast('cuda', args...)` instead.\n",
            "with torch.cuda.amp.autocast(amp):\n",
            "        0/2         0G    0.09037    0.03301          0         36        640:  43%|████▎     | 38/88 [20:00<24:00, 28.81s/it]/content/drive/MyDrive/tf/tf/TFODCourse/Tensorflow/workspace/images/train/yolov5/train.py:412: FutureWarning: `torch.cuda.amp.autocast(args...)` is deprecated. Please use `torch.amp.autocast('cuda', args...)` instead.\n",
            "with torch.cuda.amp.autocast(amp):\n",
            "        0/2         0G    0.08968    0.03293          0         31        640:  44%|████▍     | 39/88 [20:29<23:32, 28.83s/it]/content/drive/MyDrive/tf/tf/TFODCourse/Tensorflow/workspace/images/train/yolov5/train.py:412: FutureWarning: `torch.cuda.amp.autocast(args...)` is deprecated. Please use `torch.amp.autocast('cuda', args...)` instead.\n",
            "with torch.cuda.amp.autocast(amp):\n",
            "        0/2         0G    0.08921    0.03295          0         36        640:  45%|████▌     | 40/88 [20:58<23:12, 29.00s/it]/content/drive/MyDrive/tf/tf/TFODCourse/Tensorflow/workspace/images/train/yolov5/train.py:412: FutureWarning: `torch.cuda.amp.autocast(args...)` is deprecated. Please use `torch.amp.autocast('cuda', args...)` instead.\n",
            "with torch.cuda.amp.autocast(amp):\n",
            "        0/2         0G    0.08863    0.03293          0         35        640:  47%|████▋     | 41/88 [21:26<22:22, 28.56s/it]/content/drive/MyDrive/tf/tf/TFODCourse/Tensorflow/workspace/images/train/yolov5/train.py:412: FutureWarning: `torch.cuda.amp.autocast(args...)` is deprecated. Please use `torch.amp.autocast('cuda', args...)` instead.\n",
            "with torch.cuda.amp.autocast(amp):\n",
            "        0/2         0G     0.0881     0.0328          0         31        640:  48%|████▊     | 42/88 [21:55<22:07, 28.86s/it]/content/drive/MyDrive/tf/tf/TFODCourse/Tensorflow/workspace/images/train/yolov5/train.py:412: FutureWarning: `torch.cuda.amp.autocast(args...)` is deprecated. Please use `torch.amp.autocast('cuda', args...)` instead.\n",
            "with torch.cuda.amp.autocast(amp):\n",
            "        0/2         0G    0.08754    0.03282          0         36        640:  49%|████▉     | 43/88 [22:23<21:19, 28.44s/it]/content/drive/MyDrive/tf/tf/TFODCourse/Tensorflow/workspace/images/train/yolov5/train.py:412: FutureWarning: `torch.cuda.amp.autocast(args...)` is deprecated. Please use `torch.amp.autocast('cuda', args...)` instead.\n",
            "with torch.cuda.amp.autocast(amp):\n",
            "        0/2         0G    0.08692    0.03265          0         27        640:  50%|█████     | 44/88 [22:51<20:45, 28.32s/it]/content/drive/MyDrive/tf/tf/TFODCourse/Tensorflow/workspace/images/train/yolov5/train.py:412: FutureWarning: `torch.cuda.amp.autocast(args...)` is deprecated. Please use `torch.amp.autocast('cuda', args...)` instead.\n",
            "with torch.cuda.amp.autocast(amp):\n",
            "        0/2         0G    0.08632    0.03268          0         37        640:  51%|█████     | 45/88 [23:21<20:44, 28.94s/it]/content/drive/MyDrive/tf/tf/TFODCourse/Tensorflow/workspace/images/train/yolov5/train.py:412: FutureWarning: `torch.cuda.amp.autocast(args...)` is deprecated. Please use `torch.amp.autocast('cuda', args...)` instead.\n",
            "with torch.cuda.amp.autocast(amp):\n",
            "        0/2         0G    0.08573    0.03261          0         32        640:  52%|█████▏    | 46/88 [23:50<20:09, 28.81s/it]/content/drive/MyDrive/tf/tf/TFODCourse/Tensorflow/workspace/images/train/yolov5/train.py:412: FutureWarning: `torch.cuda.amp.autocast(args...)` is deprecated. Please use `torch.amp.autocast('cuda', args...)` instead.\n",
            "with torch.cuda.amp.autocast(amp):\n",
            "        0/2         0G    0.08524    0.03262          0         35        640:  53%|█████▎    | 47/88 [24:16<19:14, 28.16s/it]/content/drive/MyDrive/tf/tf/TFODCourse/Tensorflow/workspace/images/train/yolov5/train.py:412: FutureWarning: `torch.cuda.amp.autocast(args...)` is deprecated. Please use `torch.amp.autocast('cuda', args...)` instead.\n",
            "with torch.cuda.amp.autocast(amp):\n",
            "        0/2         0G     0.0848    0.03251          0         31        640:  55%|█████▍    | 48/88 [24:46<19:00, 28.51s/it]/content/drive/MyDrive/tf/tf/TFODCourse/Tensorflow/workspace/images/train/yolov5/train.py:412: FutureWarning: `torch.cuda.amp.autocast(args...)` is deprecated. Please use `torch.amp.autocast('cuda', args...)` instead.\n",
            "with torch.cuda.amp.autocast(amp):\n",
            "        0/2         0G    0.08429    0.03253          0         38        640:  56%|█████▌    | 49/88 [25:14<18:33, 28.54s/it]/content/drive/MyDrive/tf/tf/TFODCourse/Tensorflow/workspace/images/train/yolov5/train.py:412: FutureWarning: `torch.cuda.amp.autocast(args...)` is deprecated. Please use `torch.amp.autocast('cuda', args...)` instead.\n",
            "with torch.cuda.amp.autocast(amp):\n",
            "        0/2         0G    0.08387    0.03237          0         25        640:  57%|█████▋    | 50/88 [25:43<18:07, 28.62s/it]/content/drive/MyDrive/tf/tf/TFODCourse/Tensorflow/workspace/images/train/yolov5/train.py:412: FutureWarning: `torch.cuda.amp.autocast(args...)` is deprecated. Please use `torch.amp.autocast('cuda', args...)` instead.\n",
            "with torch.cuda.amp.autocast(amp):\n",
            "        0/2         0G    0.08342    0.03224          0         29        640:  58%|█████▊    | 51/88 [26:14<18:00, 29.20s/it]/content/drive/MyDrive/tf/tf/TFODCourse/Tensorflow/workspace/images/train/yolov5/train.py:412: FutureWarning: `torch.cuda.amp.autocast(args...)` is deprecated. Please use `torch.amp.autocast('cuda', args...)` instead.\n",
            "with torch.cuda.amp.autocast(amp):\n",
            "        0/2         0G    0.08297    0.03225          0         38        640:  59%|█████▉    | 52/88 [26:42<17:21, 28.92s/it]/content/drive/MyDrive/tf/tf/TFODCourse/Tensorflow/workspace/images/train/yolov5/train.py:412: FutureWarning: `torch.cuda.amp.autocast(args...)` is deprecated. Please use `torch.amp.autocast('cuda', args...)` instead.\n",
            "with torch.cuda.amp.autocast(amp):\n",
            "        0/2         0G    0.08242    0.03213          0         28        640:  60%|██████    | 53/88 [27:10<16:39, 28.56s/it]/content/drive/MyDrive/tf/tf/TFODCourse/Tensorflow/workspace/images/train/yolov5/train.py:412: FutureWarning: `torch.cuda.amp.autocast(args...)` is deprecated. Please use `torch.amp.autocast('cuda', args...)` instead.\n",
            "with torch.cuda.amp.autocast(amp):\n",
            "        0/2         0G    0.08204    0.03209          0         36        640:  61%|██████▏   | 54/88 [27:40<16:27, 29.03s/it]/content/drive/MyDrive/tf/tf/TFODCourse/Tensorflow/workspace/images/train/yolov5/train.py:412: FutureWarning: `torch.cuda.amp.autocast(args...)` is deprecated. Please use `torch.amp.autocast('cuda', args...)` instead.\n",
            "with torch.cuda.amp.autocast(amp):\n",
            "        0/2         0G    0.08152    0.03192          0         24        640:  62%|██████▎   | 55/88 [28:07<15:41, 28.53s/it]/content/drive/MyDrive/tf/tf/TFODCourse/Tensorflow/workspace/images/train/yolov5/train.py:412: FutureWarning: `torch.cuda.amp.autocast(args...)` is deprecated. Please use `torch.amp.autocast('cuda', args...)` instead.\n",
            "with torch.cuda.amp.autocast(amp):\n",
            "        0/2         0G    0.08104    0.03182          0         30        640:  64%|██████▎   | 56/88 [28:42<16:16, 30.52s/it]/content/drive/MyDrive/tf/tf/TFODCourse/Tensorflow/workspace/images/train/yolov5/train.py:412: FutureWarning: `torch.cuda.amp.autocast(args...)` is deprecated. Please use `torch.amp.autocast('cuda', args...)` instead.\n",
            "with torch.cuda.amp.autocast(amp):\n",
            "        0/2         0G    0.08063    0.03175          0         34        640:  65%|██████▍   | 57/88 [29:09<15:15, 29.54s/it]/content/drive/MyDrive/tf/tf/TFODCourse/Tensorflow/workspace/images/train/yolov5/train.py:412: FutureWarning: `torch.cuda.amp.autocast(args...)` is deprecated. Please use `torch.amp.autocast('cuda', args...)` instead.\n",
            "with torch.cuda.amp.autocast(amp):\n",
            "        0/2         0G    0.08018    0.03172          0         35        640:  66%|██████▌   | 58/88 [29:38<14:39, 29.31s/it]/content/drive/MyDrive/tf/tf/TFODCourse/Tensorflow/workspace/images/train/yolov5/train.py:412: FutureWarning: `torch.cuda.amp.autocast(args...)` is deprecated. Please use `torch.amp.autocast('cuda', args...)` instead.\n",
            "with torch.cuda.amp.autocast(amp):\n",
            "        0/2         0G    0.07977    0.03166          0         33        640:  67%|██████▋   | 59/88 [30:12<14:46, 30.56s/it]/content/drive/MyDrive/tf/tf/TFODCourse/Tensorflow/workspace/images/train/yolov5/train.py:412: FutureWarning: `torch.cuda.amp.autocast(args...)` is deprecated. Please use `torch.amp.autocast('cuda', args...)` instead.\n",
            "with torch.cuda.amp.autocast(amp):\n",
            "        0/2         0G    0.07941    0.03166          0         37        640:  68%|██████▊   | 60/88 [30:48<15:00, 32.16s/it]/content/drive/MyDrive/tf/tf/TFODCourse/Tensorflow/workspace/images/train/yolov5/train.py:412: FutureWarning: `torch.cuda.amp.autocast(args...)` is deprecated. Please use `torch.amp.autocast('cuda', args...)` instead.\n",
            "with torch.cuda.amp.autocast(amp):\n",
            "        0/2         0G    0.07912    0.03162          0         37        640:  69%|██████▉   | 61/88 [31:15<13:53, 30.87s/it]/content/drive/MyDrive/tf/tf/TFODCourse/Tensorflow/workspace/images/train/yolov5/train.py:412: FutureWarning: `torch.cuda.amp.autocast(args...)` is deprecated. Please use `torch.amp.autocast('cuda', args...)` instead.\n",
            "with torch.cuda.amp.autocast(amp):\n",
            "        0/2         0G    0.07882    0.03159          0         37        640:  70%|███████   | 62/88 [31:45<13:09, 30.38s/it]/content/drive/MyDrive/tf/tf/TFODCourse/Tensorflow/workspace/images/train/yolov5/train.py:412: FutureWarning: `torch.cuda.amp.autocast(args...)` is deprecated. Please use `torch.amp.autocast('cuda', args...)` instead.\n",
            "with torch.cuda.amp.autocast(amp):\n",
            "        0/2         0G    0.07839    0.03153          0         33        640:  72%|███████▏  | 63/88 [32:18<12:59, 31.20s/it]/content/drive/MyDrive/tf/tf/TFODCourse/Tensorflow/workspace/images/train/yolov5/train.py:412: FutureWarning: `torch.cuda.amp.autocast(args...)` is deprecated. Please use `torch.amp.autocast('cuda', args...)` instead.\n",
            "with torch.cuda.amp.autocast(amp):\n",
            "        0/2         0G    0.07819    0.03148          0         34        640:  73%|███████▎  | 64/88 [32:47<12:15, 30.65s/it]/content/drive/MyDrive/tf/tf/TFODCourse/Tensorflow/workspace/images/train/yolov5/train.py:412: FutureWarning: `torch.cuda.amp.autocast(args...)` is deprecated. Please use `torch.amp.autocast('cuda', args...)` instead.\n",
            "with torch.cuda.amp.autocast(amp):\n",
            "        0/2         0G    0.07791    0.03143          0         35        640:  74%|███████▍  | 65/88 [33:17<11:40, 30.44s/it]/content/drive/MyDrive/tf/tf/TFODCourse/Tensorflow/workspace/images/train/yolov5/train.py:412: FutureWarning: `torch.cuda.amp.autocast(args...)` is deprecated. Please use `torch.amp.autocast('cuda', args...)` instead.\n",
            "with torch.cuda.amp.autocast(amp):\n",
            "        0/2         0G    0.07766    0.03134          0         34        640:  75%|███████▌  | 66/88 [33:45<10:54, 29.73s/it]/content/drive/MyDrive/tf/tf/TFODCourse/Tensorflow/workspace/images/train/yolov5/train.py:412: FutureWarning: `torch.cuda.amp.autocast(args...)` is deprecated. Please use `torch.amp.autocast('cuda', args...)` instead.\n",
            "with torch.cuda.amp.autocast(amp):\n",
            "        0/2         0G    0.07738     0.0313          0         35        640:  76%|███████▌  | 67/88 [34:16<10:29, 29.97s/it]/content/drive/MyDrive/tf/tf/TFODCourse/Tensorflow/workspace/images/train/yolov5/train.py:412: FutureWarning: `torch.cuda.amp.autocast(args...)` is deprecated. Please use `torch.amp.autocast('cuda', args...)` instead.\n",
            "with torch.cuda.amp.autocast(amp):\n",
            "        0/2         0G    0.07715    0.03124          0         35        640:  77%|███████▋  | 68/88 [34:45<09:57, 29.88s/it]/content/drive/MyDrive/tf/tf/TFODCourse/Tensorflow/workspace/images/train/yolov5/train.py:412: FutureWarning: `torch.cuda.amp.autocast(args...)` is deprecated. Please use `torch.amp.autocast('cuda', args...)` instead.\n",
            "with torch.cuda.amp.autocast(amp):\n",
            "        0/2         0G    0.07691    0.03119          0         38        640:  78%|███████▊  | 69/88 [35:13<09:14, 29.19s/it]/content/drive/MyDrive/tf/tf/TFODCourse/Tensorflow/workspace/images/train/yolov5/train.py:412: FutureWarning: `torch.cuda.amp.autocast(args...)` is deprecated. Please use `torch.amp.autocast('cuda', args...)` instead.\n",
            "with torch.cuda.amp.autocast(amp):\n",
            "        0/2         0G    0.07668    0.03109          0         32        640:  80%|███████▉  | 70/88 [35:42<08:42, 29.03s/it]/content/drive/MyDrive/tf/tf/TFODCourse/Tensorflow/workspace/images/train/yolov5/train.py:412: FutureWarning: `torch.cuda.amp.autocast(args...)` is deprecated. Please use `torch.amp.autocast('cuda', args...)` instead.\n",
            "with torch.cuda.amp.autocast(amp):\n",
            "        0/2         0G    0.07632    0.03104          0         36        640:  81%|████████  | 71/88 [36:11<08:13, 29.01s/it]/content/drive/MyDrive/tf/tf/TFODCourse/Tensorflow/workspace/images/train/yolov5/train.py:412: FutureWarning: `torch.cuda.amp.autocast(args...)` is deprecated. Please use `torch.amp.autocast('cuda', args...)` instead.\n",
            "with torch.cuda.amp.autocast(amp):\n",
            "        0/2         0G    0.07609    0.03101          0         35        640:  82%|████████▏ | 72/88 [36:38<07:37, 28.57s/it]/content/drive/MyDrive/tf/tf/TFODCourse/Tensorflow/workspace/images/train/yolov5/train.py:412: FutureWarning: `torch.cuda.amp.autocast(args...)` is deprecated. Please use `torch.amp.autocast('cuda', args...)` instead.\n",
            "with torch.cuda.amp.autocast(amp):\n",
            "        0/2         0G    0.07581    0.03098          0         36        640:  83%|████████▎ | 73/88 [37:05<07:01, 28.10s/it]/content/drive/MyDrive/tf/tf/TFODCourse/Tensorflow/workspace/images/train/yolov5/train.py:412: FutureWarning: `torch.cuda.amp.autocast(args...)` is deprecated. Please use `torch.amp.autocast('cuda', args...)` instead.\n",
            "with torch.cuda.amp.autocast(amp):\n",
            "        0/2         0G    0.07549    0.03096          0         38        640:  84%|████████▍ | 74/88 [37:36<06:42, 28.77s/it]/content/drive/MyDrive/tf/tf/TFODCourse/Tensorflow/workspace/images/train/yolov5/train.py:412: FutureWarning: `torch.cuda.amp.autocast(args...)` is deprecated. Please use `torch.amp.autocast('cuda', args...)` instead.\n",
            "with torch.cuda.amp.autocast(amp):\n",
            "        0/2         0G    0.07522    0.03083          0         29        640:  85%|████████▌ | 75/88 [38:03<06:10, 28.51s/it]/content/drive/MyDrive/tf/tf/TFODCourse/Tensorflow/workspace/images/train/yolov5/train.py:412: FutureWarning: `torch.cuda.amp.autocast(args...)` is deprecated. Please use `torch.amp.autocast('cuda', args...)` instead.\n",
            "with torch.cuda.amp.autocast(amp):\n",
            "        0/2         0G    0.07498    0.03085          0         42        640:  86%|████████▋ | 76/88 [38:32<05:43, 28.66s/it]/content/drive/MyDrive/tf/tf/TFODCourse/Tensorflow/workspace/images/train/yolov5/train.py:412: FutureWarning: `torch.cuda.amp.autocast(args...)` is deprecated. Please use `torch.amp.autocast('cuda', args...)` instead.\n",
            "with torch.cuda.amp.autocast(amp):\n",
            "        0/2         0G     0.0747    0.03078          0         33        640:  88%|████████▊ | 77/88 [39:03<05:20, 29.17s/it]/content/drive/MyDrive/tf/tf/TFODCourse/Tensorflow/workspace/images/train/yolov5/train.py:412: FutureWarning: `torch.cuda.amp.autocast(args...)` is deprecated. Please use `torch.amp.autocast('cuda', args...)` instead.\n",
            "with torch.cuda.amp.autocast(amp):\n",
            "        0/2         0G    0.07439    0.03076          0         40        640:  89%|████████▊ | 78/88 [39:37<05:07, 30.78s/it]/content/drive/MyDrive/tf/tf/TFODCourse/Tensorflow/workspace/images/train/yolov5/train.py:412: FutureWarning: `torch.cuda.amp.autocast(args...)` is deprecated. Please use `torch.amp.autocast('cuda', args...)` instead.\n",
            "with torch.cuda.amp.autocast(amp):\n",
            "        0/2         0G    0.07414    0.03068          0         32        640:  90%|████████▉ | 79/88 [40:06<04:30, 30.10s/it]/content/drive/MyDrive/tf/tf/TFODCourse/Tensorflow/workspace/images/train/yolov5/train.py:412: FutureWarning: `torch.cuda.amp.autocast(args...)` is deprecated. Please use `torch.amp.autocast('cuda', args...)` instead.\n",
            "with torch.cuda.amp.autocast(amp):\n",
            "        0/2         0G    0.07387    0.03062          0         36        640:  91%|█████████ | 80/88 [40:34<03:56, 29.55s/it]/content/drive/MyDrive/tf/tf/TFODCourse/Tensorflow/workspace/images/train/yolov5/train.py:412: FutureWarning: `torch.cuda.amp.autocast(args...)` is deprecated. Please use `torch.amp.autocast('cuda', args...)` instead.\n",
            "with torch.cuda.amp.autocast(amp):\n",
            "        0/2         0G    0.07365    0.03053          0         32        640:  92%|█████████▏| 81/88 [41:05<03:29, 29.87s/it]/content/drive/MyDrive/tf/tf/TFODCourse/Tensorflow/workspace/images/train/yolov5/train.py:412: FutureWarning: `torch.cuda.amp.autocast(args...)` is deprecated. Please use `torch.amp.autocast('cuda', args...)` instead.\n",
            "with torch.cuda.amp.autocast(amp):\n",
            "        0/2         0G    0.07345    0.03044          0         33        640:  93%|█████████▎| 82/88 [41:33<02:56, 29.36s/it]/content/drive/MyDrive/tf/tf/TFODCourse/Tensorflow/workspace/images/train/yolov5/train.py:412: FutureWarning: `torch.cuda.amp.autocast(args...)` is deprecated. Please use `torch.amp.autocast('cuda', args...)` instead.\n",
            "with torch.cuda.amp.autocast(amp):\n",
            "        0/2         0G    0.07323    0.03038          0         36        640:  94%|█████████▍| 83/88 [42:01<02:24, 28.98s/it]/content/drive/MyDrive/tf/tf/TFODCourse/Tensorflow/workspace/images/train/yolov5/train.py:412: FutureWarning: `torch.cuda.amp.autocast(args...)` is deprecated. Please use `torch.amp.autocast('cuda', args...)` instead.\n",
            "with torch.cuda.amp.autocast(amp):\n",
            "        0/2         0G    0.07303    0.03031          0         33        640:  95%|█████████▌| 84/88 [42:34<02:00, 30.06s/it]/content/drive/MyDrive/tf/tf/TFODCourse/Tensorflow/workspace/images/train/yolov5/train.py:412: FutureWarning: `torch.cuda.amp.autocast(args...)` is deprecated. Please use `torch.amp.autocast('cuda', args...)` instead.\n",
            "with torch.cuda.amp.autocast(amp):\n",
            "        0/2         0G    0.07285    0.03022          0         32        640:  97%|█████████▋| 85/88 [43:01<01:27, 29.28s/it]/content/drive/MyDrive/tf/tf/TFODCourse/Tensorflow/workspace/images/train/yolov5/train.py:412: FutureWarning: `torch.cuda.amp.autocast(args...)` is deprecated. Please use `torch.amp.autocast('cuda', args...)` instead.\n",
            "with torch.cuda.amp.autocast(amp):\n",
            "        0/2         0G     0.0727    0.03007          0         23        640:  98%|█████████▊| 86/88 [43:30<00:58, 29.17s/it]/content/drive/MyDrive/tf/tf/TFODCourse/Tensorflow/workspace/images/train/yolov5/train.py:412: FutureWarning: `torch.cuda.amp.autocast(args...)` is deprecated. Please use `torch.amp.autocast('cuda', args...)` instead.\n",
            "with torch.cuda.amp.autocast(amp):\n",
            "        0/2         0G    0.07241    0.02998          0         30        640:  99%|█████████▉| 87/88 [43:59<00:29, 29.02s/it]/content/drive/MyDrive/tf/tf/TFODCourse/Tensorflow/workspace/images/train/yolov5/train.py:412: FutureWarning: `torch.cuda.amp.autocast(args...)` is deprecated. Please use `torch.amp.autocast('cuda', args...)` instead.\n",
            "with torch.cuda.amp.autocast(amp):\n",
            "        0/2         0G    0.07214    0.02986          0         12        640: 100%|██████████| 88/88 [44:14<00:00, 30.16s/it]\n",
            "                 Class     Images  Instances          P          R      mAP50   mAP50-95: 100%|██████████| 10/10 [02:32<00:00, 15.22s/it]\n",
            "all        310        314      0.339      0.561      0.316      0.122\n",
            "\n",
            "Epoch    GPU_mem   box_loss   obj_loss   cls_loss  Instances       Size\n",
            "0%|          | 0/88 [00:00<?, ?it/s]/content/drive/MyDrive/tf/tf/TFODCourse/Tensorflow/workspace/images/train/yolov5/train.py:412: FutureWarning: `torch.cuda.amp.autocast(args...)` is deprecated. Please use `torch.amp.autocast('cuda', args...)` instead.\n",
            "with torch.cuda.amp.autocast(amp):\n",
            "        1/2         0G    0.05965    0.02376          0         35        640:   1%|          | 1/88 [00:27<40:14, 27.75s/it]/content/drive/MyDrive/tf/tf/TFODCourse/Tensorflow/workspace/images/train/yolov5/train.py:412: FutureWarning: `torch.cuda.amp.autocast(args...)` is deprecated. Please use `torch.amp.autocast('cuda', args...)` instead.\n",
            "with torch.cuda.amp.autocast(amp):\n",
            "        1/2         0G    0.05705    0.02331          0         32        640:   2%|▏         | 2/88 [00:57<41:43, 29.11s/it]/content/drive/MyDrive/tf/tf/TFODCourse/Tensorflow/workspace/images/train/yolov5/train.py:412: FutureWarning: `torch.cuda.amp.autocast(args...)` is deprecated. Please use `torch.amp.autocast('cuda', args...)` instead.\n",
            "with torch.cuda.amp.autocast(amp):\n",
            "        1/2         0G    0.05252    0.02256          0         33        640:   3%|▎         | 3/88 [01:27<41:32, 29.32s/it]/content/drive/MyDrive/tf/tf/TFODCourse/Tensorflow/workspace/images/train/yolov5/train.py:412: FutureWarning: `torch.cuda.amp.autocast(args...)` is deprecated. Please use `torch.amp.autocast('cuda', args...)` instead.\n",
            "with torch.cuda.amp.autocast(amp):\n",
            "        1/2         0G    0.05304    0.02228          0         31        640:   5%|▍         | 4/88 [01:57<41:14, 29.46s/it]/content/drive/MyDrive/tf/tf/TFODCourse/Tensorflow/workspace/images/train/yolov5/train.py:412: FutureWarning: `torch.cuda.amp.autocast(args...)` is deprecated. Please use `torch.amp.autocast('cuda', args...)` instead.\n",
            "with torch.cuda.amp.autocast(amp):\n",
            "        1/2         0G    0.05256    0.02252          0         35        640:   6%|▌         | 5/88 [02:25<40:17, 29.13s/it]/content/drive/MyDrive/tf/tf/TFODCourse/Tensorflow/workspace/images/train/yolov5/train.py:412: FutureWarning: `torch.cuda.amp.autocast(args...)` is deprecated. Please use `torch.amp.autocast('cuda', args...)` instead.\n",
            "with torch.cuda.amp.autocast(amp):\n",
            "        1/2         0G    0.05189    0.02372          0         40        640:   7%|▋         | 6/88 [02:54<39:52, 29.17s/it]/content/drive/MyDrive/tf/tf/TFODCourse/Tensorflow/workspace/images/train/yolov5/train.py:412: FutureWarning: `torch.cuda.amp.autocast(args...)` is deprecated. Please use `torch.amp.autocast('cuda', args...)` instead.\n",
            "with torch.cuda.amp.autocast(amp):\n",
            "        1/2         0G    0.05161    0.02457          0         44        640:   8%|▊         | 7/88 [03:25<40:09, 29.74s/it]/content/drive/MyDrive/tf/tf/TFODCourse/Tensorflow/workspace/images/train/yolov5/train.py:412: FutureWarning: `torch.cuda.amp.autocast(args...)` is deprecated. Please use `torch.amp.autocast('cuda', args...)` instead.\n",
            "with torch.cuda.amp.autocast(amp):\n",
            "        1/2         0G    0.05165    0.02455          0         36        640:   9%|▉         | 8/88 [03:57<40:19, 30.24s/it]/content/drive/MyDrive/tf/tf/TFODCourse/Tensorflow/workspace/images/train/yolov5/train.py:412: FutureWarning: `torch.cuda.amp.autocast(args...)` is deprecated. Please use `torch.amp.autocast('cuda', args...)` instead.\n",
            "with torch.cuda.amp.autocast(amp):\n",
            "        1/2         0G    0.05087    0.02451          0         33        640:  10%|█         | 9/88 [04:26<39:26, 29.96s/it]/content/drive/MyDrive/tf/tf/TFODCourse/Tensorflow/workspace/images/train/yolov5/train.py:412: FutureWarning: `torch.cuda.amp.autocast(args...)` is deprecated. Please use `torch.amp.autocast('cuda', args...)` instead.\n",
            "with torch.cuda.amp.autocast(amp):\n",
            "        1/2         0G    0.05057    0.02481          0         36        640:  11%|█▏        | 10/88 [04:57<39:26, 30.34s/it]/content/drive/MyDrive/tf/tf/TFODCourse/Tensorflow/workspace/images/train/yolov5/train.py:412: FutureWarning: `torch.cuda.amp.autocast(args...)` is deprecated. Please use `torch.amp.autocast('cuda', args...)` instead.\n",
            "with torch.cuda.amp.autocast(amp):\n",
            "        1/2         0G    0.05088    0.02437          0         29        640:  12%|█▎        | 11/88 [05:25<38:07, 29.71s/it]/content/drive/MyDrive/tf/tf/TFODCourse/Tensorflow/workspace/images/train/yolov5/train.py:412: FutureWarning: `torch.cuda.amp.autocast(args...)` is deprecated. Please use `torch.amp.autocast('cuda', args...)` instead.\n",
            "with torch.cuda.amp.autocast(amp):\n",
            "        1/2         0G    0.05048    0.02431          0         33        640:  14%|█▎        | 12/88 [05:57<38:28, 30.38s/it]/content/drive/MyDrive/tf/tf/TFODCourse/Tensorflow/workspace/images/train/yolov5/train.py:412: FutureWarning: `torch.cuda.amp.autocast(args...)` is deprecated. Please use `torch.amp.autocast('cuda', args...)` instead.\n",
            "with torch.cuda.amp.autocast(amp):\n",
            "        1/2         0G    0.05007    0.02448          0         40        640:  15%|█▍        | 13/88 [06:25<37:06, 29.69s/it]/content/drive/MyDrive/tf/tf/TFODCourse/Tensorflow/workspace/images/train/yolov5/train.py:412: FutureWarning: `torch.cuda.amp.autocast(args...)` is deprecated. Please use `torch.amp.autocast('cuda', args...)` instead.\n",
            "with torch.cuda.amp.autocast(amp):\n",
            "        1/2         0G    0.04979    0.02466          0         38        640:  16%|█▌        | 14/88 [06:58<37:35, 30.48s/it]/content/drive/MyDrive/tf/tf/TFODCourse/Tensorflow/workspace/images/train/yolov5/train.py:412: FutureWarning: `torch.cuda.amp.autocast(args...)` is deprecated. Please use `torch.amp.autocast('cuda', args...)` instead.\n",
            "with torch.cuda.amp.autocast(amp):\n",
            "        1/2         0G     0.0501    0.02485          0         43        640:  17%|█▋        | 15/88 [07:30<37:39, 30.95s/it]/content/drive/MyDrive/tf/tf/TFODCourse/Tensorflow/workspace/images/train/yolov5/train.py:412: FutureWarning: `torch.cuda.amp.autocast(args...)` is deprecated. Please use `torch.amp.autocast('cuda', args...)` instead.\n",
            "with torch.cuda.amp.autocast(amp):\n",
            "        1/2         0G    0.05037    0.02462          0         31        640:  18%|█▊        | 16/88 [08:01<37:11, 31.00s/it]/content/drive/MyDrive/tf/tf/TFODCourse/Tensorflow/workspace/images/train/yolov5/train.py:412: FutureWarning: `torch.cuda.amp.autocast(args...)` is deprecated. Please use `torch.amp.autocast('cuda', args...)` instead.\n",
            "with torch.cuda.amp.autocast(amp):\n",
            "        1/2         0G    0.05013    0.02446          0         31        640:  19%|█▉        | 17/88 [08:29<35:48, 30.26s/it]/content/drive/MyDrive/tf/tf/TFODCourse/Tensorflow/workspace/images/train/yolov5/train.py:412: FutureWarning: `torch.cuda.amp.autocast(args...)` is deprecated. Please use `torch.amp.autocast('cuda', args...)` instead.\n",
            "with torch.cuda.amp.autocast(amp):\n",
            "        1/2         0G    0.05009    0.02437          0         35        640:  20%|██        | 18/88 [09:00<35:35, 30.51s/it]/content/drive/MyDrive/tf/tf/TFODCourse/Tensorflow/workspace/images/train/yolov5/train.py:412: FutureWarning: `torch.cuda.amp.autocast(args...)` is deprecated. Please use `torch.amp.autocast('cuda', args...)` instead.\n",
            "with torch.cuda.amp.autocast(amp):\n",
            "        1/2         0G    0.05013    0.02432          0         37        640:  22%|██▏       | 19/88 [09:34<36:00, 31.31s/it]/content/drive/MyDrive/tf/tf/TFODCourse/Tensorflow/workspace/images/train/yolov5/train.py:412: FutureWarning: `torch.cuda.amp.autocast(args...)` is deprecated. Please use `torch.amp.autocast('cuda', args...)` instead.\n",
            "with torch.cuda.amp.autocast(amp):\n",
            "        1/2         0G    0.05019     0.0243          0         37        640:  23%|██▎       | 20/88 [10:03<34:52, 30.78s/it]/content/drive/MyDrive/tf/tf/TFODCourse/Tensorflow/workspace/images/train/yolov5/train.py:412: FutureWarning: `torch.cuda.amp.autocast(args...)` is deprecated. Please use `torch.amp.autocast('cuda', args...)` instead.\n",
            "with torch.cuda.amp.autocast(amp):\n",
            "        1/2         0G    0.05017    0.02413          0         32        640:  24%|██▍       | 21/88 [10:33<34:04, 30.51s/it]/content/drive/MyDrive/tf/tf/TFODCourse/Tensorflow/workspace/images/train/yolov5/train.py:412: FutureWarning: `torch.cuda.amp.autocast(args...)` is deprecated. Please use `torch.amp.autocast('cuda', args...)` instead.\n",
            "with torch.cuda.amp.autocast(amp):\n",
            "        1/2         0G    0.05021    0.02431          0         41        640:  25%|██▌       | 22/88 [11:02<33:03, 30.05s/it]/content/drive/MyDrive/tf/tf/TFODCourse/Tensorflow/workspace/images/train/yolov5/train.py:412: FutureWarning: `torch.cuda.amp.autocast(args...)` is deprecated. Please use `torch.amp.autocast('cuda', args...)` instead.\n",
            "with torch.cuda.amp.autocast(amp):\n",
            "        1/2         0G    0.05023    0.02407          0         34        640:  26%|██▌       | 23/88 [11:32<32:28, 29.98s/it]/content/drive/MyDrive/tf/tf/TFODCourse/Tensorflow/workspace/images/train/yolov5/train.py:412: FutureWarning: `torch.cuda.amp.autocast(args...)` is deprecated. Please use `torch.amp.autocast('cuda', args...)` instead.\n",
            "with torch.cuda.amp.autocast(amp):\n",
            "        1/2         0G    0.05013     0.0239          0         33        640:  27%|██▋       | 24/88 [12:01<31:49, 29.84s/it]/content/drive/MyDrive/tf/tf/TFODCourse/Tensorflow/workspace/images/train/yolov5/train.py:412: FutureWarning: `torch.cuda.amp.autocast(args...)` is deprecated. Please use `torch.amp.autocast('cuda', args...)` instead.\n",
            "with torch.cuda.amp.autocast(amp):\n",
            "        1/2         0G    0.05023    0.02381          0         36        640:  28%|██▊       | 25/88 [12:33<31:49, 30.32s/it]/content/drive/MyDrive/tf/tf/TFODCourse/Tensorflow/workspace/images/train/yolov5/train.py:412: FutureWarning: `torch.cuda.amp.autocast(args...)` is deprecated. Please use `torch.amp.autocast('cuda', args...)` instead.\n",
            "with torch.cuda.amp.autocast(amp):\n",
            "        1/2         0G       0.05    0.02373          0         34        640:  30%|██▉       | 26/88 [13:01<30:43, 29.73s/it]/content/drive/MyDrive/tf/tf/TFODCourse/Tensorflow/workspace/images/train/yolov5/train.py:412: FutureWarning: `torch.cuda.amp.autocast(args...)` is deprecated. Please use `torch.amp.autocast('cuda', args...)` instead.\n",
            "with torch.cuda.amp.autocast(amp):\n",
            "        1/2         0G    0.05004    0.02365          0         35        640:  31%|███       | 27/88 [13:33<30:55, 30.42s/it]/content/drive/MyDrive/tf/tf/TFODCourse/Tensorflow/workspace/images/train/yolov5/train.py:412: FutureWarning: `torch.cuda.amp.autocast(args...)` is deprecated. Please use `torch.amp.autocast('cuda', args...)` instead.\n",
            "with torch.cuda.amp.autocast(amp):\n",
            "        1/2         0G    0.04992    0.02355          0         33        640:  32%|███▏      | 28/88 [14:02<30:04, 30.07s/it]/content/drive/MyDrive/tf/tf/TFODCourse/Tensorflow/workspace/images/train/yolov5/train.py:412: FutureWarning: `torch.cuda.amp.autocast(args...)` is deprecated. Please use `torch.amp.autocast('cuda', args...)` instead.\n",
            "with torch.cuda.amp.autocast(amp):\n",
            "        1/2         0G    0.04966    0.02348          0         35        640:  33%|███▎      | 29/88 [14:32<29:21, 29.86s/it]/content/drive/MyDrive/tf/tf/TFODCourse/Tensorflow/workspace/images/train/yolov5/train.py:412: FutureWarning: `torch.cuda.amp.autocast(args...)` is deprecated. Please use `torch.amp.autocast('cuda', args...)` instead.\n",
            "with torch.cuda.amp.autocast(amp):\n",
            "        1/2         0G    0.04916    0.02318          0         24        640:  34%|███▍      | 30/88 [15:06<30:08, 31.18s/it]/content/drive/MyDrive/tf/tf/TFODCourse/Tensorflow/workspace/images/train/yolov5/train.py:412: FutureWarning: `torch.cuda.amp.autocast(args...)` is deprecated. Please use `torch.amp.autocast('cuda', args...)` instead.\n",
            "with torch.cuda.amp.autocast(amp):\n",
            "        1/2         0G    0.04903    0.02325          0         38        640:  35%|███▌      | 31/88 [15:36<29:08, 30.67s/it]/content/drive/MyDrive/tf/tf/TFODCourse/Tensorflow/workspace/images/train/yolov5/train.py:412: FutureWarning: `torch.cuda.amp.autocast(args...)` is deprecated. Please use `torch.amp.autocast('cuda', args...)` instead.\n",
            "with torch.cuda.amp.autocast(amp):\n",
            "        1/2         0G    0.04878    0.02328          0         38        640:  36%|███▋      | 32/88 [16:06<28:31, 30.56s/it]/content/drive/MyDrive/tf/tf/TFODCourse/Tensorflow/workspace/images/train/yolov5/train.py:412: FutureWarning: `torch.cuda.amp.autocast(args...)` is deprecated. Please use `torch.amp.autocast('cuda', args...)` instead.\n",
            "with torch.cuda.amp.autocast(amp):\n",
            "        1/2         0G    0.04899    0.02327          0         36        640:  38%|███▊      | 33/88 [16:34<27:15, 29.73s/it]/content/drive/MyDrive/tf/tf/TFODCourse/Tensorflow/workspace/images/train/yolov5/train.py:412: FutureWarning: `torch.cuda.amp.autocast(args...)` is deprecated. Please use `torch.amp.autocast('cuda', args...)` instead.\n",
            "with torch.cuda.amp.autocast(amp):\n",
            "        1/2         0G    0.04891    0.02322          0         38        640:  39%|███▊      | 34/88 [17:04<26:51, 29.84s/it]/content/drive/MyDrive/tf/tf/TFODCourse/Tensorflow/workspace/images/train/yolov5/train.py:412: FutureWarning: `torch.cuda.amp.autocast(args...)` is deprecated. Please use `torch.amp.autocast('cuda', args...)` instead.\n",
            "with torch.cuda.amp.autocast(amp):\n",
            "        1/2         0G    0.04904    0.02318          0         36        640:  40%|███▉      | 35/88 [17:32<25:55, 29.34s/it]/content/drive/MyDrive/tf/tf/TFODCourse/Tensorflow/workspace/images/train/yolov5/train.py:412: FutureWarning: `torch.cuda.amp.autocast(args...)` is deprecated. Please use `torch.amp.autocast('cuda', args...)` instead.\n",
            "with torch.cuda.amp.autocast(amp):\n",
            "        1/2         0G    0.04914    0.02317          0         39        640:  41%|████      | 36/88 [18:03<25:56, 29.94s/it]/content/drive/MyDrive/tf/tf/TFODCourse/Tensorflow/workspace/images/train/yolov5/train.py:412: FutureWarning: `torch.cuda.amp.autocast(args...)` is deprecated. Please use `torch.amp.autocast('cuda', args...)` instead.\n",
            "with torch.cuda.amp.autocast(amp):\n",
            "        1/2         0G    0.04905    0.02305          0         30        640:  42%|████▏     | 37/88 [18:30<24:44, 29.11s/it]/content/drive/MyDrive/tf/tf/TFODCourse/Tensorflow/workspace/images/train/yolov5/train.py:412: FutureWarning: `torch.cuda.amp.autocast(args...)` is deprecated. Please use `torch.amp.autocast('cuda', args...)` instead.\n",
            "with torch.cuda.amp.autocast(amp):\n",
            "        1/2         0G     0.0489     0.0229          0         28        640:  43%|████▎     | 38/88 [19:00<24:18, 29.17s/it]/content/drive/MyDrive/tf/tf/TFODCourse/Tensorflow/workspace/images/train/yolov5/train.py:412: FutureWarning: `torch.cuda.amp.autocast(args...)` is deprecated. Please use `torch.amp.autocast('cuda', args...)` instead.\n",
            "with torch.cuda.amp.autocast(amp):\n",
            "        1/2         0G    0.04869    0.02286          0         38        640:  44%|████▍     | 39/88 [19:30<24:05, 29.51s/it]/content/drive/MyDrive/tf/tf/TFODCourse/Tensorflow/workspace/images/train/yolov5/train.py:412: FutureWarning: `torch.cuda.amp.autocast(args...)` is deprecated. Please use `torch.amp.autocast('cuda', args...)` instead.\n",
            "with torch.cuda.amp.autocast(amp):\n",
            "        1/2         0G    0.04869    0.02287          0         39        640:  45%|████▌     | 40/88 [20:00<23:37, 29.53s/it]/content/drive/MyDrive/tf/tf/TFODCourse/Tensorflow/workspace/images/train/yolov5/train.py:412: FutureWarning: `torch.cuda.amp.autocast(args...)` is deprecated. Please use `torch.amp.autocast('cuda', args...)` instead.\n",
            "with torch.cuda.amp.autocast(amp):\n",
            "        1/2         0G    0.04873    0.02283          0         38        640:  47%|████▋     | 41/88 [20:32<23:54, 30.52s/it]/content/drive/MyDrive/tf/tf/TFODCourse/Tensorflow/workspace/images/train/yolov5/train.py:412: FutureWarning: `torch.cuda.amp.autocast(args...)` is deprecated. Please use `torch.amp.autocast('cuda', args...)` instead.\n",
            "with torch.cuda.amp.autocast(amp):\n",
            "        1/2         0G    0.04879     0.0228          0         40        640:  48%|████▊     | 42/88 [21:03<23:23, 30.51s/it]/content/drive/MyDrive/tf/tf/TFODCourse/Tensorflow/workspace/images/train/yolov5/train.py:412: FutureWarning: `torch.cuda.amp.autocast(args...)` is deprecated. Please use `torch.amp.autocast('cuda', args...)` instead.\n",
            "with torch.cuda.amp.autocast(amp):\n",
            "        1/2         0G    0.04879    0.02267          0         28        640:  49%|████▉     | 43/88 [21:34<22:56, 30.60s/it]/content/drive/MyDrive/tf/tf/TFODCourse/Tensorflow/workspace/images/train/yolov5/train.py:412: FutureWarning: `torch.cuda.amp.autocast(args...)` is deprecated. Please use `torch.amp.autocast('cuda', args...)` instead.\n",
            "with torch.cuda.amp.autocast(amp):\n",
            "        1/2         0G    0.04873    0.02264          0         36        640:  50%|█████     | 44/88 [22:03<22:01, 30.04s/it]/content/drive/MyDrive/tf/tf/TFODCourse/Tensorflow/workspace/images/train/yolov5/train.py:412: FutureWarning: `torch.cuda.amp.autocast(args...)` is deprecated. Please use `torch.amp.autocast('cuda', args...)` instead.\n",
            "with torch.cuda.amp.autocast(amp):\n",
            "        1/2         0G    0.04871    0.02258          0         33        640:  51%|█████     | 45/88 [22:33<21:43, 30.31s/it]/content/drive/MyDrive/tf/tf/TFODCourse/Tensorflow/workspace/images/train/yolov5/train.py:412: FutureWarning: `torch.cuda.amp.autocast(args...)` is deprecated. Please use `torch.amp.autocast('cuda', args...)` instead.\n",
            "with torch.cuda.amp.autocast(amp):\n",
            "        1/2         0G     0.0486     0.0225          0         32        640:  52%|█████▏    | 46/88 [23:01<20:32, 29.35s/it]/content/drive/MyDrive/tf/tf/TFODCourse/Tensorflow/workspace/images/train/yolov5/train.py:412: FutureWarning: `torch.cuda.amp.autocast(args...)` is deprecated. Please use `torch.amp.autocast('cuda', args...)` instead.\n",
            "with torch.cuda.amp.autocast(amp):\n",
            "        1/2         0G    0.04862    0.02252          0         44        640:  53%|█████▎    | 47/88 [23:31<20:17, 29.69s/it]/content/drive/MyDrive/tf/tf/TFODCourse/Tensorflow/workspace/images/train/yolov5/train.py:412: FutureWarning: `torch.cuda.amp.autocast(args...)` is deprecated. Please use `torch.amp.autocast('cuda', args...)` instead.\n",
            "with torch.cuda.amp.autocast(amp):\n",
            "        1/2         0G    0.04853    0.02239          0         27        640:  55%|█████▍    | 48/88 [23:59<19:30, 29.27s/it]/content/drive/MyDrive/tf/tf/TFODCourse/Tensorflow/workspace/images/train/yolov5/train.py:412: FutureWarning: `torch.cuda.amp.autocast(args...)` is deprecated. Please use `torch.amp.autocast('cuda', args...)` instead.\n",
            "with torch.cuda.amp.autocast(amp):\n",
            "        1/2         0G    0.04858    0.02227          0         27        640:  56%|█████▌    | 49/88 [24:29<19:02, 29.29s/it]/content/drive/MyDrive/tf/tf/TFODCourse/Tensorflow/workspace/images/train/yolov5/train.py:412: FutureWarning: `torch.cuda.amp.autocast(args...)` is deprecated. Please use `torch.amp.autocast('cuda', args...)` instead.\n",
            "with torch.cuda.amp.autocast(amp):\n",
            "        1/2         0G     0.0486    0.02218          0         31        640:  57%|█████▋    | 50/88 [25:00<18:52, 29.82s/it]/content/drive/MyDrive/tf/tf/TFODCourse/Tensorflow/workspace/images/train/yolov5/train.py:412: FutureWarning: `torch.cuda.amp.autocast(args...)` is deprecated. Please use `torch.amp.autocast('cuda', args...)` instead.\n",
            "with torch.cuda.amp.autocast(amp):\n",
            "        1/2         0G    0.04852    0.02221          0         40        640:  58%|█████▊    | 51/88 [25:28<18:08, 29.42s/it]/content/drive/MyDrive/tf/tf/TFODCourse/Tensorflow/workspace/images/train/yolov5/train.py:412: FutureWarning: `torch.cuda.amp.autocast(args...)` is deprecated. Please use `torch.amp.autocast('cuda', args...)` instead.\n",
            "with torch.cuda.amp.autocast(amp):\n",
            "        1/2         0G    0.04851    0.02221          0         40        640:  59%|█████▉    | 52/88 [26:03<18:32, 30.90s/it]/content/drive/MyDrive/tf/tf/TFODCourse/Tensorflow/workspace/images/train/yolov5/train.py:412: FutureWarning: `torch.cuda.amp.autocast(args...)` is deprecated. Please use `torch.amp.autocast('cuda', args...)` instead.\n",
            "with torch.cuda.amp.autocast(amp):\n",
            "        1/2         0G    0.04842    0.02224          0         41        640:  60%|██████    | 53/88 [26:30<17:23, 29.80s/it]/content/drive/MyDrive/tf/tf/TFODCourse/Tensorflow/workspace/images/train/yolov5/train.py:412: FutureWarning: `torch.cuda.amp.autocast(args...)` is deprecated. Please use `torch.amp.autocast('cuda', args...)` instead.\n",
            "with torch.cuda.amp.autocast(amp):\n",
            "        1/2         0G    0.04843    0.02231          0         48        640:  61%|██████▏   | 54/88 [27:01<17:10, 30.30s/it]/content/drive/MyDrive/tf/tf/TFODCourse/Tensorflow/workspace/images/train/yolov5/train.py:412: FutureWarning: `torch.cuda.amp.autocast(args...)` is deprecated. Please use `torch.amp.autocast('cuda', args...)` instead.\n",
            "with torch.cuda.amp.autocast(amp):\n",
            "        1/2         0G    0.04858    0.02226          0         37        640:  62%|██████▎   | 55/88 [27:30<16:19, 29.68s/it]/content/drive/MyDrive/tf/tf/TFODCourse/Tensorflow/workspace/images/train/yolov5/train.py:412: FutureWarning: `torch.cuda.amp.autocast(args...)` is deprecated. Please use `torch.amp.autocast('cuda', args...)` instead.\n",
            "with torch.cuda.amp.autocast(amp):\n",
            "        1/2         0G    0.04871    0.02219          0         36        640:  64%|██████▎   | 56/88 [28:00<16:00, 30.02s/it]/content/drive/MyDrive/tf/tf/TFODCourse/Tensorflow/workspace/images/train/yolov5/train.py:412: FutureWarning: `torch.cuda.amp.autocast(args...)` is deprecated. Please use `torch.amp.autocast('cuda', args...)` instead.\n",
            "with torch.cuda.amp.autocast(amp):\n",
            "        1/2         0G    0.04859    0.02211          0         31        640:  65%|██████▍   | 57/88 [28:30<15:30, 30.01s/it]/content/drive/MyDrive/tf/tf/TFODCourse/Tensorflow/workspace/images/train/yolov5/train.py:412: FutureWarning: `torch.cuda.amp.autocast(args...)` is deprecated. Please use `torch.amp.autocast('cuda', args...)` instead.\n",
            "with torch.cuda.amp.autocast(amp):\n",
            "        1/2         0G    0.04848     0.0221          0         37        640:  66%|██████▌   | 58/88 [29:01<15:05, 30.19s/it]/content/drive/MyDrive/tf/tf/TFODCourse/Tensorflow/workspace/images/train/yolov5/train.py:412: FutureWarning: `torch.cuda.amp.autocast(args...)` is deprecated. Please use `torch.amp.autocast('cuda', args...)` instead.\n",
            "with torch.cuda.amp.autocast(amp):\n",
            "        1/2         0G     0.0484    0.02205          0         34        640:  67%|██████▋   | 59/88 [29:31<14:32, 30.07s/it]/content/drive/MyDrive/tf/tf/TFODCourse/Tensorflow/workspace/images/train/yolov5/train.py:412: FutureWarning: `torch.cuda.amp.autocast(args...)` is deprecated. Please use `torch.amp.autocast('cuda', args...)` instead.\n",
            "with torch.cuda.amp.autocast(amp):\n",
            "        1/2         0G    0.04854    0.02195          0         30        640:  68%|██████▊   | 60/88 [30:00<13:52, 29.75s/it]/content/drive/MyDrive/tf/tf/TFODCourse/Tensorflow/workspace/images/train/yolov5/train.py:412: FutureWarning: `torch.cuda.amp.autocast(args...)` is deprecated. Please use `torch.amp.autocast('cuda', args...)` instead.\n",
            "with torch.cuda.amp.autocast(amp):\n",
            "        1/2         0G    0.04858    0.02187          0         32        640:  69%|██████▉   | 61/88 [30:30<13:25, 29.84s/it]/content/drive/MyDrive/tf/tf/TFODCourse/Tensorflow/workspace/images/train/yolov5/train.py:412: FutureWarning: `torch.cuda.amp.autocast(args...)` is deprecated. Please use `torch.amp.autocast('cuda', args...)` instead.\n",
            "with torch.cuda.amp.autocast(amp):\n",
            "        1/2         0G    0.04855    0.02192          0         41        640:  70%|███████   | 62/88 [30:58<12:43, 29.36s/it]/content/drive/MyDrive/tf/tf/TFODCourse/Tensorflow/workspace/images/train/yolov5/train.py:412: FutureWarning: `torch.cuda.amp.autocast(args...)` is deprecated. Please use `torch.amp.autocast('cuda', args...)` instead.\n",
            "with torch.cuda.amp.autocast(amp):\n",
            "        1/2         0G    0.04844    0.02189          0         36        640:  72%|███████▏  | 63/88 [31:34<13:00, 31.21s/it]/content/drive/MyDrive/tf/tf/TFODCourse/Tensorflow/workspace/images/train/yolov5/train.py:412: FutureWarning: `torch.cuda.amp.autocast(args...)` is deprecated. Please use `torch.amp.autocast('cuda', args...)` instead.\n",
            "with torch.cuda.amp.autocast(amp):\n",
            "        1/2         0G    0.04856    0.02188          0         38        640:  73%|███████▎  | 64/88 [32:01<12:04, 30.19s/it]/content/drive/MyDrive/tf/tf/TFODCourse/Tensorflow/workspace/images/train/yolov5/train.py:412: FutureWarning: `torch.cuda.amp.autocast(args...)` is deprecated. Please use `torch.amp.autocast('cuda', args...)` instead.\n",
            "with torch.cuda.amp.autocast(amp):\n",
            "        1/2         0G    0.04855    0.02179          0         30        640:  74%|███████▍  | 65/88 [32:32<11:39, 30.43s/it]/content/drive/MyDrive/tf/tf/TFODCourse/Tensorflow/workspace/images/train/yolov5/train.py:412: FutureWarning: `torch.cuda.amp.autocast(args...)` is deprecated. Please use `torch.amp.autocast('cuda', args...)` instead.\n",
            "with torch.cuda.amp.autocast(amp):\n",
            "        1/2         0G    0.04856     0.0217          0         29        640:  75%|███████▌  | 66/88 [33:00<10:53, 29.71s/it]/content/drive/MyDrive/tf/tf/TFODCourse/Tensorflow/workspace/images/train/yolov5/train.py:412: FutureWarning: `torch.cuda.amp.autocast(args...)` is deprecated. Please use `torch.amp.autocast('cuda', args...)` instead.\n",
            "with torch.cuda.amp.autocast(amp):\n",
            "        1/2         0G    0.04859    0.02164          0         34        640:  76%|███████▌  | 67/88 [33:28<10:13, 29.20s/it]/content/drive/MyDrive/tf/tf/TFODCourse/Tensorflow/workspace/images/train/yolov5/train.py:412: FutureWarning: `torch.cuda.amp.autocast(args...)` is deprecated. Please use `torch.amp.autocast('cuda', args...)` instead.\n",
            "with torch.cuda.amp.autocast(amp):\n",
            "        1/2         0G     0.0485    0.02169          0         43        640:  77%|███████▋  | 68/88 [34:00<09:58, 29.91s/it]/content/drive/MyDrive/tf/tf/TFODCourse/Tensorflow/workspace/images/train/yolov5/train.py:412: FutureWarning: `torch.cuda.amp.autocast(args...)` is deprecated. Please use `torch.amp.autocast('cuda', args...)` instead.\n",
            "with torch.cuda.amp.autocast(amp):\n",
            "        1/2         0G    0.04844    0.02167          0         35        640:  78%|███████▊  | 69/88 [34:27<09:13, 29.15s/it]/content/drive/MyDrive/tf/tf/TFODCourse/Tensorflow/workspace/images/train/yolov5/train.py:412: FutureWarning: `torch.cuda.amp.autocast(args...)` is deprecated. Please use `torch.amp.autocast('cuda', args...)` instead.\n",
            "with torch.cuda.amp.autocast(amp):\n",
            "        1/2         0G    0.04843    0.02164          0         36        640:  80%|███████▉  | 70/88 [34:57<08:49, 29.41s/it]/content/drive/MyDrive/tf/tf/TFODCourse/Tensorflow/workspace/images/train/yolov5/train.py:412: FutureWarning: `torch.cuda.amp.autocast(args...)` is deprecated. Please use `torch.amp.autocast('cuda', args...)` instead.\n",
            "with torch.cuda.amp.autocast(amp):\n",
            "        1/2         0G     0.0484    0.02158          0         33        640:  81%|████████  | 71/88 [35:27<08:19, 29.40s/it]/content/drive/MyDrive/tf/tf/TFODCourse/Tensorflow/workspace/images/train/yolov5/train.py:412: FutureWarning: `torch.cuda.amp.autocast(args...)` is deprecated. Please use `torch.amp.autocast('cuda', args...)` instead.\n",
            "with torch.cuda.amp.autocast(amp):\n",
            "        1/2         0G    0.04836    0.02158          0         40        640:  82%|████████▏ | 72/88 [35:55<07:46, 29.17s/it]/content/drive/MyDrive/tf/tf/TFODCourse/Tensorflow/workspace/images/train/yolov5/train.py:412: FutureWarning: `torch.cuda.amp.autocast(args...)` is deprecated. Please use `torch.amp.autocast('cuda', args...)` instead.\n",
            "with torch.cuda.amp.autocast(amp):\n",
            "        1/2         0G    0.04823    0.02153          0         35        640:  83%|████████▎ | 73/88 [36:25<07:20, 29.38s/it]/content/drive/MyDrive/tf/tf/TFODCourse/Tensorflow/workspace/images/train/yolov5/train.py:412: FutureWarning: `torch.cuda.amp.autocast(args...)` is deprecated. Please use `torch.amp.autocast('cuda', args...)` instead.\n",
            "with torch.cuda.amp.autocast(amp):\n",
            "        1/2         0G    0.04813    0.02162          0         48        640:  84%|████████▍ | 74/88 [36:59<07:10, 30.72s/it]/content/drive/MyDrive/tf/tf/TFODCourse/Tensorflow/workspace/images/train/yolov5/train.py:412: FutureWarning: `torch.cuda.amp.autocast(args...)` is deprecated. Please use `torch.amp.autocast('cuda', args...)` instead.\n",
            "with torch.cuda.amp.autocast(amp):\n",
            "        1/2         0G     0.0481    0.02156          0         35        640:  85%|████████▌ | 75/88 [37:27<06:29, 29.93s/it]/content/drive/MyDrive/tf/tf/TFODCourse/Tensorflow/workspace/images/train/yolov5/train.py:412: FutureWarning: `torch.cuda.amp.autocast(args...)` is deprecated. Please use `torch.amp.autocast('cuda', args...)` instead.\n",
            "with torch.cuda.amp.autocast(amp):\n",
            "        1/2         0G    0.04811    0.02151          0         35        640:  86%|████████▋ | 76/88 [37:55<05:52, 29.36s/it]/content/drive/MyDrive/tf/tf/TFODCourse/Tensorflow/workspace/images/train/yolov5/train.py:412: FutureWarning: `torch.cuda.amp.autocast(args...)` is deprecated. Please use `torch.amp.autocast('cuda', args...)` instead.\n",
            "with torch.cuda.amp.autocast(amp):\n",
            "        1/2         0G    0.04803    0.02143          0         28        640:  88%|████████▊ | 77/88 [38:25<05:25, 29.59s/it]/content/drive/MyDrive/tf/tf/TFODCourse/Tensorflow/workspace/images/train/yolov5/train.py:412: FutureWarning: `torch.cuda.amp.autocast(args...)` is deprecated. Please use `torch.amp.autocast('cuda', args...)` instead.\n",
            "with torch.cuda.amp.autocast(amp):\n",
            "        1/2         0G    0.04799    0.02147          0         45        640:  89%|████████▊ | 78/88 [38:53<04:50, 29.09s/it]/content/drive/MyDrive/tf/tf/TFODCourse/Tensorflow/workspace/images/train/yolov5/train.py:412: FutureWarning: `torch.cuda.amp.autocast(args...)` is deprecated. Please use `torch.amp.autocast('cuda', args...)` instead.\n",
            "with torch.cuda.amp.autocast(amp):\n",
            "        1/2         0G    0.04793     0.0214          0         33        640:  90%|████████▉ | 79/88 [39:22<04:21, 29.02s/it]/content/drive/MyDrive/tf/tf/TFODCourse/Tensorflow/workspace/images/train/yolov5/train.py:412: FutureWarning: `torch.cuda.amp.autocast(args...)` is deprecated. Please use `torch.amp.autocast('cuda', args...)` instead.\n",
            "with torch.cuda.amp.autocast(amp):\n",
            "        1/2         0G    0.04793    0.02138          0         35        640:  91%|█████████ | 80/88 [39:51<03:51, 28.94s/it]/content/drive/MyDrive/tf/tf/TFODCourse/Tensorflow/workspace/images/train/yolov5/train.py:412: FutureWarning: `torch.cuda.amp.autocast(args...)` is deprecated. Please use `torch.amp.autocast('cuda', args...)` instead.\n",
            "with torch.cuda.amp.autocast(amp):\n",
            "        1/2         0G      0.048    0.02135          0         40        640:  92%|█████████▏| 81/88 [40:20<03:22, 28.95s/it]/content/drive/MyDrive/tf/tf/TFODCourse/Tensorflow/workspace/images/train/yolov5/train.py:412: FutureWarning: `torch.cuda.amp.autocast(args...)` is deprecated. Please use `torch.amp.autocast('cuda', args...)` instead.\n",
            "with torch.cuda.amp.autocast(amp):\n",
            "        1/2         0G    0.04806    0.02133          0         39        640:  93%|█████████▎| 82/88 [40:50<02:56, 29.34s/it]/content/drive/MyDrive/tf/tf/TFODCourse/Tensorflow/workspace/images/train/yolov5/train.py:412: FutureWarning: `torch.cuda.amp.autocast(args...)` is deprecated. Please use `torch.amp.autocast('cuda', args...)` instead.\n",
            "with torch.cuda.amp.autocast(amp):\n",
            "        1/2         0G    0.04818    0.02126          0         34        640:  94%|█████████▍| 83/88 [41:18<02:23, 28.78s/it]/content/drive/MyDrive/tf/tf/TFODCourse/Tensorflow/workspace/images/train/yolov5/train.py:412: FutureWarning: `torch.cuda.amp.autocast(args...)` is deprecated. Please use `torch.amp.autocast('cuda', args...)` instead.\n",
            "with torch.cuda.amp.autocast(amp):\n",
            "        1/2         0G    0.04811    0.02125          0         39        640:  95%|█████████▌| 84/88 [41:47<01:56, 29.04s/it]/content/drive/MyDrive/tf/tf/TFODCourse/Tensorflow/workspace/images/train/yolov5/train.py:412: FutureWarning: `torch.cuda.amp.autocast(args...)` is deprecated. Please use `torch.amp.autocast('cuda', args...)` instead.\n",
            "with torch.cuda.amp.autocast(amp):\n",
            "        1/2         0G    0.04802    0.02124          0         37        640:  97%|█████████▋| 85/88 [42:20<01:30, 30.21s/it]/content/drive/MyDrive/tf/tf/TFODCourse/Tensorflow/workspace/images/train/yolov5/train.py:412: FutureWarning: `torch.cuda.amp.autocast(args...)` is deprecated. Please use `torch.amp.autocast('cuda', args...)` instead.\n",
            "with torch.cuda.amp.autocast(amp):\n",
            "        1/2         0G    0.04795    0.02117          0         27        640:  98%|█████████▊| 86/88 [42:52<01:01, 30.72s/it]/content/drive/MyDrive/tf/tf/TFODCourse/Tensorflow/workspace/images/train/yolov5/train.py:412: FutureWarning: `torch.cuda.amp.autocast(args...)` is deprecated. Please use `torch.amp.autocast('cuda', args...)` instead.\n",
            "with torch.cuda.amp.autocast(amp):\n",
            "        1/2         0G    0.04796    0.02117          0         45        640:  99%|█████████▉| 87/88 [43:20<00:29, 29.82s/it]/content/drive/MyDrive/tf/tf/TFODCourse/Tensorflow/workspace/images/train/yolov5/train.py:412: FutureWarning: `torch.cuda.amp.autocast(args...)` is deprecated. Please use `torch.amp.autocast('cuda', args...)` instead.\n",
            "with torch.cuda.amp.autocast(amp):\n",
            "        1/2         0G    0.04807    0.02116          0         19        640: 100%|██████████| 88/88 [43:35<00:00, 29.72s/it]\n",
            "                 Class     Images  Instances          P          R      mAP50   mAP50-95: 100%|██████████| 10/10 [02:19<00:00, 13.92s/it]\n",
            "all        310        314      0.502      0.834      0.535      0.248\n",
            "\n",
            "Epoch    GPU_mem   box_loss   obj_loss   cls_loss  Instances       Size\n",
            "0%|          | 0/88 [00:00<?, ?it/s]/content/drive/MyDrive/tf/tf/TFODCourse/Tensorflow/workspace/images/train/yolov5/train.py:412: FutureWarning: `torch.cuda.amp.autocast(args...)` is deprecated. Please use `torch.amp.autocast('cuda', args...)` instead.\n",
            "with torch.cuda.amp.autocast(amp):\n",
            "        2/2         0G    0.05355    0.01589          0         32        640:   1%|          | 1/88 [00:29<42:37, 29.40s/it]/content/drive/MyDrive/tf/tf/TFODCourse/Tensorflow/workspace/images/train/yolov5/train.py:412: FutureWarning: `torch.cuda.amp.autocast(args...)` is deprecated. Please use `torch.amp.autocast('cuda', args...)` instead.\n",
            "with torch.cuda.amp.autocast(amp):\n",
            "        2/2         0G    0.05359    0.01608          0         36        640:   2%|▏         | 2/88 [01:00<43:33, 30.39s/it]/content/drive/MyDrive/tf/tf/TFODCourse/Tensorflow/workspace/images/train/yolov5/train.py:412: FutureWarning: `torch.cuda.amp.autocast(args...)` is deprecated. Please use `torch.amp.autocast('cuda', args...)` instead.\n",
            "with torch.cuda.amp.autocast(amp):\n",
            "        2/2         0G    0.05227    0.01778          0         41        640:   3%|▎         | 3/88 [01:29<42:26, 29.96s/it]/content/drive/MyDrive/tf/tf/TFODCourse/Tensorflow/workspace/images/train/yolov5/train.py:412: FutureWarning: `torch.cuda.amp.autocast(args...)` is deprecated. Please use `torch.amp.autocast('cuda', args...)` instead.\n",
            "with torch.cuda.amp.autocast(amp):\n",
            "        2/2         0G    0.04952    0.01762          0         33        640:   5%|▍         | 4/88 [02:05<44:57, 32.12s/it]/content/drive/MyDrive/tf/tf/TFODCourse/Tensorflow/workspace/images/train/yolov5/train.py:412: FutureWarning: `torch.cuda.amp.autocast(args...)` is deprecated. Please use `torch.amp.autocast('cuda', args...)` instead.\n",
            "with torch.cuda.amp.autocast(amp):\n",
            "        2/2         0G    0.04801    0.01771          0         32        640:   6%|▌         | 5/88 [02:32<42:07, 30.45s/it]/content/drive/MyDrive/tf/tf/TFODCourse/Tensorflow/workspace/images/train/yolov5/train.py:412: FutureWarning: `torch.cuda.amp.autocast(args...)` is deprecated. Please use `torch.amp.autocast('cuda', args...)` instead.\n",
            "with torch.cuda.amp.autocast(amp):\n",
            "        2/2         0G    0.04601    0.01756          0         30        640:   7%|▋         | 6/88 [03:00<40:24, 29.56s/it]/content/drive/MyDrive/tf/tf/TFODCourse/Tensorflow/workspace/images/train/yolov5/train.py:412: FutureWarning: `torch.cuda.amp.autocast(args...)` is deprecated. Please use `torch.amp.autocast('cuda', args...)` instead.\n",
            "with torch.cuda.amp.autocast(amp):\n",
            "        2/2         0G     0.0454    0.01789          0         37        640:   8%|▊         | 7/88 [03:30<40:03, 29.68s/it]/content/drive/MyDrive/tf/tf/TFODCourse/Tensorflow/workspace/images/train/yolov5/train.py:412: FutureWarning: `torch.cuda.amp.autocast(args...)` is deprecated. Please use `torch.amp.autocast('cuda', args...)` instead.\n",
            "with torch.cuda.amp.autocast(amp):\n",
            "        2/2         0G    0.04433    0.01759          0         29        640:   9%|▉         | 8/88 [03:58<38:53, 29.17s/it]/content/drive/MyDrive/tf/tf/TFODCourse/Tensorflow/workspace/images/train/yolov5/train.py:412: FutureWarning: `torch.cuda.amp.autocast(args...)` is deprecated. Please use `torch.amp.autocast('cuda', args...)` instead.\n",
            "with torch.cuda.amp.autocast(amp):\n",
            "        2/2         0G    0.04391    0.01784          0         38        640:  10%|█         | 9/88 [04:29<38:58, 29.60s/it]/content/drive/MyDrive/tf/tf/TFODCourse/Tensorflow/workspace/images/train/yolov5/train.py:412: FutureWarning: `torch.cuda.amp.autocast(args...)` is deprecated. Please use `torch.amp.autocast('cuda', args...)` instead.\n",
            "with torch.cuda.amp.autocast(amp):\n",
            "        2/2         0G    0.04323    0.01817          0         41        640:  11%|█▏        | 10/88 [04:57<37:49, 29.10s/it]/content/drive/MyDrive/tf/tf/TFODCourse/Tensorflow/workspace/images/train/yolov5/train.py:412: FutureWarning: `torch.cuda.amp.autocast(args...)` is deprecated. Please use `torch.amp.autocast('cuda', args...)` instead.\n",
            "with torch.cuda.amp.autocast(amp):\n",
            "        2/2         0G    0.04242     0.0179          0         27        640:  12%|█▎        | 11/88 [05:26<37:25, 29.16s/it]/content/drive/MyDrive/tf/tf/TFODCourse/Tensorflow/workspace/images/train/yolov5/train.py:412: FutureWarning: `torch.cuda.amp.autocast(args...)` is deprecated. Please use `torch.amp.autocast('cuda', args...)` instead.\n",
            "with torch.cuda.amp.autocast(amp):\n",
            "        2/2         0G    0.04198      0.018          0         38        640:  14%|█▎        | 12/88 [05:56<37:16, 29.42s/it]/content/drive/MyDrive/tf/tf/TFODCourse/Tensorflow/workspace/images/train/yolov5/train.py:412: FutureWarning: `torch.cuda.amp.autocast(args...)` is deprecated. Please use `torch.amp.autocast('cuda', args...)` instead.\n",
            "with torch.cuda.amp.autocast(amp):\n",
            "        2/2         0G    0.04155    0.01778          0         28        640:  15%|█▍        | 13/88 [06:25<36:29, 29.20s/it]/content/drive/MyDrive/tf/tf/TFODCourse/Tensorflow/workspace/images/train/yolov5/train.py:412: FutureWarning: `torch.cuda.amp.autocast(args...)` is deprecated. Please use `torch.amp.autocast('cuda', args...)` instead.\n",
            "with torch.cuda.amp.autocast(amp):\n",
            "        2/2         0G    0.04173    0.01771          0         34        640:  16%|█▌        | 14/88 [06:55<36:30, 29.60s/it]/content/drive/MyDrive/tf/tf/TFODCourse/Tensorflow/workspace/images/train/yolov5/train.py:412: FutureWarning: `torch.cuda.amp.autocast(args...)` is deprecated. Please use `torch.amp.autocast('cuda', args...)` instead.\n",
            "with torch.cuda.amp.autocast(amp):\n",
            "        2/2         0G    0.04165    0.01773          0         35        640:  17%|█▋        | 15/88 [07:28<37:19, 30.68s/it]/content/drive/MyDrive/tf/tf/TFODCourse/Tensorflow/workspace/images/train/yolov5/train.py:412: FutureWarning: `torch.cuda.amp.autocast(args...)` is deprecated. Please use `torch.amp.autocast('cuda', args...)` instead.\n",
            "with torch.cuda.amp.autocast(amp):\n",
            "        2/2         0G    0.04141     0.0179          0         40        640:  18%|█▊        | 16/88 [07:58<36:31, 30.44s/it]/content/drive/MyDrive/tf/tf/TFODCourse/Tensorflow/workspace/images/train/yolov5/train.py:412: FutureWarning: `torch.cuda.amp.autocast(args...)` is deprecated. Please use `torch.amp.autocast('cuda', args...)` instead.\n",
            "with torch.cuda.amp.autocast(amp):\n",
            "        2/2         0G    0.04128    0.01803          0         39        640:  19%|█▉        | 17/88 [08:27<35:26, 29.95s/it]/content/drive/MyDrive/tf/tf/TFODCourse/Tensorflow/workspace/images/train/yolov5/train.py:412: FutureWarning: `torch.cuda.amp.autocast(args...)` is deprecated. Please use `torch.amp.autocast('cuda', args...)` instead.\n",
            "with torch.cuda.amp.autocast(amp):\n",
            "        2/2         0G    0.04108    0.01805          0         36        640:  20%|██        | 18/88 [09:00<35:56, 30.81s/it]/content/drive/MyDrive/tf/tf/TFODCourse/Tensorflow/workspace/images/train/yolov5/train.py:412: FutureWarning: `torch.cuda.amp.autocast(args...)` is deprecated. Please use `torch.amp.autocast('cuda', args...)` instead.\n",
            "with torch.cuda.amp.autocast(amp):\n",
            "        2/2         0G    0.04103    0.01815          0         37        640:  22%|██▏       | 19/88 [09:29<34:56, 30.38s/it]/content/drive/MyDrive/tf/tf/TFODCourse/Tensorflow/workspace/images/train/yolov5/train.py:412: FutureWarning: `torch.cuda.amp.autocast(args...)` is deprecated. Please use `torch.amp.autocast('cuda', args...)` instead.\n",
            "with torch.cuda.amp.autocast(amp):\n",
            "        2/2         0G    0.04085    0.01786          0         24        640:  23%|██▎       | 20/88 [09:57<33:41, 29.72s/it]/content/drive/MyDrive/tf/tf/TFODCourse/Tensorflow/workspace/images/train/yolov5/train.py:412: FutureWarning: `torch.cuda.amp.autocast(args...)` is deprecated. Please use `torch.amp.autocast('cuda', args...)` instead.\n",
            "with torch.cuda.amp.autocast(amp):\n",
            "        2/2         0G    0.04084    0.01798          0         39        640:  24%|██▍       | 21/88 [10:28<33:19, 29.84s/it]/content/drive/MyDrive/tf/tf/TFODCourse/Tensorflow/workspace/images/train/yolov5/train.py:412: FutureWarning: `torch.cuda.amp.autocast(args...)` is deprecated. Please use `torch.amp.autocast('cuda', args...)` instead.\n",
            "with torch.cuda.amp.autocast(amp):\n",
            "        2/2         0G     0.0407    0.01788          0         33        640:  25%|██▌       | 22/88 [10:56<32:19, 29.39s/it]/content/drive/MyDrive/tf/tf/TFODCourse/Tensorflow/workspace/images/train/yolov5/train.py:412: FutureWarning: `torch.cuda.amp.autocast(args...)` is deprecated. Please use `torch.amp.autocast('cuda', args...)` instead.\n",
            "with torch.cuda.amp.autocast(amp):\n",
            "        2/2         0G     0.0405    0.01788          0         35        640:  26%|██▌       | 23/88 [11:24<31:17, 28.89s/it]/content/drive/MyDrive/tf/tf/TFODCourse/Tensorflow/workspace/images/train/yolov5/train.py:412: FutureWarning: `torch.cuda.amp.autocast(args...)` is deprecated. Please use `torch.amp.autocast('cuda', args...)` instead.\n",
            "with torch.cuda.amp.autocast(amp):\n",
            "        2/2         0G    0.04032    0.01785          0         36        640:  27%|██▋       | 24/88 [11:54<31:13, 29.27s/it]/content/drive/MyDrive/tf/tf/TFODCourse/Tensorflow/workspace/images/train/yolov5/train.py:412: FutureWarning: `torch.cuda.amp.autocast(args...)` is deprecated. Please use `torch.amp.autocast('cuda', args...)` instead.\n",
            "with torch.cuda.amp.autocast(amp):\n",
            "        2/2         0G    0.04046    0.01784          0         39        640:  28%|██▊       | 25/88 [12:21<30:08, 28.71s/it]/content/drive/MyDrive/tf/tf/TFODCourse/Tensorflow/workspace/images/train/yolov5/train.py:412: FutureWarning: `torch.cuda.amp.autocast(args...)` is deprecated. Please use `torch.amp.autocast('cuda', args...)` instead.\n",
            "with torch.cuda.amp.autocast(amp):\n",
            "        2/2         0G    0.04051     0.0177          0         29        640:  30%|██▉       | 26/88 [12:54<30:48, 29.81s/it]/content/drive/MyDrive/tf/tf/TFODCourse/Tensorflow/workspace/images/train/yolov5/train.py:412: FutureWarning: `torch.cuda.amp.autocast(args...)` is deprecated. Please use `torch.amp.autocast('cuda', args...)` instead.\n",
            "with torch.cuda.amp.autocast(amp):\n",
            "        2/2         0G    0.04056     0.0177          0         37        640:  31%|███       | 27/88 [13:24<30:23, 29.90s/it]/content/drive/MyDrive/tf/tf/TFODCourse/Tensorflow/workspace/images/train/yolov5/train.py:412: FutureWarning: `torch.cuda.amp.autocast(args...)` is deprecated. Please use `torch.amp.autocast('cuda', args...)` instead.\n",
            "with torch.cuda.amp.autocast(amp):\n",
            "        2/2         0G     0.0405    0.01772          0         41        640:  32%|███▏      | 28/88 [13:51<29:10, 29.18s/it]/content/drive/MyDrive/tf/tf/TFODCourse/Tensorflow/workspace/images/train/yolov5/train.py:412: FutureWarning: `torch.cuda.amp.autocast(args...)` is deprecated. Please use `torch.amp.autocast('cuda', args...)` instead.\n",
            "with torch.cuda.amp.autocast(amp):\n",
            "        2/2         0G    0.04031     0.0177          0         36        640:  33%|███▎      | 29/88 [14:21<28:50, 29.33s/it]/content/drive/MyDrive/tf/tf/TFODCourse/Tensorflow/workspace/images/train/yolov5/train.py:412: FutureWarning: `torch.cuda.amp.autocast(args...)` is deprecated. Please use `torch.amp.autocast('cuda', args...)` instead.\n",
            "with torch.cuda.amp.autocast(amp):\n",
            "        2/2         0G    0.04004     0.0177          0         38        640:  34%|███▍      | 30/88 [14:50<28:11, 29.16s/it]/content/drive/MyDrive/tf/tf/TFODCourse/Tensorflow/workspace/images/train/yolov5/train.py:412: FutureWarning: `torch.cuda.amp.autocast(args...)` is deprecated. Please use `torch.amp.autocast('cuda', args...)` instead.\n",
            "with torch.cuda.amp.autocast(amp):\n",
            "        2/2         0G    0.03999    0.01785          0         47        640:  35%|███▌      | 31/88 [15:18<27:34, 29.03s/it]/content/drive/MyDrive/tf/tf/TFODCourse/Tensorflow/workspace/images/train/yolov5/train.py:412: FutureWarning: `torch.cuda.amp.autocast(args...)` is deprecated. Please use `torch.amp.autocast('cuda', args...)` instead.\n",
            "with torch.cuda.amp.autocast(amp):\n",
            "        2/2         0G    0.04004    0.01778          0         32        640:  36%|███▋      | 32/88 [15:48<27:23, 29.35s/it]/content/drive/MyDrive/tf/tf/TFODCourse/Tensorflow/workspace/images/train/yolov5/train.py:412: FutureWarning: `torch.cuda.amp.autocast(args...)` is deprecated. Please use `torch.amp.autocast('cuda', args...)` instead.\n",
            "with torch.cuda.amp.autocast(amp):\n",
            "        2/2         0G    0.04005    0.01773          0         31        640:  38%|███▊      | 33/88 [16:17<26:35, 29.00s/it]/content/drive/MyDrive/tf/tf/TFODCourse/Tensorflow/workspace/images/train/yolov5/train.py:412: FutureWarning: `torch.cuda.amp.autocast(args...)` is deprecated. Please use `torch.amp.autocast('cuda', args...)` instead.\n",
            "with torch.cuda.amp.autocast(amp):\n",
            "        2/2         0G    0.04006    0.01765          0         32        640:  39%|███▊      | 34/88 [16:47<26:27, 29.41s/it]/content/drive/MyDrive/tf/tf/TFODCourse/Tensorflow/workspace/images/train/yolov5/train.py:412: FutureWarning: `torch.cuda.amp.autocast(args...)` is deprecated. Please use `torch.amp.autocast('cuda', args...)` instead.\n",
            "with torch.cuda.amp.autocast(amp):\n",
            "        2/2         0G    0.03987    0.01762          0         35        640:  40%|███▉      | 35/88 [17:16<25:48, 29.22s/it]/content/drive/MyDrive/tf/tf/TFODCourse/Tensorflow/workspace/images/train/yolov5/train.py:412: FutureWarning: `torch.cuda.amp.autocast(args...)` is deprecated. Please use `torch.amp.autocast('cuda', args...)` instead.\n",
            "with torch.cuda.amp.autocast(amp):\n",
            "        2/2         0G    0.03976    0.01766          0         40        640:  41%|████      | 36/88 [17:45<25:25, 29.34s/it]/content/drive/MyDrive/tf/tf/TFODCourse/Tensorflow/workspace/images/train/yolov5/train.py:412: FutureWarning: `torch.cuda.amp.autocast(args...)` is deprecated. Please use `torch.amp.autocast('cuda', args...)` instead.\n",
            "with torch.cuda.amp.autocast(amp):\n",
            "        2/2         0G    0.03959    0.01746          0         19        640:  42%|████▏     | 37/88 [18:17<25:23, 29.87s/it]/content/drive/MyDrive/tf/tf/TFODCourse/Tensorflow/workspace/images/train/yolov5/train.py:412: FutureWarning: `torch.cuda.amp.autocast(args...)` is deprecated. Please use `torch.amp.autocast('cuda', args...)` instead.\n",
            "with torch.cuda.amp.autocast(amp):\n",
            "        2/2         0G    0.03955    0.01746          0         36        640:  43%|████▎     | 38/88 [18:46<24:53, 29.87s/it]/content/drive/MyDrive/tf/tf/TFODCourse/Tensorflow/workspace/images/train/yolov5/train.py:412: FutureWarning: `torch.cuda.amp.autocast(args...)` is deprecated. Please use `torch.amp.autocast('cuda', args...)` instead.\n",
            "with torch.cuda.amp.autocast(amp):\n",
            "        2/2         0G    0.03945     0.0175          0         39        640:  44%|████▍     | 39/88 [19:16<24:20, 29.81s/it]/content/drive/MyDrive/tf/tf/TFODCourse/Tensorflow/workspace/images/train/yolov5/train.py:412: FutureWarning: `torch.cuda.amp.autocast(args...)` is deprecated. Please use `torch.amp.autocast('cuda', args...)` instead.\n",
            "with torch.cuda.amp.autocast(amp):\n",
            "        2/2         0G    0.03945    0.01745          0         30        640:  45%|████▌     | 40/88 [19:46<23:56, 29.94s/it]/content/drive/MyDrive/tf/tf/TFODCourse/Tensorflow/workspace/images/train/yolov5/train.py:412: FutureWarning: `torch.cuda.amp.autocast(args...)` is deprecated. Please use `torch.amp.autocast('cuda', args...)` instead.\n",
            "with torch.cuda.amp.autocast(amp):\n",
            "        2/2         0G    0.03936    0.01736          0         30        640:  47%|████▋     | 41/88 [20:15<23:06, 29.50s/it]/content/drive/MyDrive/tf/tf/TFODCourse/Tensorflow/workspace/images/train/yolov5/train.py:412: FutureWarning: `torch.cuda.amp.autocast(args...)` is deprecated. Please use `torch.amp.autocast('cuda', args...)` instead.\n",
            "with torch.cuda.amp.autocast(amp):\n",
            "        2/2         0G    0.03946    0.01729          0         31        640:  48%|████▊     | 42/88 [20:45<22:49, 29.77s/it]/content/drive/MyDrive/tf/tf/TFODCourse/Tensorflow/workspace/images/train/yolov5/train.py:412: FutureWarning: `torch.cuda.amp.autocast(args...)` is deprecated. Please use `torch.amp.autocast('cuda', args...)` instead.\n",
            "with torch.cuda.amp.autocast(amp):\n",
            "        2/2         0G     0.0395     0.0174          0         43        640:  49%|████▉     | 43/88 [21:17<22:52, 30.50s/it]/content/drive/MyDrive/tf/tf/TFODCourse/Tensorflow/workspace/images/train/yolov5/train.py:412: FutureWarning: `torch.cuda.amp.autocast(args...)` is deprecated. Please use `torch.amp.autocast('cuda', args...)` instead.\n",
            "with torch.cuda.amp.autocast(amp):\n",
            "        2/2         0G    0.03946    0.01741          0         40        640:  50%|█████     | 44/88 [21:48<22:25, 30.59s/it]/content/drive/MyDrive/tf/tf/TFODCourse/Tensorflow/workspace/images/train/yolov5/train.py:412: FutureWarning: `torch.cuda.amp.autocast(args...)` is deprecated. Please use `torch.amp.autocast('cuda', args...)` instead.\n",
            "with torch.cuda.amp.autocast(amp):\n",
            "        2/2         0G    0.03942    0.01736          0         34        640:  51%|█████     | 45/88 [22:17<21:34, 30.12s/it]/content/drive/MyDrive/tf/tf/TFODCourse/Tensorflow/workspace/images/train/yolov5/train.py:412: FutureWarning: `torch.cuda.amp.autocast(args...)` is deprecated. Please use `torch.amp.autocast('cuda', args...)` instead.\n",
            "with torch.cuda.amp.autocast(amp):\n",
            "        2/2         0G    0.03945    0.01728          0         27        640:  52%|█████▏    | 46/88 [22:47<20:55, 29.89s/it]/content/drive/MyDrive/tf/tf/TFODCourse/Tensorflow/workspace/images/train/yolov5/train.py:412: FutureWarning: `torch.cuda.amp.autocast(args...)` is deprecated. Please use `torch.amp.autocast('cuda', args...)` instead.\n",
            "with torch.cuda.amp.autocast(amp):\n",
            "        2/2         0G    0.03951    0.01726          0         37        640:  53%|█████▎    | 47/88 [23:20<21:07, 30.92s/it]/content/drive/MyDrive/tf/tf/TFODCourse/Tensorflow/workspace/images/train/yolov5/train.py:412: FutureWarning: `torch.cuda.amp.autocast(args...)` is deprecated. Please use `torch.amp.autocast('cuda', args...)` instead.\n",
            "with torch.cuda.amp.autocast(amp):\n",
            "        2/2         0G    0.03944    0.01722          0         30        640:  55%|█████▍    | 48/88 [23:50<20:21, 30.54s/it]/content/drive/MyDrive/tf/tf/TFODCourse/Tensorflow/workspace/images/train/yolov5/train.py:412: FutureWarning: `torch.cuda.amp.autocast(args...)` is deprecated. Please use `torch.amp.autocast('cuda', args...)` instead.\n",
            "with torch.cuda.amp.autocast(amp):\n",
            "        2/2         0G    0.03945    0.01728          0         41        640:  56%|█████▌    | 49/88 [24:20<19:50, 30.53s/it]/content/drive/MyDrive/tf/tf/TFODCourse/Tensorflow/workspace/images/train/yolov5/train.py:412: FutureWarning: `torch.cuda.amp.autocast(args...)` is deprecated. Please use `torch.amp.autocast('cuda', args...)` instead.\n",
            "with torch.cuda.amp.autocast(amp):\n",
            "        2/2         0G    0.03949    0.01726          0         34        640:  57%|█████▋    | 50/88 [24:49<19:01, 30.04s/it]/content/drive/MyDrive/tf/tf/TFODCourse/Tensorflow/workspace/images/train/yolov5/train.py:412: FutureWarning: `torch.cuda.amp.autocast(args...)` is deprecated. Please use `torch.amp.autocast('cuda', args...)` instead.\n",
            "with torch.cuda.amp.autocast(amp):\n",
            "        2/2         0G    0.03943    0.01718          0         27        640:  58%|█████▊    | 51/88 [25:19<18:33, 30.09s/it]/content/drive/MyDrive/tf/tf/TFODCourse/Tensorflow/workspace/images/train/yolov5/train.py:412: FutureWarning: `torch.cuda.amp.autocast(args...)` is deprecated. Please use `torch.amp.autocast('cuda', args...)` instead.\n",
            "with torch.cuda.amp.autocast(amp):\n",
            "        2/2         0G    0.03945    0.01714          0         32        640:  59%|█████▉    | 52/88 [25:47<17:40, 29.44s/it]/content/drive/MyDrive/tf/tf/TFODCourse/Tensorflow/workspace/images/train/yolov5/train.py:412: FutureWarning: `torch.cuda.amp.autocast(args...)` is deprecated. Please use `torch.amp.autocast('cuda', args...)` instead.\n",
            "with torch.cuda.amp.autocast(amp):\n",
            "        2/2         0G     0.0395    0.01713          0         36        640:  60%|██████    | 53/88 [26:18<17:30, 30.01s/it]/content/drive/MyDrive/tf/tf/TFODCourse/Tensorflow/workspace/images/train/yolov5/train.py:412: FutureWarning: `torch.cuda.amp.autocast(args...)` is deprecated. Please use `torch.amp.autocast('cuda', args...)` instead.\n",
            "with torch.cuda.amp.autocast(amp):\n",
            "        2/2         0G    0.03946    0.01721          0         47        640:  61%|██████▏   | 54/88 [26:46<16:33, 29.23s/it]/content/drive/MyDrive/tf/tf/TFODCourse/Tensorflow/workspace/images/train/yolov5/train.py:412: FutureWarning: `torch.cuda.amp.autocast(args...)` is deprecated. Please use `torch.amp.autocast('cuda', args...)` instead.\n",
            "with torch.cuda.amp.autocast(amp):\n",
            "        2/2         0G    0.03938    0.01723          0         38        640:  62%|██████▎   | 55/88 [27:15<16:02, 29.16s/it]/content/drive/MyDrive/tf/tf/TFODCourse/Tensorflow/workspace/images/train/yolov5/train.py:412: FutureWarning: `torch.cuda.amp.autocast(args...)` is deprecated. Please use `torch.amp.autocast('cuda', args...)` instead.\n",
            "with torch.cuda.amp.autocast(amp):\n",
            "        2/2         0G    0.03943    0.01723          0         34        640:  64%|██████▎   | 56/88 [27:44<15:33, 29.18s/it]/content/drive/MyDrive/tf/tf/TFODCourse/Tensorflow/workspace/images/train/yolov5/train.py:412: FutureWarning: `torch.cuda.amp.autocast(args...)` is deprecated. Please use `torch.amp.autocast('cuda', args...)` instead.\n",
            "with torch.cuda.amp.autocast(amp):\n",
            "        2/2         0G    0.03937    0.01718          0         31        640:  65%|██████▍   | 57/88 [28:14<15:09, 29.34s/it]/content/drive/MyDrive/tf/tf/TFODCourse/Tensorflow/workspace/images/train/yolov5/train.py:412: FutureWarning: `torch.cuda.amp.autocast(args...)` is deprecated. Please use `torch.amp.autocast('cuda', args...)` instead.\n",
            "with torch.cuda.amp.autocast(amp):\n",
            "        2/2         0G    0.03932    0.01712          0         31        640:  66%|██████▌   | 58/88 [28:45<14:58, 29.94s/it]/content/drive/MyDrive/tf/tf/TFODCourse/Tensorflow/workspace/images/train/yolov5/train.py:412: FutureWarning: `torch.cuda.amp.autocast(args...)` is deprecated. Please use `torch.amp.autocast('cuda', args...)` instead.\n",
            "with torch.cuda.amp.autocast(amp):\n",
            "        2/2         0G    0.03929    0.01713          0         36        640:  67%|██████▋   | 59/88 [29:14<14:17, 29.58s/it]/content/drive/MyDrive/tf/tf/TFODCourse/Tensorflow/workspace/images/train/yolov5/train.py:412: FutureWarning: `torch.cuda.amp.autocast(args...)` is deprecated. Please use `torch.amp.autocast('cuda', args...)` instead.\n",
            "with torch.cuda.amp.autocast(amp):\n",
            "        2/2         0G    0.03939    0.01714          0         37        640:  68%|██████▊   | 60/88 [29:43<13:40, 29.30s/it]/content/drive/MyDrive/tf/tf/TFODCourse/Tensorflow/workspace/images/train/yolov5/train.py:412: FutureWarning: `torch.cuda.amp.autocast(args...)` is deprecated. Please use `torch.amp.autocast('cuda', args...)` instead.\n",
            "with torch.cuda.amp.autocast(amp):\n",
            "        2/2         0G    0.03933     0.0171          0         34        640:  69%|██████▉   | 61/88 [30:13<13:22, 29.71s/it]/content/drive/MyDrive/tf/tf/TFODCourse/Tensorflow/workspace/images/train/yolov5/train.py:412: FutureWarning: `torch.cuda.amp.autocast(args...)` is deprecated. Please use `torch.amp.autocast('cuda', args...)` instead.\n",
            "with torch.cuda.amp.autocast(amp):\n",
            "        2/2         0G    0.03932    0.01709          0         36        640:  70%|███████   | 62/88 [30:41<12:40, 29.26s/it]/content/drive/MyDrive/tf/tf/TFODCourse/Tensorflow/workspace/images/train/yolov5/train.py:412: FutureWarning: `torch.cuda.amp.autocast(args...)` is deprecated. Please use `torch.amp.autocast('cuda', args...)` instead.\n",
            "with torch.cuda.amp.autocast(amp):\n",
            "        2/2         0G    0.03941    0.01715          0         42        640:  72%|███████▏  | 63/88 [31:13<12:25, 29.82s/it]/content/drive/MyDrive/tf/tf/TFODCourse/Tensorflow/workspace/images/train/yolov5/train.py:412: FutureWarning: `torch.cuda.amp.autocast(args...)` is deprecated. Please use `torch.amp.autocast('cuda', args...)` instead.\n",
            "with torch.cuda.amp.autocast(amp):\n",
            "        2/2         0G    0.03932    0.01715          0         37        640:  73%|███████▎  | 64/88 [31:40<11:38, 29.11s/it]/content/drive/MyDrive/tf/tf/TFODCourse/Tensorflow/workspace/images/train/yolov5/train.py:412: FutureWarning: `torch.cuda.amp.autocast(args...)` is deprecated. Please use `torch.amp.autocast('cuda', args...)` instead.\n",
            "with torch.cuda.amp.autocast(amp):\n",
            "        2/2         0G    0.03933    0.01716          0         37        640:  74%|███████▍  | 65/88 [32:09<11:10, 29.16s/it]/content/drive/MyDrive/tf/tf/TFODCourse/Tensorflow/workspace/images/train/yolov5/train.py:412: FutureWarning: `torch.cuda.amp.autocast(args...)` is deprecated. Please use `torch.amp.autocast('cuda', args...)` instead.\n",
            "with torch.cuda.amp.autocast(amp):\n",
            "        2/2         0G    0.03926    0.01715          0         36        640:  75%|███████▌  | 66/88 [32:39<10:44, 29.31s/it]/content/drive/MyDrive/tf/tf/TFODCourse/Tensorflow/workspace/images/train/yolov5/train.py:412: FutureWarning: `torch.cuda.amp.autocast(args...)` is deprecated. Please use `torch.amp.autocast('cuda', args...)` instead.\n",
            "with torch.cuda.amp.autocast(amp):\n",
            "        2/2         0G    0.03929    0.01709          0         30        640:  76%|███████▌  | 67/88 [33:08<10:14, 29.24s/it]/content/drive/MyDrive/tf/tf/TFODCourse/Tensorflow/workspace/images/train/yolov5/train.py:412: FutureWarning: `torch.cuda.amp.autocast(args...)` is deprecated. Please use `torch.amp.autocast('cuda', args...)` instead.\n",
            "with torch.cuda.amp.autocast(amp):\n",
            "        2/2         0G    0.03925    0.01706          0         35        640:  77%|███████▋  | 68/88 [33:42<10:15, 30.78s/it]/content/drive/MyDrive/tf/tf/TFODCourse/Tensorflow/workspace/images/train/yolov5/train.py:412: FutureWarning: `torch.cuda.amp.autocast(args...)` is deprecated. Please use `torch.amp.autocast('cuda', args...)` instead.\n",
            "with torch.cuda.amp.autocast(amp):\n",
            "        2/2         0G    0.03929    0.01708          0         41        640:  78%|███████▊  | 69/88 [34:10<09:26, 29.84s/it]/content/drive/MyDrive/tf/tf/TFODCourse/Tensorflow/workspace/images/train/yolov5/train.py:412: FutureWarning: `torch.cuda.amp.autocast(args...)` is deprecated. Please use `torch.amp.autocast('cuda', args...)` instead.\n",
            "with torch.cuda.amp.autocast(amp):\n",
            "        2/2         0G    0.03938    0.01709          0         39        640:  80%|███████▉  | 70/88 [34:41<09:01, 30.11s/it]/content/drive/MyDrive/tf/tf/TFODCourse/Tensorflow/workspace/images/train/yolov5/train.py:412: FutureWarning: `torch.cuda.amp.autocast(args...)` is deprecated. Please use `torch.amp.autocast('cuda', args...)` instead.\n",
            "with torch.cuda.amp.autocast(amp):\n",
            "        2/2         0G    0.03946    0.01705          0         31        640:  81%|████████  | 71/88 [35:09<08:21, 29.49s/it]/content/drive/MyDrive/tf/tf/TFODCourse/Tensorflow/workspace/images/train/yolov5/train.py:412: FutureWarning: `torch.cuda.amp.autocast(args...)` is deprecated. Please use `torch.amp.autocast('cuda', args...)` instead.\n",
            "with torch.cuda.amp.autocast(amp):\n",
            "        2/2         0G    0.03943    0.01704          0         37        640:  82%|████████▏ | 72/88 [35:38<07:48, 29.27s/it]/content/drive/MyDrive/tf/tf/TFODCourse/Tensorflow/workspace/images/train/yolov5/train.py:412: FutureWarning: `torch.cuda.amp.autocast(args...)` is deprecated. Please use `torch.amp.autocast('cuda', args...)` instead.\n",
            "with torch.cuda.amp.autocast(amp):\n",
            "        2/2         0G    0.03948    0.01702          0         36        640:  83%|████████▎ | 73/88 [36:08<07:25, 29.67s/it]/content/drive/MyDrive/tf/tf/TFODCourse/Tensorflow/workspace/images/train/yolov5/train.py:412: FutureWarning: `torch.cuda.amp.autocast(args...)` is deprecated. Please use `torch.amp.autocast('cuda', args...)` instead.\n",
            "with torch.cuda.amp.autocast(amp):\n",
            "        2/2         0G    0.03955    0.01707          0         46        640:  84%|████████▍ | 74/88 [36:36<06:46, 29.02s/it]/content/drive/MyDrive/tf/tf/TFODCourse/Tensorflow/workspace/images/train/yolov5/train.py:412: FutureWarning: `torch.cuda.amp.autocast(args...)` is deprecated. Please use `torch.amp.autocast('cuda', args...)` instead.\n",
            "with torch.cuda.amp.autocast(amp):\n",
            "        2/2         0G    0.03953     0.0171          0         42        640:  85%|████████▌ | 75/88 [37:07<06:24, 29.61s/it]/content/drive/MyDrive/tf/tf/TFODCourse/Tensorflow/workspace/images/train/yolov5/train.py:412: FutureWarning: `torch.cuda.amp.autocast(args...)` is deprecated. Please use `torch.amp.autocast('cuda', args...)` instead.\n",
            "with torch.cuda.amp.autocast(amp):\n",
            "        2/2         0G    0.03953    0.01711          0         39        640:  86%|████████▋ | 76/88 [37:34<05:48, 29.05s/it]/content/drive/MyDrive/tf/tf/TFODCourse/Tensorflow/workspace/images/train/yolov5/train.py:412: FutureWarning: `torch.cuda.amp.autocast(args...)` is deprecated. Please use `torch.amp.autocast('cuda', args...)` instead.\n",
            "with torch.cuda.amp.autocast(amp):\n",
            "        2/2         0G    0.03949    0.01709          0         34        640:  88%|████████▊ | 77/88 [38:04<05:20, 29.18s/it]/content/drive/MyDrive/tf/tf/TFODCourse/Tensorflow/workspace/images/train/yolov5/train.py:412: FutureWarning: `torch.cuda.amp.autocast(args...)` is deprecated. Please use `torch.amp.autocast('cuda', args...)` instead.\n",
            "with torch.cuda.amp.autocast(amp):\n",
            "        2/2         0G    0.03949     0.0171          0         39        640:  89%|████████▊ | 78/88 [38:35<04:57, 29.74s/it]/content/drive/MyDrive/tf/tf/TFODCourse/Tensorflow/workspace/images/train/yolov5/train.py:412: FutureWarning: `torch.cuda.amp.autocast(args...)` is deprecated. Please use `torch.amp.autocast('cuda', args...)` instead.\n",
            "with torch.cuda.amp.autocast(amp):\n",
            "        2/2         0G    0.03955    0.01711          0         36        640:  90%|████████▉ | 79/88 [39:07<04:32, 30.31s/it]/content/drive/MyDrive/tf/tf/TFODCourse/Tensorflow/workspace/images/train/yolov5/train.py:412: FutureWarning: `torch.cuda.amp.autocast(args...)` is deprecated. Please use `torch.amp.autocast('cuda', args...)` instead.\n",
            "with torch.cuda.amp.autocast(amp):\n",
            "        2/2         0G    0.03949     0.0171          0         36        640:  91%|█████████ | 80/88 [39:36<03:59, 29.92s/it]/content/drive/MyDrive/tf/tf/TFODCourse/Tensorflow/workspace/images/train/yolov5/train.py:412: FutureWarning: `torch.cuda.amp.autocast(args...)` is deprecated. Please use `torch.amp.autocast('cuda', args...)` instead.\n",
            "with torch.cuda.amp.autocast(amp):\n",
            "        2/2         0G    0.03949    0.01707          0         34        640:  92%|█████████▏| 81/88 [40:03<03:23, 29.14s/it]/content/drive/MyDrive/tf/tf/TFODCourse/Tensorflow/workspace/images/train/yolov5/train.py:412: FutureWarning: `torch.cuda.amp.autocast(args...)` is deprecated. Please use `torch.amp.autocast('cuda', args...)` instead.\n",
            "with torch.cuda.amp.autocast(amp):\n",
            "        2/2         0G    0.03942    0.01704          0         32        640:  93%|█████████▎| 82/88 [40:34<02:57, 29.62s/it]/content/drive/MyDrive/tf/tf/TFODCourse/Tensorflow/workspace/images/train/yolov5/train.py:412: FutureWarning: `torch.cuda.amp.autocast(args...)` is deprecated. Please use `torch.amp.autocast('cuda', args...)` instead.\n",
            "with torch.cuda.amp.autocast(amp):\n",
            "        2/2         0G    0.03943    0.01706          0         40        640:  94%|█████████▍| 83/88 [41:01<02:24, 28.93s/it]/content/drive/MyDrive/tf/tf/TFODCourse/Tensorflow/workspace/images/train/yolov5/train.py:412: FutureWarning: `torch.cuda.amp.autocast(args...)` is deprecated. Please use `torch.amp.autocast('cuda', args...)` instead.\n",
            "with torch.cuda.amp.autocast(amp):\n",
            "        2/2         0G    0.03939      0.017          0         26        640:  95%|█████████▌| 84/88 [41:31<01:57, 29.26s/it]/content/drive/MyDrive/tf/tf/TFODCourse/Tensorflow/workspace/images/train/yolov5/train.py:412: FutureWarning: `torch.cuda.amp.autocast(args...)` is deprecated. Please use `torch.amp.autocast('cuda', args...)` instead.\n",
            "with torch.cuda.amp.autocast(amp):\n",
            "        2/2         0G    0.03934    0.01701          0         42        640:  97%|█████████▋| 85/88 [42:00<01:27, 29.18s/it]/content/drive/MyDrive/tf/tf/TFODCourse/Tensorflow/workspace/images/train/yolov5/train.py:412: FutureWarning: `torch.cuda.amp.autocast(args...)` is deprecated. Please use `torch.amp.autocast('cuda', args...)` instead.\n",
            "with torch.cuda.amp.autocast(amp):\n",
            "        2/2         0G    0.03929    0.01698          0         36        640:  98%|█████████▊| 86/88 [42:29<00:58, 29.24s/it]/content/drive/MyDrive/tf/tf/TFODCourse/Tensorflow/workspace/images/train/yolov5/train.py:412: FutureWarning: `torch.cuda.amp.autocast(args...)` is deprecated. Please use `torch.amp.autocast('cuda', args...)` instead.\n",
            "with torch.cuda.amp.autocast(amp):\n",
            "        2/2         0G    0.03928    0.01696          0         35        640:  99%|█████████▉| 87/88 [43:00<00:29, 29.72s/it]/content/drive/MyDrive/tf/tf/TFODCourse/Tensorflow/workspace/images/train/yolov5/train.py:412: FutureWarning: `torch.cuda.amp.autocast(args...)` is deprecated. Please use `torch.amp.autocast('cuda', args...)` instead.\n",
            "with torch.cuda.amp.autocast(amp):\n",
            "        2/2         0G    0.03929    0.01696          0         19        640: 100%|██████████| 88/88 [43:15<00:00, 29.50s/it]\n",
            "                 Class     Images  Instances          P          R      mAP50   mAP50-95: 100%|██████████| 10/10 [02:26<00:00, 14.63s/it]\n",
            "all        310        314      0.939      0.882       0.97      0.624\n",
            "\n",
            "3 epochs completed in 2.308 hours.\n",
            "Optimizer stripped from drive/MyDrive/tf/tf/TFODCourse/Tensorflow/workspace/images/train/yolov5/runs/train/exp2/weights/last.pt, 14.4MB\n",
            "Optimizer stripped from drive/MyDrive/tf/tf/TFODCourse/Tensorflow/workspace/images/train/yolov5/runs/train/exp2/weights/best.pt, 14.4MB\n",
            "\n",
            "Validating drive/MyDrive/tf/tf/TFODCourse/Tensorflow/workspace/images/train/yolov5/runs/train/exp2/weights/best.pt...\n",
            "Fusing layers...\n",
            "Model summary: 157 layers, 7012822 parameters, 0 gradients, 15.8 GFLOPs\n",
            "                 Class     Images  Instances          P          R      mAP50   mAP50-95: 100%|██████████| 10/10 [02:12<00:00, 13.26s/it]\n",
            "all        310        314      0.938      0.874       0.97      0.624\n",
            "Results saved to \u001b[1mdrive/MyDrive/tf/tf/TFODCourse/Tensorflow/workspace/images/train/yolov5/runs/train/exp2\u001b[0m\n"
          ]
        }
      ]
    },
    {
      "cell_type": "code",
      "source": [
        "url = \"https://drive.google.com/uc?id=1l_5RK28JRL19wpT22B-DY9We3TVXnnQQ\"\n",
        "output = \"fcn8s_from_caffe.npz\"\n",
        "gdown.download(url, output)\n",
        "\n",
        "# same as the above, but with the file ID\n",
        "id = \"0B9P1L--7Wd2vNm9zMTJWOGxobkU\"\n",
        "gdown.download(id=id, output=output)\n",
        "\n",
        "# same as the above, and you can copy-and-paste a URL from Google Drive with fuzzy=True\n",
        "url = \"https://drive.google.com/file/d/0B9P1L--7Wd2vNm9zMTJWOGxobkU/view?usp=sharing\"\n",
        "gdown.download(url=url, output=output, fuzzy=True)\n",
        "\n",
        "# Cached download with identity check via MD5 (or SHA1, SHA256, etc).\n",
        "# Pass postprocess function e.g., extracting compressed file.\n",
        "md5 = \"md5:fa837a88f0c40c513d975104edf3da17\"\n",
        "gdown.cached_download(url, output, hash=hash, postprocess=gdown.extractall)\n",
        "\n",
        "# a folder\n",
        "url = \"https://drive.google.com/drive/folders/15uNXeRBIhVvZJIhL4yTw4IsStMhUaaxl\"\n",
        "gdown.download_folder(url)\n",
        "\n",
        "# same as the above, but with the folder ID\n",
        "id = \"15uNXeRBIhVvZJIhL4yTw4IsStMhUaaxl\"\n",
        "gdown.download_folder(id=id)"
      ],
      "metadata": {
        "colab": {
          "base_uri": "https://localhost:8080/",
          "height": 211
        },
        "id": "apHTolZNAhKR",
        "outputId": "001e0b4f-97e6-445c-d2e1-0fbec037402c"
      },
      "execution_count": null,
      "outputs": [
        {
          "output_type": "error",
          "ename": "NameError",
          "evalue": "name 'gdown' is not defined",
          "traceback": [
            "\u001b[0;31m---------------------------------------------------------------------------\u001b[0m",
            "\u001b[0;31mNameError\u001b[0m                                 Traceback (most recent call last)",
            "\u001b[0;32m<ipython-input-7-6054f9bfad74>\u001b[0m in \u001b[0;36m<cell line: 3>\u001b[0;34m()\u001b[0m\n\u001b[1;32m      1\u001b[0m \u001b[0murl\u001b[0m \u001b[0;34m=\u001b[0m \u001b[0;34m\"https://drive.google.com/uc?id=1l_5RK28JRL19wpT22B-DY9We3TVXnnQQ\"\u001b[0m\u001b[0;34m\u001b[0m\u001b[0;34m\u001b[0m\u001b[0m\n\u001b[1;32m      2\u001b[0m \u001b[0moutput\u001b[0m \u001b[0;34m=\u001b[0m \u001b[0;34m\"fcn8s_from_caffe.npz\"\u001b[0m\u001b[0;34m\u001b[0m\u001b[0;34m\u001b[0m\u001b[0m\n\u001b[0;32m----> 3\u001b[0;31m \u001b[0mgdown\u001b[0m\u001b[0;34m.\u001b[0m\u001b[0mdownload\u001b[0m\u001b[0;34m(\u001b[0m\u001b[0murl\u001b[0m\u001b[0;34m,\u001b[0m \u001b[0moutput\u001b[0m\u001b[0;34m)\u001b[0m\u001b[0;34m\u001b[0m\u001b[0;34m\u001b[0m\u001b[0m\n\u001b[0m\u001b[1;32m      4\u001b[0m \u001b[0;34m\u001b[0m\u001b[0m\n\u001b[1;32m      5\u001b[0m \u001b[0;31m# same as the above, but with the file ID\u001b[0m\u001b[0;34m\u001b[0m\u001b[0;34m\u001b[0m\u001b[0m\n",
            "\u001b[0;31mNameError\u001b[0m: name 'gdown' is not defined"
          ]
        }
      ]
    },
    {
      "cell_type": "code",
      "source": [
        "import matplotlib.pyplot as plt\n",
        "import pandas as pd\n",
        "\n",
        "# Предположим, что логи сохранены в excel или csv\n",
        "log_file ='https://drive.google.com/drive/folders/1yS5JDVYcD2s7v6MOzYlBLv7iQXHTUjwe?usp=drive_link'  # Укажите путь к вашему файлу логов\n",
        "logs = pd.read_csv(log_file)\n",
        "\n",
        "# Построение графика потерь\n",
        "plt.figure(figsize=(12, 6))\n",
        "plt.plot(logs['epoch'], logs['train_loss'], label='Train Loss')\n",
        "plt.plot(logs['epoch'], logs['val_loss'], label='Validation Loss')\n",
        "plt.title('Train and Validation Loss')\n",
        "plt.xlabel('Epochs')\n",
        "plt.ylabel('Loss')\n",
        "plt.legend()\n",
        "plt.grid()\n",
        "plt.show()\n",
        "\n",
        "# Построение графика точности\n",
        "plt.figure(figsize=(12, 6))\n",
        "plt.plot(logs['epoch'], logs['precision'], label='Precision')\n",
        "plt.plot(logs['epoch'], logs['recall'], label='Recall')\n",
        "plt.title('Precision and Recall')\n",
        "plt.xlabel('Epochs')\n",
        "plt.ylabel('Score')\n",
        "plt.legend()\n",
        "plt.grid()\n",
        "plt.show()\n",
        "\n",
        "# Построение графика mAP\n",
        "plt.figure(figsize=(12, 6))\n",
        "plt.plot(logs['epoch'], logs['mAP'], label='mAP')\n",
        "plt.title('Mean Average Precision (mAP)')\n",
        "plt.xlabel('Epochs')\n",
        "plt.ylabel('mAP Score')\n",
        "plt.legend()\n",
        "plt.grid()\n",
        "plt.show()\n",
        "\n"
      ],
      "metadata": {
        "colab": {
          "base_uri": "https://localhost:8080/",
          "height": 547
        },
        "id": "eV8AVylzXPv_",
        "outputId": "d6106e42-d7d9-41b4-9cda-2eca0f762314"
      },
      "execution_count": null,
      "outputs": [
        {
          "output_type": "error",
          "ename": "ParserError",
          "evalue": "Error tokenizing data. C error: Expected 10 fields in line 13, saw 25\n",
          "traceback": [
            "\u001b[0;31m---------------------------------------------------------------------------\u001b[0m",
            "\u001b[0;31mParserError\u001b[0m                               Traceback (most recent call last)",
            "\u001b[0;32m<ipython-input-6-2a84f323d835>\u001b[0m in \u001b[0;36m<cell line: 6>\u001b[0;34m()\u001b[0m\n\u001b[1;32m      4\u001b[0m \u001b[0;31m# Предположим, что логи сохранены в excel или csv\u001b[0m\u001b[0;34m\u001b[0m\u001b[0;34m\u001b[0m\u001b[0m\n\u001b[1;32m      5\u001b[0m \u001b[0mlog_file\u001b[0m \u001b[0;34m=\u001b[0m\u001b[0;34m'https://drive.google.com/drive/folders/1yS5JDVYcD2s7v6MOzYlBLv7iQXHTUjwe?usp=drive_link'\u001b[0m  \u001b[0;31m# Укажите путь к вашему файлу логов\u001b[0m\u001b[0;34m\u001b[0m\u001b[0;34m\u001b[0m\u001b[0m\n\u001b[0;32m----> 6\u001b[0;31m \u001b[0mlogs\u001b[0m \u001b[0;34m=\u001b[0m \u001b[0mpd\u001b[0m\u001b[0;34m.\u001b[0m\u001b[0mread_csv\u001b[0m\u001b[0;34m(\u001b[0m\u001b[0mlog_file\u001b[0m\u001b[0;34m)\u001b[0m\u001b[0;34m\u001b[0m\u001b[0;34m\u001b[0m\u001b[0m\n\u001b[0m\u001b[1;32m      7\u001b[0m \u001b[0;34m\u001b[0m\u001b[0m\n\u001b[1;32m      8\u001b[0m \u001b[0;31m# Построение графика потерь\u001b[0m\u001b[0;34m\u001b[0m\u001b[0;34m\u001b[0m\u001b[0m\n",
            "\u001b[0;32m/usr/local/lib/python3.10/dist-packages/pandas/io/parsers/readers.py\u001b[0m in \u001b[0;36mread_csv\u001b[0;34m(filepath_or_buffer, sep, delimiter, header, names, index_col, usecols, dtype, engine, converters, true_values, false_values, skipinitialspace, skiprows, skipfooter, nrows, na_values, keep_default_na, na_filter, verbose, skip_blank_lines, parse_dates, infer_datetime_format, keep_date_col, date_parser, date_format, dayfirst, cache_dates, iterator, chunksize, compression, thousands, decimal, lineterminator, quotechar, quoting, doublequote, escapechar, comment, encoding, encoding_errors, dialect, on_bad_lines, delim_whitespace, low_memory, memory_map, float_precision, storage_options, dtype_backend)\u001b[0m\n\u001b[1;32m    946\u001b[0m     \u001b[0mkwds\u001b[0m\u001b[0;34m.\u001b[0m\u001b[0mupdate\u001b[0m\u001b[0;34m(\u001b[0m\u001b[0mkwds_defaults\u001b[0m\u001b[0;34m)\u001b[0m\u001b[0;34m\u001b[0m\u001b[0;34m\u001b[0m\u001b[0m\n\u001b[1;32m    947\u001b[0m \u001b[0;34m\u001b[0m\u001b[0m\n\u001b[0;32m--> 948\u001b[0;31m     \u001b[0;32mreturn\u001b[0m \u001b[0m_read\u001b[0m\u001b[0;34m(\u001b[0m\u001b[0mfilepath_or_buffer\u001b[0m\u001b[0;34m,\u001b[0m \u001b[0mkwds\u001b[0m\u001b[0;34m)\u001b[0m\u001b[0;34m\u001b[0m\u001b[0;34m\u001b[0m\u001b[0m\n\u001b[0m\u001b[1;32m    949\u001b[0m \u001b[0;34m\u001b[0m\u001b[0m\n\u001b[1;32m    950\u001b[0m \u001b[0;34m\u001b[0m\u001b[0m\n",
            "\u001b[0;32m/usr/local/lib/python3.10/dist-packages/pandas/io/parsers/readers.py\u001b[0m in \u001b[0;36m_read\u001b[0;34m(filepath_or_buffer, kwds)\u001b[0m\n\u001b[1;32m    615\u001b[0m \u001b[0;34m\u001b[0m\u001b[0m\n\u001b[1;32m    616\u001b[0m     \u001b[0;32mwith\u001b[0m \u001b[0mparser\u001b[0m\u001b[0;34m:\u001b[0m\u001b[0;34m\u001b[0m\u001b[0;34m\u001b[0m\u001b[0m\n\u001b[0;32m--> 617\u001b[0;31m         \u001b[0;32mreturn\u001b[0m \u001b[0mparser\u001b[0m\u001b[0;34m.\u001b[0m\u001b[0mread\u001b[0m\u001b[0;34m(\u001b[0m\u001b[0mnrows\u001b[0m\u001b[0;34m)\u001b[0m\u001b[0;34m\u001b[0m\u001b[0;34m\u001b[0m\u001b[0m\n\u001b[0m\u001b[1;32m    618\u001b[0m \u001b[0;34m\u001b[0m\u001b[0m\n\u001b[1;32m    619\u001b[0m \u001b[0;34m\u001b[0m\u001b[0m\n",
            "\u001b[0;32m/usr/local/lib/python3.10/dist-packages/pandas/io/parsers/readers.py\u001b[0m in \u001b[0;36mread\u001b[0;34m(self, nrows)\u001b[0m\n\u001b[1;32m   1746\u001b[0m                     \u001b[0mcolumns\u001b[0m\u001b[0;34m,\u001b[0m\u001b[0;34m\u001b[0m\u001b[0;34m\u001b[0m\u001b[0m\n\u001b[1;32m   1747\u001b[0m                     \u001b[0mcol_dict\u001b[0m\u001b[0;34m,\u001b[0m\u001b[0;34m\u001b[0m\u001b[0;34m\u001b[0m\u001b[0m\n\u001b[0;32m-> 1748\u001b[0;31m                 \u001b[0;34m)\u001b[0m \u001b[0;34m=\u001b[0m \u001b[0mself\u001b[0m\u001b[0;34m.\u001b[0m\u001b[0m_engine\u001b[0m\u001b[0;34m.\u001b[0m\u001b[0mread\u001b[0m\u001b[0;34m(\u001b[0m  \u001b[0;31m# type: ignore[attr-defined]\u001b[0m\u001b[0;34m\u001b[0m\u001b[0;34m\u001b[0m\u001b[0m\n\u001b[0m\u001b[1;32m   1749\u001b[0m                     \u001b[0mnrows\u001b[0m\u001b[0;34m\u001b[0m\u001b[0;34m\u001b[0m\u001b[0m\n\u001b[1;32m   1750\u001b[0m                 )\n",
            "\u001b[0;32m/usr/local/lib/python3.10/dist-packages/pandas/io/parsers/c_parser_wrapper.py\u001b[0m in \u001b[0;36mread\u001b[0;34m(self, nrows)\u001b[0m\n\u001b[1;32m    232\u001b[0m         \u001b[0;32mtry\u001b[0m\u001b[0;34m:\u001b[0m\u001b[0;34m\u001b[0m\u001b[0;34m\u001b[0m\u001b[0m\n\u001b[1;32m    233\u001b[0m             \u001b[0;32mif\u001b[0m \u001b[0mself\u001b[0m\u001b[0;34m.\u001b[0m\u001b[0mlow_memory\u001b[0m\u001b[0;34m:\u001b[0m\u001b[0;34m\u001b[0m\u001b[0;34m\u001b[0m\u001b[0m\n\u001b[0;32m--> 234\u001b[0;31m                 \u001b[0mchunks\u001b[0m \u001b[0;34m=\u001b[0m \u001b[0mself\u001b[0m\u001b[0;34m.\u001b[0m\u001b[0m_reader\u001b[0m\u001b[0;34m.\u001b[0m\u001b[0mread_low_memory\u001b[0m\u001b[0;34m(\u001b[0m\u001b[0mnrows\u001b[0m\u001b[0;34m)\u001b[0m\u001b[0;34m\u001b[0m\u001b[0;34m\u001b[0m\u001b[0m\n\u001b[0m\u001b[1;32m    235\u001b[0m                 \u001b[0;31m# destructive to chunks\u001b[0m\u001b[0;34m\u001b[0m\u001b[0;34m\u001b[0m\u001b[0m\n\u001b[1;32m    236\u001b[0m                 \u001b[0mdata\u001b[0m \u001b[0;34m=\u001b[0m \u001b[0m_concatenate_chunks\u001b[0m\u001b[0;34m(\u001b[0m\u001b[0mchunks\u001b[0m\u001b[0;34m)\u001b[0m\u001b[0;34m\u001b[0m\u001b[0;34m\u001b[0m\u001b[0m\n",
            "\u001b[0;32mparsers.pyx\u001b[0m in \u001b[0;36mpandas._libs.parsers.TextReader.read_low_memory\u001b[0;34m()\u001b[0m\n",
            "\u001b[0;32mparsers.pyx\u001b[0m in \u001b[0;36mpandas._libs.parsers.TextReader._read_rows\u001b[0;34m()\u001b[0m\n",
            "\u001b[0;32mparsers.pyx\u001b[0m in \u001b[0;36mpandas._libs.parsers.TextReader._tokenize_rows\u001b[0;34m()\u001b[0m\n",
            "\u001b[0;32mparsers.pyx\u001b[0m in \u001b[0;36mpandas._libs.parsers.TextReader._check_tokenize_status\u001b[0;34m()\u001b[0m\n",
            "\u001b[0;32mparsers.pyx\u001b[0m in \u001b[0;36mpandas._libs.parsers.raise_parser_error\u001b[0;34m()\u001b[0m\n",
            "\u001b[0;31mParserError\u001b[0m: Error tokenizing data. C error: Expected 10 fields in line 13, saw 25\n"
          ]
        }
      ]
    },
    {
      "cell_type": "markdown",
      "source": [
        "*Курсив*"
      ],
      "metadata": {
        "id": "69Zv19TO1Efu"
      }
    },
    {
      "cell_type": "code",
      "source": [],
      "metadata": {
        "id": "sPEzrKv51RdK"
      },
      "execution_count": null,
      "outputs": []
    },
    {
      "cell_type": "markdown",
      "source": [
        "*другой вариант кода*"
      ],
      "metadata": {
        "id": "jS5J7rYm1K1t"
      }
    },
    {
      "cell_type": "code",
      "source": [
        "from google.colab import drive\n",
        "drive.mount('/content/drive/')"
      ],
      "metadata": {
        "id": "it84y5lclznu",
        "colab": {
          "base_uri": "https://localhost:8080/"
        },
        "outputId": "a0afd22d-6447-4f5c-ce90-09ddff3d4386"
      },
      "execution_count": null,
      "outputs": [
        {
          "output_type": "stream",
          "name": "stdout",
          "text": [
            "Drive already mounted at /content/drive/; to attempt to forcibly remount, call drive.mount(\"/content/drive/\", force_remount=True).\n"
          ]
        }
      ]
    },
    {
      "cell_type": "code",
      "source": [
        "from google.colab import drive\n",
        "drive.mount('/content/drive/')\n",
        "\n",
        "# Установка пакета TerraYolo\n",
        "!pip install TerraYolo\n",
        "\n",
        "import os\n",
        "import shutil\n",
        "import random\n",
        "import gdown\n",
        "import cv2\n",
        "import matplotlib.pyplot as plt\n",
        "from PIL import Image\n",
        "from TerraYolo.TerraYolo import TerraYoloV5\n",
        "# prompt: %pip install nltk\n",
        "\n",
        "%pip install nltk\n",
        "\n",
        "# Установка пакета gdown (если не установлен)\n",
        "!pip install gdown\n",
        "\n",
        "# Загрузка данных с Google Диска\n",
        "url = 'https://drive.google.com/uc?id=1FQfJhAlZ9CejJv9-noqVmqBGIR1GKTG1' # Замените FILE_ID на идентификатор файла на Google Диске\n",
        "output = 'dataset.zip'\n",
        "gdown.download(url, output, quiet=False)\n",
        "\n",
        "# Распаковка архива\n",
        "shutil.unpack_archive(output, 'dataset')\n",
        "os.remove(output)\n",
        "\n",
        "# Создание рабочего каталога и перемещение распакованных данных в него\n",
        "DATASET_DIR = '/content/dataset'\n",
        "os.makedirs(DATASET_DIR, exist_ok=True)\n",
        "shutil.move('dataset', DATASET_DIR)\n",
        "num_classes = len(os.listdir(os.path.join(DATASET_DIR, 'train', 'labels'))) # Получаем количество классов\n",
        "image_paths = [os.path.join(DATASET_DIR, 'train', 'images', img) for img in os.listdir(os.path.join(DATASET_DIR, 'train', 'images'))] # Получаем список путей к кадрам\n",
        "label_paths = [os.path.join(DATASET_DIR, 'train', 'labels', lbl) for lbl in os.listdir(os.path.join(DATASET_DIR, 'train', 'labels'))] # Получаем список путей к меткам\n",
        "\n",
        "# Создаем словарь с информацией о датасете\n",
        "data_dict = {\n",
        "    'train': {\n",
        "        'images': image_paths,\n",
        "        'labels': label_paths,\n",
        "        'nc': num_classes\n",
        "    }\n",
        "}\n",
        "\n",
        "# Сохраняем словарь в yaml-файл\n",
        "import yaml\n",
        "with open(os.path.join(DATASET_DIR, 'data.yaml'), 'w') as f:\n",
        "    yaml.safe_dump(data_dict, f)\n",
        "\n",
        "##Теперь мы можем инициализировать объект TerraYoloV5 и запустить обучение.\n",
        "\n",
        "# Инициализируем объект TerraYoloV5\n",
        "my_terra_yolov5 = TerraYoloV5(work_dir=DATASET_DIR)\n",
        "\n",
        "# Задаем параметры обучения\n",
        "train_dict = {\n",
        "    'epochs': 100, # Количество эпох\n",
        "    'batch_size': 16, # Размер мини-батча\n",
        "    'img_size': 640, # Размер кадра\n",
        "    'learning_rate': 0.0001, # Скорость обучения\n",
        "    'device': '0' # Устройство для обучения (например, '0' для использования GPU 0)\n",
        "}\n",
        "\n",
        "# Выводим число объектов в датасете\n",
        "my_terra_yolov5.count_labels(os.path.join(DATASET_DIR, 'data.yaml'))\n",
        "\n",
        "# В режиме 'train' запускаем обучение с задаными параметрами\n",
        "my_terra_yolov5.run(train_dict, exp_type='train')\n",
        "\n",
        "#После обучения, мы можем сохранить модель и использовать ее для предсказаний.\n",
        "\n",
        "# Сохраняем модель\n",
        "my_terra_yolov5.save_model()\n",
        "\n",
        "# Загружаем модель\n",
        "my_terra_yolov5.load_model()\n",
        "\n",
        "# Делаем предсказание на кадре\n",
        "image_path = os.path.join(DATASET_DIR, 'val', 'images', '000001.jpg') # Путь к кадру для предсказания\n",
        "image = cv2.imread(image_path)\n",
        "predictions = my_terra_yolov5.predict(image)\n",
        "\n",
        "# Отображаем кадр с предсказаниями\n",
        "plt.imshow(image)\n",
        "plt.axis('off')\n",
        "plt.show()"
      ],
      "metadata": {
        "id": "D1FLQ-eN0qns"
      },
      "execution_count": null,
      "outputs": []
    },
    {
      "cell_type": "code",
      "source": [
        "# Подключение Google Диска\n",
        "from google.colab import drive\n",
        "drive.mount('/content/drive/')\n",
        "\n",
        "# Установка необходимых пакетов\n",
        "!pip install TerraYolo\n",
        "!pip install gdown  # Для загрузки файлов с Google Диска\n",
        "!pip install nltk\n",
        "\n",
        "import os\n",
        "import shutil\n",
        "import gdown\n",
        "import zipfile\n",
        "import cv2\n",
        "import matplotlib.pyplot as plt\n",
        "from TerraYolo.TerraYolo import TerraYoloV5\n",
        "import yaml\n",
        "\n",
        "def download_dataset(url: str, output: str) -> None:\n",
        "    \"\"\"Скачивание датасета с Google Диска.\"\"\"\n",
        "    try:\n",
        "        gdown.download(url, output, quiet=False)\n",
        "    except Exception as e:\n",
        "        print(f\"Ошибка во время загрузки: {e}\")\n",
        "\n",
        "def unpack_dataset(: str) -> str:\n",
        "    \"\"\"Распаковка архива и удаление его.\"\"\"\n",
        "    if not zipfile.is_zipfile(zip_file):\n",
        "        raise ValueError(f\"{zip_file} не является zip-архивом.\")\n",
        "\n",
        "    # Распаковать архив\n",
        "    shutil.unpack_archive(zip_file, 'dataset')\n",
        "    os.remove(zip_file)  # Удалить архив после распаковки\n",
        "    return 'dataset'\n",
        "\n",
        "# Загрузка данных с Google Диска\n",
        "url = 'https://drive.google.com/uc?id=1VlHmQud2J2CYyRubR6IAzVf0O7XCDVyZ'  # Замените на свой ID файла\n",
        "output = 'dataset.zip'\n",
        "\n",
        "# Скачивание и распаковка датасета\n",
        "download_dataset(url, output)\n",
        "dataset_folder = unpack_dataset(output)\n",
        "\n",
        "# Создание рабочего каталога и перемещение распакованных данных в него\n",
        "DATASET_DIR = '/content/dataset'\n",
        "os.makedirs(DATASET_DIR, exist_ok=True)\n",
        "shutil.move(dataset_folder, DATASET_DIR)\n",
        "\n",
        "# Получение путей к изображениям и меткам\n",
        "num_classes = len(os.listdir(os.path.join(DATASET_DIR, 'train', 'labels')))\n",
        "image_paths = [os.path.join(DATASET_DIR, 'train', 'images', img) for img in os.listdir(os.path.join(DATASET_DIR, 'train', 'images'))]\n",
        "label_paths = [os.path.join(DATASET_DIR, 'train', 'labels', lbl) for lbl in os.listdir(os.path.join(DATASET_DIR, 'train', 'labels'))]\n",
        "\n",
        "# Проверка путей на пустоту\n",
        "if not image_paths or not label_paths:\n",
        "    raise ValueError(\"Списки image_paths и label_paths не могут быть пустыми.\")\n",
        "\n",
        "# Создание словаря с информацией о датасете\n",
        "data_dict = {\n",
        "    'train': {\n",
        "        'images': image_paths,\n",
        "        'labels': label_paths,\n",
        "        'nc': num_classes\n",
        "    }\n",
        "}\n",
        "\n",
        "# Сохранение информации о датасете в YAML-файл\n",
        "with open(os.path.join(DATASET_DIR, 'data.yaml'), 'w') as f:\n",
        "    yaml.safe_dump(data_dict, f)\n",
        "\n",
        "# Инициализация модели\n",
        "my_terra_yolov5 = TerraYoloV5(work_dir=DATASET_DIR)\n",
        "\n",
        "# Задание параметров обучения\n",
        "train_dict = {\n",
        "    'epochs': 100,  # Количество эпох\n",
        "    'batch_size': 16,  # Размер мини-батча\n",
        "    'img_size': 640,  # Размер изображения\n",
        "    'learning_rate': 0.0001,  # Скорость обучения\n",
        "    'device': '0'  # Используемое устройство (GPU 0)\n",
        "}\n",
        "\n",
        "# Подсчет объектов в дата-сете\n",
        "my_terra_yolov5.count_labels(os.path.join(DATASET_DIR, 'data.yaml'))\n",
        "\n",
        "# Запуск процесса обучения\n",
        "my_terra_yolov5.run(train_dict, exp_type='train')\n",
        "\n",
        "# Сохранение и загрузка модели\n",
        "my_terra_yolov5.save_model()\n",
        "my_terra_yolov5.load_model()\n",
        "\n",
        "# Предсказание на изображении\n",
        "image_path = os.path.join(DATASET_DIR, 'val', 'images', '000001.jpg')  # Путь к изображениям для предсказания\n",
        "if not os.path.exists(image_path):\n",
        "    raise FileNotFoundError(f\"Файл не найден: {image_path}\")\n",
        "\n",
        "# Чтение изображения\n",
        "image = cv2.imread(image_path)\n",
        "predictions = my_terra_yolov5.predict(image)\n",
        "\n",
        "# Отображение результата\n",
        "plt.imshow(cv2.cvtColor(image, cv2.COLOR_BGR2RGB))  # Преобразуем цветовое пространство\n",
        "plt.axis('off')  # Отключаем оси\n",
        "plt.show()\n",
        "\n"
      ],
      "metadata": {
        "colab": {
          "base_uri": "https://localhost:8080/",
          "height": 890
        },
        "id": "ZK6kNS-7bz8k",
        "outputId": "66bdb0b3-f9bb-4211-fec7-5343878dc593"
      },
      "execution_count": null,
      "outputs": [
        {
          "output_type": "stream",
          "name": "stdout",
          "text": [
            "Drive already mounted at /content/drive/; to attempt to forcibly remount, call drive.mount(\"/content/drive/\", force_remount=True).\n",
            "Requirement already satisfied: TerraYolo in /usr/local/lib/python3.10/dist-packages (0.0.33)\n",
            "Requirement already satisfied: gdown in /usr/local/lib/python3.10/dist-packages (5.1.0)\n",
            "Requirement already satisfied: beautifulsoup4 in /usr/local/lib/python3.10/dist-packages (from gdown) (4.12.3)\n",
            "Requirement already satisfied: filelock in /usr/local/lib/python3.10/dist-packages (from gdown) (3.16.0)\n",
            "Requirement already satisfied: requests[socks] in /usr/local/lib/python3.10/dist-packages (from gdown) (2.32.3)\n",
            "Requirement already satisfied: tqdm in /usr/local/lib/python3.10/dist-packages (from gdown) (4.66.5)\n",
            "Requirement already satisfied: soupsieve>1.2 in /usr/local/lib/python3.10/dist-packages (from beautifulsoup4->gdown) (2.6)\n",
            "Requirement already satisfied: charset-normalizer<4,>=2 in /usr/local/lib/python3.10/dist-packages (from requests[socks]->gdown) (3.3.2)\n",
            "Requirement already satisfied: idna<4,>=2.5 in /usr/local/lib/python3.10/dist-packages (from requests[socks]->gdown) (3.10)\n",
            "Requirement already satisfied: urllib3<3,>=1.21.1 in /usr/local/lib/python3.10/dist-packages (from requests[socks]->gdown) (2.0.7)\n",
            "Requirement already satisfied: certifi>=2017.4.17 in /usr/local/lib/python3.10/dist-packages (from requests[socks]->gdown) (2024.8.30)\n",
            "Requirement already satisfied: PySocks!=1.5.7,>=1.5.6 in /usr/local/lib/python3.10/dist-packages (from requests[socks]->gdown) (1.7.1)\n",
            "Requirement already satisfied: nltk in /usr/local/lib/python3.10/dist-packages (3.8.1)\n",
            "Requirement already satisfied: click in /usr/local/lib/python3.10/dist-packages (from nltk) (8.1.7)\n",
            "Requirement already satisfied: joblib in /usr/local/lib/python3.10/dist-packages (from nltk) (1.4.2)\n",
            "Requirement already satisfied: regex>=2021.8.3 in /usr/local/lib/python3.10/dist-packages (from nltk) (2024.9.11)\n",
            "Requirement already satisfied: tqdm in /usr/local/lib/python3.10/dist-packages (from nltk) (4.66.5)\n",
            "Ошибка во время загрузки: Failed to retrieve file url:\n",
            "\n",
            "\tCannot retrieve the public link of the file. You may need to change\n",
            "\tthe permission to 'Anyone with the link', or have had many accesses.\n",
            "\tCheck FAQ in https://github.com/wkentaro/gdown?tab=readme-ov-file#faq.\n",
            "\n",
            "You may still be able to access the file from the browser:\n",
            "\n",
            "\thttps://drive.google.com/uc?id=1VlHmQud2J2CYyRubR6IAzVf0O7XCDVyZ\n",
            "\n",
            "but Gdown can't. Please check connections and permissions.\n"
          ]
        },
        {
          "output_type": "stream",
          "name": "stderr",
          "text": [
            "/usr/local/lib/python3.10/dist-packages/gdown/download.py:32: MarkupResemblesLocatorWarning: The input looks more like a filename than markup. You may want to open this file and pass the filehandle into Beautiful Soup.\n",
            "  soup = bs4.BeautifulSoup(line, features=\"html.parser\")\n"
          ]
        },
        {
          "output_type": "error",
          "ename": "ValueError",
          "evalue": "dataset.zip не является zip-архивом.",
          "traceback": [
            "\u001b[0;31m---------------------------------------------------------------------------\u001b[0m",
            "\u001b[0;31mValueError\u001b[0m                                Traceback (most recent call last)",
            "\u001b[0;32m<ipython-input-40-3edd3064fb1b>\u001b[0m in \u001b[0;36m<cell line: 42>\u001b[0;34m()\u001b[0m\n\u001b[1;32m     40\u001b[0m \u001b[0;31m# Скачивание и распаковка датасета\u001b[0m\u001b[0;34m\u001b[0m\u001b[0;34m\u001b[0m\u001b[0m\n\u001b[1;32m     41\u001b[0m \u001b[0mdownload_dataset\u001b[0m\u001b[0;34m(\u001b[0m\u001b[0murl\u001b[0m\u001b[0;34m,\u001b[0m \u001b[0moutput\u001b[0m\u001b[0;34m)\u001b[0m\u001b[0;34m\u001b[0m\u001b[0;34m\u001b[0m\u001b[0m\n\u001b[0;32m---> 42\u001b[0;31m \u001b[0mdataset_folder\u001b[0m \u001b[0;34m=\u001b[0m \u001b[0munpack_dataset\u001b[0m\u001b[0;34m(\u001b[0m\u001b[0moutput\u001b[0m\u001b[0;34m)\u001b[0m\u001b[0;34m\u001b[0m\u001b[0;34m\u001b[0m\u001b[0m\n\u001b[0m\u001b[1;32m     43\u001b[0m \u001b[0;34m\u001b[0m\u001b[0m\n\u001b[1;32m     44\u001b[0m \u001b[0;31m# Создание рабочего каталога и перемещение распакованных данных в него\u001b[0m\u001b[0;34m\u001b[0m\u001b[0;34m\u001b[0m\u001b[0m\n",
            "\u001b[0;32m<ipython-input-40-3edd3064fb1b>\u001b[0m in \u001b[0;36munpack_dataset\u001b[0;34m(zip_file)\u001b[0m\n\u001b[1;32m     27\u001b[0m     \u001b[0;34m\"\"\"Распаковка архива и удаление его.\"\"\"\u001b[0m\u001b[0;34m\u001b[0m\u001b[0;34m\u001b[0m\u001b[0m\n\u001b[1;32m     28\u001b[0m     \u001b[0;32mif\u001b[0m \u001b[0;32mnot\u001b[0m \u001b[0mzipfile\u001b[0m\u001b[0;34m.\u001b[0m\u001b[0mis_zipfile\u001b[0m\u001b[0;34m(\u001b[0m\u001b[0mzip_file\u001b[0m\u001b[0;34m)\u001b[0m\u001b[0;34m:\u001b[0m\u001b[0;34m\u001b[0m\u001b[0;34m\u001b[0m\u001b[0m\n\u001b[0;32m---> 29\u001b[0;31m         \u001b[0;32mraise\u001b[0m \u001b[0mValueError\u001b[0m\u001b[0;34m(\u001b[0m\u001b[0;34mf\"{zip_file} не является zip-архивом.\"\u001b[0m\u001b[0;34m)\u001b[0m\u001b[0;34m\u001b[0m\u001b[0;34m\u001b[0m\u001b[0m\n\u001b[0m\u001b[1;32m     30\u001b[0m \u001b[0;34m\u001b[0m\u001b[0m\n\u001b[1;32m     31\u001b[0m     \u001b[0;31m# Распаковать архив\u001b[0m\u001b[0;34m\u001b[0m\u001b[0;34m\u001b[0m\u001b[0m\n",
            "\u001b[0;31mValueError\u001b[0m: dataset.zip не является zip-архивом."
          ]
        }
      ]
    },
    {
      "cell_type": "code",
      "source": [
        "# Сохраненные веса\n",
        "!ls /content/dataset/yolov5/runs/train/exp/weights"
      ],
      "metadata": {
        "id": "Wlj7_3i07-E8"
      },
      "execution_count": null,
      "outputs": []
    },
    {
      "cell_type": "code",
      "source": [
        "TRAIN_DIR = '/content/dataset'\n",
        "\n",
        "test_dict = dict()\n",
        "test_dict['source'] = TRAIN_DIR+'/valid/images/'\n",
        "test_dict['conf'] = 0.5                                     # порог вероятности обнаружения объекта\n",
        "test_dict['weights'] = my_terra_yolov5.exp_dict['train']['last_exp_path']+'/weights/best.pt' #путь к весам модели\n",
        "\n",
        "my_terra_yolov5.run(test_dict, exp_type='test')"
      ],
      "metadata": {
        "id": "nktyF77L8CX5"
      },
      "execution_count": null,
      "outputs": []
    },
    {
      "cell_type": "code",
      "source": [
        "train_dict['weights'] = my_terra_yolov5.exp_dict['train'][\n",
        "                                            'last_exp_path']+'/weights/last.pt' #веса последней эпохи\n",
        "train_dict['epochs'] = 5\n",
        "my_terra_yolov5.run(train_dict, exp_type='train') #запуск скрипта train  с параметрами train_dict"
      ],
      "metadata": {
        "id": "wC2lPUm_8Gp8"
      },
      "execution_count": null,
      "outputs": []
    },
    {
      "cell_type": "code",
      "source": [
        "#путь к лучшим весам модели\n",
        "test_dict['weights'] = my_terra_yolov5.exp_dict['train'][\n",
        "                                            'last_exp_path']+'/weights/best.pt'\n",
        "\n",
        "my_terra_yolov5.run(test_dict, exp_type='test') #запускаем скрипт test с параметрами test_dict"
      ],
      "metadata": {
        "id": "dP5Dv6x08P8T"
      },
      "execution_count": null,
      "outputs": []
    },
    {
      "cell_type": "code",
      "source": [
        "my_terra_yolov5.show_test_images(n_samples=7)"
      ],
      "metadata": {
        "id": "AmuLxXwd8aod"
      },
      "execution_count": null,
      "outputs": []
    },
    {
      "cell_type": "code",
      "source": [
        "test_dict['conf'] = 0.3 #снизим порог\n",
        "my_terra_yolov5.run(test_dict, exp_type='test')\n",
        "\n",
        "my_terra_yolov5.show_test_images(n_samples=7)"
      ],
      "metadata": {
        "id": "S3BXkMRr8eBl"
      },
      "execution_count": null,
      "outputs": []
    },
    {
      "cell_type": "code",
      "source": [
        "val_dict=dict()\n",
        "val_dict['data'] = train_dict['data']\n",
        "\n",
        "val_dict['weights'] = os.path.abspath(\n",
        "        my_terra_yolov5.exp_dict['train']['last_exp_path']+'/weights/last.pt')\n",
        "my_terra_yolov5.run(val_dict, exp_type='val')"
      ],
      "metadata": {
        "id": "NWgdC13Q8lBR"
      },
      "execution_count": null,
      "outputs": []
    },
    {
      "cell_type": "code",
      "source": [
        "my_terra_yolov5.show_val_results(img_path=None, img_list=['confusion_matrix.png', 'PR_curve.png'])"
      ],
      "metadata": {
        "id": "2fs7yw1M8qUl"
      },
      "execution_count": null,
      "outputs": []
    },
    {
      "cell_type": "code",
      "source": [
        "from google.colab import drive # импорт модуля для работы с диском\n",
        "drive.mount('/content/drive/') # монтируем свой диск в папку drive рабочего каталога"
      ],
      "metadata": {
        "id": "cV8vIrCs8uXu"
      },
      "execution_count": null,
      "outputs": []
    },
    {
      "cell_type": "code",
      "source": [
        "my_drv_path = '/content/drive/MyDrive/' #сохраним путь к нашему диску в переменную"
      ],
      "metadata": {
        "id": "hiiA4KE680eG"
      },
      "execution_count": null,
      "outputs": []
    },
    {
      "cell_type": "code",
      "source": [
        "!mkdir {my_drv_path}/yolo_weights/"
      ],
      "metadata": {
        "id": "6EGjwoAJ81NV"
      },
      "execution_count": null,
      "outputs": []
    },
    {
      "cell_type": "code",
      "source": [
        "# сохраним путь в переменную\n",
        "best_weights_path = my_terra_yolov5.exp_dict['train']['last_exp_path']+'/weights/best.pt'\n",
        "# и скопируем веса\n",
        "!cp {best_weights_path} {my_drv_path+'/yolo_weights/'}"
      ],
      "metadata": {
        "id": "xgUjTghf81_U"
      },
      "execution_count": null,
      "outputs": []
    },
    {
      "cell_type": "code",
      "source": [
        "!ls {my_drv_path+'/yolo_weights/'}"
      ],
      "metadata": {
        "id": "KvB9QGgm9J1g"
      },
      "execution_count": null,
      "outputs": []
    },
    {
      "cell_type": "code",
      "source": [],
      "metadata": {
        "id": "va0NXwcX9KpC"
      },
      "execution_count": null,
      "outputs": []
    }
  ]
}